{
 "cells": [
  {
   "cell_type": "markdown",
   "metadata": {},
   "source": [
    "# Predicting Renfe Ticket Prices Using AWS XGBoost\n",
    "\n",
    "\n",
    "---\n",
    "\n",
    "In this project I will use AWS SageMaker's build-in XGBoost algorithm to analyze the Renfe (High-speed train) ticket prices. The dataset is from [Kaggle](https://www.kaggle.com/thegurus/spanish-high-speed-rail-system-ticket-pricing). \n",
    "\n",
    "## Analysis Process\n",
    "\n",
    "The following are the key steps of the analysis process.\n",
    "\n",
    "0. Setting up the notebook\n",
    "1. Read the data into notebook and prepare the data\n",
    "2. Data exploration\n",
    "3. Create dummy variables for the categorical variables\n",
    "4. Upload csv files to S3\n",
    "5. Build and train the XGBoost model\n",
    "6. Use the trained model to make predictions on test data\n",
    "7. Evaluate the model\n",
    "8. Compare the model with LGBMRegressor model\n"
   ]
  },
  {
   "cell_type": "markdown",
   "metadata": {},
   "source": [
    "## Step 0: Setting up the notebook\n",
    "\n",
    "Import libraries for data preparation and exploratory analysis."
   ]
  },
  {
   "cell_type": "code",
   "execution_count": 1,
   "metadata": {},
   "outputs": [
    {
     "name": "stdout",
     "output_type": "stream",
     "text": [
      "Collecting xgboost\n",
      "\u001b[?25l  Downloading https://files.pythonhosted.org/packages/c1/24/5fe7237b2eca13ee0cfb100bec8c23f4e69ce9df852a64b0493d49dae4e0/xgboost-0.90-py2.py3-none-manylinux1_x86_64.whl (142.8MB)\n",
      "\u001b[K    100% |████████████████████████████████| 142.8MB 344kB/s eta 0:00:01   47% |███████████████▎                | 68.4MB 53.3MB/s eta 0:00:02\n",
      "\u001b[?25hRequirement already satisfied: numpy in /home/ec2-user/anaconda3/envs/pytorch_p36/lib/python3.6/site-packages (from xgboost) (1.15.4)\n",
      "Requirement already satisfied: scipy in /home/ec2-user/anaconda3/envs/pytorch_p36/lib/python3.6/site-packages (from xgboost) (1.1.0)\n",
      "\u001b[31mfastai 1.0.52 requires nvidia-ml-py3, which is not installed.\u001b[0m\n",
      "\u001b[31mthinc 6.12.1 has requirement msgpack<0.6.0,>=0.5.6, but you'll have msgpack 0.6.0 which is incompatible.\u001b[0m\n",
      "Installing collected packages: xgboost\n",
      "Successfully installed xgboost-0.90\n",
      "\u001b[33mYou are using pip version 10.0.1, however version 19.1.1 is available.\n",
      "You should consider upgrading via the 'pip install --upgrade pip' command.\u001b[0m\n"
     ]
    }
   ],
   "source": [
    "!pip install xgboost"
   ]
  },
  {
   "cell_type": "code",
   "execution_count": 2,
   "metadata": {},
   "outputs": [],
   "source": [
    "import os\n",
    "import datetime\n",
    "\n",
    "import numpy as np\n",
    "import pandas as pd\n",
    "\n",
    "import matplotlib.pyplot as plt\n",
    "%matplotlib inline\n",
    "\n",
    "import sklearn.model_selection\n",
    "from sklearn.model_selection import GridSearchCV\n",
    "\n",
    "from sklearn.metrics import mean_squared_error\n",
    "import xgboost as xgb\n",
    "from xgboost import XGBRegressor\n",
    "\n",
    "import scipy.stats as stats\n",
    "\n",
    "import seaborn as sns\n",
    "sns.set_context(\"paper\", font_scale=1.3)\n",
    "sns.set_style('white')\n",
    "import warnings\n",
    "warnings.filterwarnings('ignore')\n",
    "\n",
    "pd.options.display.float_format = '{:,.2f}'.format"
   ]
  },
  {
   "cell_type": "markdown",
   "metadata": {},
   "source": [
    "Import SageMaker modules. "
   ]
  },
  {
   "cell_type": "code",
   "execution_count": 26,
   "metadata": {},
   "outputs": [],
   "source": [
    "import sagemaker\n",
    "from sagemaker import get_execution_role\n",
    "from sagemaker.amazon.amazon_estimator import get_image_uri\n",
    "from sagemaker.predictor import csv_serializer\n",
    "\n",
    "session = sagemaker.Session()\n",
    "role = get_execution_role()"
   ]
  },
  {
   "cell_type": "markdown",
   "metadata": {},
   "source": [
    "## Step 1: Read the data into Notebook and prepare the data\n",
    "\n",
    "The data is in CSV. Preparation includes dropping the missing data rows and extracting Year, Month, Day, Day of Week, Hour information. By intuition these columns are relevant to ticket prices."
   ]
  },
  {
   "cell_type": "code",
   "execution_count": 3,
   "metadata": {},
   "outputs": [
    {
     "data": {
      "text/html": [
       "<div>\n",
       "<style scoped>\n",
       "    .dataframe tbody tr th:only-of-type {\n",
       "        vertical-align: middle;\n",
       "    }\n",
       "\n",
       "    .dataframe tbody tr th {\n",
       "        vertical-align: top;\n",
       "    }\n",
       "\n",
       "    .dataframe thead th {\n",
       "        text-align: right;\n",
       "    }\n",
       "</style>\n",
       "<table border=\"1\" class=\"dataframe\">\n",
       "  <thead>\n",
       "    <tr style=\"text-align: right;\">\n",
       "      <th></th>\n",
       "      <th>Unnamed: 0</th>\n",
       "      <th>insert_date</th>\n",
       "      <th>origin</th>\n",
       "      <th>destination</th>\n",
       "      <th>start_date</th>\n",
       "      <th>end_date</th>\n",
       "      <th>train_type</th>\n",
       "      <th>price</th>\n",
       "      <th>train_class</th>\n",
       "      <th>fare</th>\n",
       "    </tr>\n",
       "  </thead>\n",
       "  <tbody>\n",
       "    <tr>\n",
       "      <th>0</th>\n",
       "      <td>0</td>\n",
       "      <td>2019-04-19 05:31:43</td>\n",
       "      <td>MADRID</td>\n",
       "      <td>SEVILLA</td>\n",
       "      <td>2019-05-29 06:20:00</td>\n",
       "      <td>2019-05-29 09:16:00</td>\n",
       "      <td>AV City</td>\n",
       "      <td>38.55</td>\n",
       "      <td>Turista</td>\n",
       "      <td>Promo</td>\n",
       "    </tr>\n",
       "    <tr>\n",
       "      <th>1</th>\n",
       "      <td>1</td>\n",
       "      <td>2019-04-19 05:31:43</td>\n",
       "      <td>MADRID</td>\n",
       "      <td>SEVILLA</td>\n",
       "      <td>2019-05-29 07:00:00</td>\n",
       "      <td>2019-05-29 09:32:00</td>\n",
       "      <td>AVE</td>\n",
       "      <td>53.40</td>\n",
       "      <td>Turista</td>\n",
       "      <td>Promo</td>\n",
       "    </tr>\n",
       "    <tr>\n",
       "      <th>2</th>\n",
       "      <td>2</td>\n",
       "      <td>2019-04-19 05:31:43</td>\n",
       "      <td>MADRID</td>\n",
       "      <td>SEVILLA</td>\n",
       "      <td>2019-05-29 07:30:00</td>\n",
       "      <td>2019-05-29 09:51:00</td>\n",
       "      <td>AVE</td>\n",
       "      <td>47.30</td>\n",
       "      <td>Turista</td>\n",
       "      <td>Promo</td>\n",
       "    </tr>\n",
       "    <tr>\n",
       "      <th>3</th>\n",
       "      <td>3</td>\n",
       "      <td>2019-04-19 05:31:43</td>\n",
       "      <td>MADRID</td>\n",
       "      <td>SEVILLA</td>\n",
       "      <td>2019-05-29 08:00:00</td>\n",
       "      <td>2019-05-29 10:32:00</td>\n",
       "      <td>AVE</td>\n",
       "      <td>69.40</td>\n",
       "      <td>Preferente</td>\n",
       "      <td>Promo</td>\n",
       "    </tr>\n",
       "    <tr>\n",
       "      <th>4</th>\n",
       "      <td>4</td>\n",
       "      <td>2019-04-19 05:31:43</td>\n",
       "      <td>MADRID</td>\n",
       "      <td>SEVILLA</td>\n",
       "      <td>2019-05-29 08:30:00</td>\n",
       "      <td>2019-05-29 11:14:00</td>\n",
       "      <td>ALVIA</td>\n",
       "      <td>nan</td>\n",
       "      <td>Turista</td>\n",
       "      <td>Promo</td>\n",
       "    </tr>\n",
       "  </tbody>\n",
       "</table>\n",
       "</div>"
      ],
      "text/plain": [
       "   Unnamed: 0          insert_date  origin destination           start_date  \\\n",
       "0           0  2019-04-19 05:31:43  MADRID     SEVILLA  2019-05-29 06:20:00   \n",
       "1           1  2019-04-19 05:31:43  MADRID     SEVILLA  2019-05-29 07:00:00   \n",
       "2           2  2019-04-19 05:31:43  MADRID     SEVILLA  2019-05-29 07:30:00   \n",
       "3           3  2019-04-19 05:31:43  MADRID     SEVILLA  2019-05-29 08:00:00   \n",
       "4           4  2019-04-19 05:31:43  MADRID     SEVILLA  2019-05-29 08:30:00   \n",
       "\n",
       "              end_date train_type  price train_class   fare  \n",
       "0  2019-05-29 09:16:00    AV City  38.55     Turista  Promo  \n",
       "1  2019-05-29 09:32:00        AVE  53.40     Turista  Promo  \n",
       "2  2019-05-29 09:51:00        AVE  47.30     Turista  Promo  \n",
       "3  2019-05-29 10:32:00        AVE  69.40  Preferente  Promo  \n",
       "4  2019-05-29 11:14:00      ALVIA    nan     Turista  Promo  "
      ]
     },
     "execution_count": 3,
     "metadata": {},
     "output_type": "execute_result"
    }
   ],
   "source": [
    "# Read in the dataset\n",
    "data=pd.read_csv('../data/renfe.csv')\n",
    "data.head()"
   ]
  },
  {
   "cell_type": "code",
   "execution_count": 4,
   "metadata": {},
   "outputs": [],
   "source": [
    "# Drop the rowid and insert_date columns as they don't add value to the prediction model\n",
    "# Also drop the missing values\n",
    "# Do this at the beginning to save storage and memory\n",
    "data=data.drop(data.columns[[0,1]], axis=1)\n",
    "data=data.dropna()"
   ]
  },
  {
   "cell_type": "code",
   "execution_count": 5,
   "metadata": {},
   "outputs": [
    {
     "name": "stdout",
     "output_type": "stream",
     "text": [
      "Start time range: 2019-04-12 05:50:00 -- 2019-07-07 22:14:00\n",
      "End time range: 2019-04-12 08:38:00 -- 2019-07-08 04:31:00\n"
     ]
    }
   ],
   "source": [
    "# Convert date columns for extracting components later.\n",
    "# Calculate the duration hours\n",
    "data['start_dt'] = [datetime.datetime.strptime(d, \"%Y-%m-%d %H:%M:%S\") for d in data[\"start_date\"]]\n",
    "data['end_dt'] = [datetime.datetime.strptime(d, \"%Y-%m-%d %H:%M:%S\") for d in data[\"end_date\"]]\n",
    "data['duration_hours']=(data['end_dt']-data['start_dt']).astype('timedelta64[h]')\n",
    "\n",
    "print(f\"Start time range: {data['start_dt'].min()} -- {data['start_dt'].max()}\")\n",
    "print(f\"End time range: {data['end_dt'].min()} -- {data['end_dt'].max()}\")"
   ]
  },
  {
   "cell_type": "code",
   "execution_count": 6,
   "metadata": {},
   "outputs": [],
   "source": [
    "# Create origin destination pair. \n",
    "data['od']=data['origin']+'_'+data['destination']\n",
    "\n",
    "# Extract components in the start date column. No need for end date since they are correlated.\n",
    "data['start_month']=[d.month for d in data['start_dt']]\n",
    "data['start_day']=[d.day for d in data['start_dt']]\n",
    "data['start_weekday']=[d.dayofweek for d in data['start_dt']]\n",
    "data['start_hour']=[d.hour for d in data['start_dt']]\n",
    "\n",
    "data=data.drop(['start_dt', 'start_date', 'end_dt', 'end_date'], axis=1)"
   ]
  },
  {
   "cell_type": "markdown",
   "metadata": {},
   "source": [
    "## Step 2: Data Exploration\n",
    "\n",
    "Perform univariate and multi-variate data exploration. Try to understand the overal distribution of ticket prices, start hours, and how other columns are related to the ticket prices. "
   ]
  },
  {
   "cell_type": "code",
   "execution_count": 22,
   "metadata": {},
   "outputs": [
    {
     "data": {
      "image/png": "[encoded data removed]",
      "text/plain": [
       "<Figure size 1008x288 with 1 Axes>"
      ]
     },
     "metadata": {},
     "output_type": "display_data"
    }
   ],
   "source": [
    "# Price distribution across all data\n",
    "plt.figure(figsize = (14, 4))\n",
    "n, bins, patches = plt.hist(data['price'], 100, facecolor='blue', alpha=0.75, ec='white')\n",
    "plt.xlabel('Ticket Price')\n",
    "plt.title('Ticket Price Distribution')\n",
    "plt.show();"
   ]
  },
  {
   "cell_type": "code",
   "execution_count": 23,
   "metadata": {},
   "outputs": [],
   "source": [
    "# Analyze the high price tickets\n",
    "s1 = data[['price','train_type', 'train_class', 'start_month', 'fare']]\n",
    "s1=s1[s1['price']>130]"
   ]
  },
  {
   "cell_type": "code",
   "execution_count": 24,
   "metadata": {},
   "outputs": [
    {
     "data": {
      "image/png": "[encoded data removed]",
      "text/plain": [
       "<Figure size 1008x576 with 4 Axes>"
      ]
     },
     "metadata": {},
     "output_type": "display_data"
    }
   ],
   "source": [
    "# These are for the high price ticket only.\n",
    "plt.figure(figsize=(14,8))\n",
    "\n",
    "plt.subplot(2,2,1)\n",
    "sns.boxplot(x=\"train_class\", y=\"price\", data=s1)\n",
    "plt.xlabel('Train Class')\n",
    "plt.title('Ticket Price by Train Class')\n",
    "sns.despine(left=True)\n",
    "plt.tight_layout()\n",
    "\n",
    "plt.subplot(2,2,2)\n",
    "sns.boxplot(x=\"train_type\", y=\"price\", data=s1)\n",
    "plt.xlabel('Train Type')\n",
    "plt.title('Ticket Price by Train Type')\n",
    "sns.despine(left=True)\n",
    "plt.tight_layout()\n",
    "\n",
    "plt.subplot(2,2,3)\n",
    "sns.boxplot(x=\"fare\", y=\"price\", data=s1)\n",
    "plt.xlabel('Fare')\n",
    "plt.title('Ticket Price by Fare')\n",
    "sns.despine(left=True)\n",
    "plt.tight_layout()\n",
    "\n",
    "plt.subplot(2,2,4)\n",
    "sns.boxplot(x=\"start_month\", y=\"price\", data=s1)\n",
    "plt.xlabel('Month')\n",
    "plt.title('Ticket Price by Month')\n",
    "sns.despine(left=True)\n",
    "plt.tight_layout()\n",
    "\n",
    "plt.show()"
   ]
  },
  {
   "cell_type": "code",
   "execution_count": 25,
   "metadata": {},
   "outputs": [
    {
     "data": {
      "image/png": "[encoded data removed]",
      "text/plain": [
       "<Figure size 1008x288 with 1 Axes>"
      ]
     },
     "metadata": {},
     "output_type": "display_data"
    }
   ],
   "source": [
    "# Distribution of no of starts by hour for all tickets\n",
    "plt.figure(figsize = (14, 4))\n",
    "n, bins, patches = plt.hist(data['start_hour'], 24, facecolor='blue', alpha=0.75, ec='white')\n",
    "plt.xlabel('Start Hour')\n",
    "plt.title('Histogram of start hour')\n",
    "plt.show();"
   ]
  },
  {
   "cell_type": "code",
   "execution_count": 26,
   "metadata": {},
   "outputs": [
    {
     "data": {
      "image/png": "[encoded data removed]",
      "text/plain": [
       "<Figure size 1008x576 with 4 Axes>"
      ]
     },
     "metadata": {},
     "output_type": "display_data"
    }
   ],
   "source": [
    "# Price by other variables for all tickets\n",
    "plt.figure(figsize=(14,8))\n",
    "\n",
    "plt.subplot(2,2,1)\n",
    "# plt.subplots_adjust(wspace=10.4)\n",
    "sns.boxplot(x=\"start_month\", y=\"price\", data=data)\n",
    "plt.xlabel('Start Month')\n",
    "plt.title('Box plot of Ticket Price')\n",
    "sns.despine(left=True)\n",
    "plt.tight_layout()\n",
    "\n",
    "plt.subplot(2,2,2)\n",
    "sns.boxplot(x=\"start_day\", y=\"price\", data=data)\n",
    "plt.xlabel('Day')\n",
    "plt.title('Box plot of Ticket Price')\n",
    "sns.despine(left=True)\n",
    "plt.tight_layout();\n",
    "\n",
    "plt.subplot(2,2,3)\n",
    "sns.boxplot(x=\"start_weekday\", y=\"price\", data=data)\n",
    "plt.xlabel('Weekday')\n",
    "plt.title('Box plot of Ticket Price')\n",
    "sns.despine(left=True)\n",
    "plt.tight_layout();\n",
    "\n",
    "plt.subplot(2,2,4)\n",
    "sns.boxplot(x=\"start_hour\", y=\"price\", data=data)\n",
    "plt.xlabel('Hour')\n",
    "plt.title('Box plot of Ticket Price')\n",
    "sns.despine(left=True)\n",
    "plt.tight_layout();"
   ]
  },
  {
   "cell_type": "code",
   "execution_count": 27,
   "metadata": {},
   "outputs": [],
   "source": [
    "def get_f_p(df, var, idx_arr):\n",
    "    \"\"\"ANOVA - Get F statistic and p value\"\"\"\n",
    "    a={}\n",
    "    for i in df[var].unique():\n",
    "        a[i]=df.loc[df[var]==i, 'price']\n",
    "\n",
    "    groups=[a[i] for i in idx_arr]\n",
    "    \n",
    "    f_stat, p_value=stats.f_oneway(*groups)\n",
    "    print(f'F Stat is: {f_stat}, P Value is: {p_value}.')"
   ]
  },
  {
   "cell_type": "code",
   "execution_count": 28,
   "metadata": {},
   "outputs": [
    {
     "name": "stdout",
     "output_type": "stream",
     "text": [
      "F Stat is: 18809.292953094857, P Value is: 0.0.\n",
      "F Stat is: 1199.4208299602747, P Value is: 0.0.\n",
      "F Stat is: 6937.6136853834405, P Value is: 0.0.\n",
      "F Stat is: 6873.574293091011, P Value is: 0.0.\n"
     ]
    }
   ],
   "source": [
    "# Perform Anova Tests on select variables\n",
    "get_f_p(data, 'start_month', [4,5,6,7])\n",
    "get_f_p(data, 'start_day', [2, 4, 6, 8, 10, 12, 14, 16])\n",
    "get_f_p(data, 'start_weekday', [0, 1, 2, 3, 4, 5, 6])\n",
    "get_f_p(data, 'start_hour', [5, 7, 9, 11, 13])"
   ]
  },
  {
   "cell_type": "code",
   "execution_count": 29,
   "metadata": {},
   "outputs": [
    {
     "data": {
      "image/png": "[encoded data removed]",
      "text/plain": [
       "<Figure size 1008x576 with 8 Axes>"
      ]
     },
     "metadata": {},
     "output_type": "display_data"
    }
   ],
   "source": [
    "# Price by origin/destination \n",
    "pd.pivot_table(data, values = \"price\", columns = \"od\", \n",
    "               index = \"start_weekday\").plot.bar(subplots = True, figsize=(14,8), layout=(2,4), sharey=True);"
   ]
  },
  {
   "cell_type": "code",
   "execution_count": 30,
   "metadata": {},
   "outputs": [
    {
     "data": {
      "text/plain": [
       "<matplotlib.axes._subplots.AxesSubplot at 0x7fb2b7ce06d8>"
      ]
     },
     "execution_count": 30,
     "metadata": {},
     "output_type": "execute_result"
    },
    {
     "data": {
      "image/png": "[encoded data removed]",
      "text/plain": [
       "<Figure size 720x720 with 2 Axes>"
      ]
     },
     "metadata": {},
     "output_type": "display_data"
    }
   ],
   "source": [
    "# price by origin destination. Light color means high.\n",
    "plt.figure(figsize=(10,10))\n",
    "\n",
    "sns.heatmap(pd.pivot_table(data, values = \"price\", columns = \"destination\", \n",
    "               index = \"origin\"), annot=True)"
   ]
  },
  {
   "cell_type": "markdown",
   "metadata": {},
   "source": [
    "### Step 3: Create dummy variables\n",
    "\n",
    "Create dummy variables for the select columns. Finalize the input variables for the model."
   ]
  },
  {
   "cell_type": "code",
   "execution_count": 14,
   "metadata": {},
   "outputs": [
    {
     "data": {
      "text/plain": [
       "array(['origin', 'destination', 'train_type', 'price', 'train_class',\n",
       "       'fare', 'duration_hours', 'od', 'start_month', 'start_day',\n",
       "       'start_weekday', 'start_hour'], dtype=object)"
      ]
     },
     "execution_count": 14,
     "metadata": {},
     "output_type": "execute_result"
    }
   ],
   "source": [
    "data.columns.values"
   ]
  },
  {
   "cell_type": "code",
   "execution_count": 7,
   "metadata": {},
   "outputs": [],
   "source": [
    "# Create a small stratified dataset just for hyper parameter tuning. \n",
    "df=data.copy()\n",
    "df_small=data.groupby(['od', 'train_type', 'train_class', 'fare'], group_keys=False).apply(lambda x: x.sample(min(len(x), 5000))).reset_index(drop=True)"
   ]
  },
  {
   "cell_type": "code",
   "execution_count": 8,
   "metadata": {},
   "outputs": [],
   "source": [
    "# One hot encode the categorical variables\n",
    "dummy_fields = ['od', 'train_type', 'train_class', 'fare', 'start_month', \n",
    "                'start_day', 'start_weekday', 'start_hour']\n",
    "\n",
    "for each in dummy_fields:\n",
    "    dummies = pd.get_dummies(df[each], prefix=each, drop_first=False)\n",
    "    df = pd.concat([df, dummies], axis=1)\n",
    "    \n",
    "    dummies_s = pd.get_dummies(df_small[each], prefix=each, drop_first=False)\n",
    "    df_small = pd.concat([df_small, dummies_s], axis=1)\n",
    "\n",
    "\n",
    "fields_to_drop = ['origin', 'destination', 'od', 'train_type', 'train_class',\n",
    "       'fare', 'start_month', 'start_day', 'start_weekday', 'start_hour']\n",
    "df = df.drop(fields_to_drop, axis=1)\n",
    "df_small = df_small.drop(fields_to_drop, axis=1)"
   ]
  },
  {
   "cell_type": "code",
   "execution_count": 9,
   "metadata": {},
   "outputs": [
    {
     "name": "stdout",
     "output_type": "stream",
     "text": [
      "df: (2269090, 99)\n",
      "df_small: (415799, 99)\n"
     ]
    }
   ],
   "source": [
    "print(f'df: {df.shape}')\n",
    "print(f'df_small: {df_small.shape}')"
   ]
  },
  {
   "cell_type": "code",
   "execution_count": 21,
   "metadata": {},
   "outputs": [],
   "source": [
    "X_pd = df.drop(columns=['price'])\n",
    "Y_pd = df['price']"
   ]
  },
  {
   "cell_type": "code",
   "execution_count": 22,
   "metadata": {},
   "outputs": [],
   "source": [
    "# Split the dataset into 2/3 training and 1/3 testing sets.\n",
    "X_train, X_test, Y_train, Y_test = sklearn.model_selection.train_test_split(X_pd, Y_pd, test_size=0.33)\n",
    "\n",
    "# Split the training set further into 2/3 training and 1/3 validation sets.\n",
    "X_train, X_val, Y_train, Y_val = sklearn.model_selection.train_test_split(X_train, Y_train, test_size=0.33)"
   ]
  },
  {
   "cell_type": "code",
   "execution_count": 23,
   "metadata": {},
   "outputs": [],
   "source": [
    "data_dir = '../data/renfe'\n",
    "if not os.path.exists(data_dir):\n",
    "    os.makedirs(data_dir)"
   ]
  },
  {
   "cell_type": "code",
   "execution_count": 24,
   "metadata": {},
   "outputs": [],
   "source": [
    "# Create csv files on local instance. Don't include Y in test data.\n",
    "X_test.to_csv(os.path.join(data_dir, 'test.csv'), header=False, index=False)\n",
    "\n",
    "pd.concat([Y_val, X_val], axis=1).to_csv(os.path.join(data_dir, 'validation.csv'), header=False, index=False)\n",
    "pd.concat([Y_train, X_train], axis=1).to_csv(os.path.join(data_dir, 'train.csv'), header=False, index=False)"
   ]
  },
  {
   "cell_type": "markdown",
   "metadata": {},
   "source": [
    "## Step 3.5: Build XGBoost model using SKLearn and tune the hyperparameters\n",
    "\n",
    "Build an XGBoost model in sklearn and use the tools available to tune the hyperparameters. This section is added based on reviewer's suggestion."
   ]
  },
  {
   "cell_type": "code",
   "execution_count": 10,
   "metadata": {},
   "outputs": [],
   "source": [
    "# Prepare data for hyper parameters tuning\n",
    "X_pd_small = df_small.drop(columns=['price'])\n",
    "Y_pd_small = df_small['price']\n",
    "\n",
    "X_train_small, X_test_small, Y_train_small, Y_test_small = sklearn.model_selection.train_test_split(\n",
    "    X_pd_small, Y_pd_small, test_size=0.33)\n",
    "\n",
    "X_train_small, X_val_small, Y_train_small, Y_val_small = sklearn.model_selection.train_test_split(\n",
    "    X_train_small, Y_train_small, test_size=0.33)"
   ]
  },
  {
   "cell_type": "code",
   "execution_count": null,
   "metadata": {},
   "outputs": [
    {
     "name": "stdout",
     "output_type": "stream",
     "text": [
      "[13:34:24] WARNING: /workspace/src/objective/regression_obj.cu:152: reg:linear is now deprecated in favor of reg:squarederror.\n",
      "[13:36:58] WARNING: /workspace/src/objective/regression_obj.cu:152: reg:linear is now deprecated in favor of reg:squarederror.\n",
      "[13:39:30] WARNING: /workspace/src/objective/regression_obj.cu:152: reg:linear is now deprecated in favor of reg:squarederror.\n",
      "[13:42:02] WARNING: /workspace/src/objective/regression_obj.cu:152: reg:linear is now deprecated in favor of reg:squarederror.\n",
      "[13:44:32] WARNING: /workspace/src/objective/regression_obj.cu:152: reg:linear is now deprecated in favor of reg:squarederror.\n",
      "[13:47:03] WARNING: /workspace/src/objective/regression_obj.cu:152: reg:linear is now deprecated in favor of reg:squarederror.\n",
      "[13:49:36] WARNING: /workspace/src/objective/regression_obj.cu:152: reg:linear is now deprecated in favor of reg:squarederror.\n",
      "[13:52:07] WARNING: /workspace/src/objective/regression_obj.cu:152: reg:linear is now deprecated in favor of reg:squarederror.\n",
      "[13:54:38] WARNING: /workspace/src/objective/regression_obj.cu:152: reg:linear is now deprecated in favor of reg:squarederror.\n"
     ]
    }
   ],
   "source": [
    "# Hyper parameters grid\n",
    "# params = {'min_child_weight':[5,6], 'gamma':[i/10.0 for i in range(3,6)],  'subsample':[i/10.0 for i in range(6,9)],\n",
    "# 'colsample_bytree':[i/10.0 for i in range(6,9)], 'max_depth': [5,6,7]}\n",
    "\n",
    "# params = {'max_depth': [5,6,7]}\n",
    "# params = {'learning_rate': [0.01, 0.1, 0.2]}\n",
    "params = {'min_child_weight':[5,7,9],\n",
    "          'max_depth': [7,8,10],  \n",
    "          'learning_rate': [0.2, 0.9],\n",
    "          'subsample':[0.5],\n",
    "          'n_estimators': [500]\n",
    "         }\n",
    "\n",
    "# Initialize XGB and GridSearch\n",
    "xgb = XGBRegressor(nthread=-1) \n",
    "\n",
    "grid = GridSearchCV(xgb, params, scoring='explained_variance', cv=3)\n",
    "grid.fit(X_train_small, Y_train_small)"
   ]
  },
  {
   "cell_type": "code",
   "execution_count": null,
   "metadata": {},
   "outputs": [
    {
     "name": "stdout",
     "output_type": "stream",
     "text": [
      "\tBest Estimator\t{'learning_rate': 0.2, 'max_depth': 10, 'min_child_weight': 5, 'n_estimators': 500, 'subsample': 0.5}\t0.988220\n"
     ]
    }
   ],
   "source": [
    "best_params = grid.best_params_\n",
    "model = grid.best_estimator_\n",
    "score = grid.best_score_\n",
    "\n",
    "print('\\tBest Estimator\\t%s\\t%f' % (str(best_params) ,abs(score)))"
   ]
  },
  {
   "cell_type": "code",
   "execution_count": 17,
   "metadata": {},
   "outputs": [
    {
     "name": "stdout",
     "output_type": "stream",
     "text": [
      "RMSE: 3.175479\n"
     ]
    }
   ],
   "source": [
    "sklearn_xgb_y_pred=grid.best_estimator_.predict(X_test_small)\n",
    "sklearn_xgb_rmse = np.sqrt(mean_squared_error(Y_test_small, sklearn_xgb_y_pred))\n",
    "print(\"RMSE: %f\" % (sklearn_xgb_rmse))"
   ]
  },
  {
   "cell_type": "code",
   "execution_count": 18,
   "metadata": {},
   "outputs": [],
   "source": [
    "from sklearn.model_selection import learning_curve\n",
    "from sklearn.model_selection import ShuffleSplit\n",
    "\n",
    "\n",
    "def plot_learning_curve(estimator, title, X, y, ylim=None, cv=None,\n",
    "                        n_jobs=None, train_sizes=np.linspace(.1, 1.0, 5)):\n",
    "    plt.figure()\n",
    "    plt.title(title)\n",
    "    if ylim is not None:\n",
    "        plt.ylim(*ylim)\n",
    "    plt.xlabel(\"Training examples\")\n",
    "    plt.ylabel(\"Score\")\n",
    "    train_sizes, train_scores, test_scores = learning_curve(\n",
    "        estimator, X, y, cv=cv, n_jobs=n_jobs, train_sizes=train_sizes)\n",
    "    train_scores_mean = np.mean(train_scores, axis=1)\n",
    "    train_scores_std = np.std(train_scores, axis=1)\n",
    "    test_scores_mean = np.mean(test_scores, axis=1)\n",
    "    test_scores_std = np.std(test_scores, axis=1)\n",
    "    plt.grid()\n",
    "\n",
    "    plt.fill_between(train_sizes, train_scores_mean - train_scores_std,\n",
    "                     train_scores_mean + train_scores_std, alpha=0.1,\n",
    "                     color=\"r\")\n",
    "    plt.fill_between(train_sizes, test_scores_mean - test_scores_std,\n",
    "                     test_scores_mean + test_scores_std, alpha=0.1, color=\"g\")\n",
    "    plt.plot(train_sizes, train_scores_mean, 'o-', color=\"r\",\n",
    "             label=\"Training score\")\n",
    "    plt.plot(train_sizes, test_scores_mean, 'o-', color=\"g\",\n",
    "             label=\"Cross-validation score\")\n",
    "\n",
    "    plt.legend(loc=\"best\")\n",
    "    return plt\n"
   ]
  },
  {
   "cell_type": "code",
   "execution_count": null,
   "metadata": {},
   "outputs": [
    {
     "data": {
      "image/png": "[encoded data removed]",
      "text/plain": [
       "<Figure size 432x288 with 1 Axes>"
      ]
     },
     "metadata": {},
     "output_type": "display_data"
    }
   ],
   "source": [
    "title = r\"Learning Curves XGBoost with Best Hyperparameters\"\n",
    "\n",
    "cv = ShuffleSplit(n_splits=10, test_size=0.2, random_state=0)\n",
    "\n",
    "estimator = XGBRegressor(objective ='reg:squarederror', learning_rate = 0.2,\n",
    "                max_depth = 10, min_child_weight = 5, n_estimators = 1000)\n",
    "plot_learning_curve(estimator, title, X_train_small, Y_train_small, (0.9, 1.01), cv=cv, n_jobs=-1)\n",
    "\n",
    "plt.show()"
   ]
  },
  {
   "cell_type": "markdown",
   "metadata": {},
   "source": [
    "## Step 4: Upload the csv files to S3\n",
    "\n",
    "Upload csv files to S3 for a batch transform and model training job using AWS SageMaker."
   ]
  },
  {
   "cell_type": "code",
   "execution_count": 27,
   "metadata": {},
   "outputs": [],
   "source": [
    "# Upload data to S3\n",
    "prefix = 'renfe'\n",
    "\n",
    "test_location = session.upload_data(os.path.join(data_dir, 'test.csv'), key_prefix=prefix)\n",
    "val_location = session.upload_data(os.path.join(data_dir, 'validation.csv'), key_prefix=prefix)\n",
    "train_location = session.upload_data(os.path.join(data_dir, 'train.csv'), key_prefix=prefix)"
   ]
  },
  {
   "cell_type": "markdown",
   "metadata": {},
   "source": [
    "## Step 5: Build and train the XGBoost Model\n",
    "\n",
    "Use AWS's build in XGBoost algorithm to build the model. First, get a XGBoost container; Second, build the model; Third, set the hyperparameters."
   ]
  },
  {
   "cell_type": "code",
   "execution_count": 29,
   "metadata": {},
   "outputs": [],
   "source": [
    "# Create container for XGBoost.\n",
    "container = get_image_uri(session.boto_region_name, 'xgboost')\n",
    "\n",
    "# Build the XGBoost model.\n",
    "xgb = sagemaker.estimator.Estimator(container, # The image name of the training container\n",
    "                                    role,      # The IAM role to use (our current role in this case)\n",
    "                                    train_instance_count=1, # The number of instances to use for training\n",
    "                                    train_instance_type='ml.m4.xlarge', # The type of instance to use for training\n",
    "                                    output_path='s3://{}/{}/output'.format(session.default_bucket(), prefix),\n",
    "                                                                        # Where to save the output (the model artifacts)\n",
    "                                    sagemaker_session=session) # The current SageMaker session"
   ]
  },
  {
   "cell_type": "code",
   "execution_count": 30,
   "metadata": {},
   "outputs": [],
   "source": [
    "xgb.set_hyperparameters(max_depth=10,\n",
    "                        eta=0.2,\n",
    "                        min_child_weight=5,\n",
    "                        subsample=0.5,\n",
    "                        objective='reg:linear',\n",
    "                        early_stopping_rounds=10,\n",
    "                        num_round=1500)"
   ]
  },
  {
   "cell_type": "code",
   "execution_count": 31,
   "metadata": {},
   "outputs": [
    {
     "name": "stdout",
     "output_type": "stream",
     "text": [
      "2019-07-19 20:48:00 Starting - Starting the training job...\n",
      "2019-07-19 20:48:03 Starting - Launching requested ML instances......\n",
      "2019-07-19 20:49:04 Starting - Preparing the instances for training......\n",
      "2019-07-19 20:50:29 Downloading - Downloading input data\n",
      "2019-07-19 20:50:29 Training - Downloading the training image...\n",
      "2019-07-19 20:50:46 Training - Training image download completed. Training in progress.\n",
      "\u001b[31mArguments: train\u001b[0m\n",
      "\u001b[31m[2019-07-19:20:50:47:INFO] Running standalone xgboost training.\u001b[0m\n",
      "\u001b[31m[2019-07-19:20:50:47:INFO] File size need to be processed in the node: 295.08mb. Available memory size in the node: 8432.86mb\u001b[0m\n",
      "\u001b[31m[2019-07-19:20:50:47:INFO] Determined delimiter of CSV input is ','\u001b[0m\n",
      "\u001b[31m[20:50:47] S3DistributionType set as FullyReplicated\u001b[0m\n",
      "\u001b[31m[20:50:49] 1018594x98 matrix with 99822212 entries loaded from /opt/ml/input/data/train?format=csv&label_column=0&delimiter=,\u001b[0m\n",
      "\u001b[31m[2019-07-19:20:50:49:INFO] Determined delimiter of CSV input is ','\u001b[0m\n",
      "\u001b[31m[20:50:49] S3DistributionType set as FullyReplicated\u001b[0m\n",
      "\u001b[31m[20:50:50] 501696x98 matrix with 49166208 entries loaded from /opt/ml/input/data/validation?format=csv&label_column=0&delimiter=,\u001b[0m\n",
      "\u001b[31m[20:50:57] src/tree/updater_prune.cc:74: tree pruning end, 1 roots, 450 extra nodes, 0 pruned nodes, max_depth=10\u001b[0m\n",
      "\u001b[31m[0]#011train-rmse:54.6144#011validation-rmse:54.5916\u001b[0m\n",
      "\u001b[31mMultiple eval metrics have been passed: 'validation-rmse' will be used for early stopping.\n",
      "\u001b[0m\n",
      "\u001b[31mWill train until validation-rmse hasn't improved in 10 rounds.\u001b[0m\n",
      "\u001b[31m[20:51:02] src/tree/updater_prune.cc:74: tree pruning end, 1 roots, 462 extra nodes, 0 pruned nodes, max_depth=10\u001b[0m\n",
      "\u001b[31m[1]#011train-rmse:43.9777#011validation-rmse:43.9529\u001b[0m\n",
      "\u001b[31m[20:51:07] src/tree/updater_prune.cc:74: tree pruning end, 1 roots, 474 extra nodes, 0 pruned nodes, max_depth=10\u001b[0m\n",
      "\u001b[31m[2]#011train-rmse:35.525#011validation-rmse:35.4985\u001b[0m\n",
      "\u001b[31m[20:51:12] src/tree/updater_prune.cc:74: tree pruning end, 1 roots, 498 extra nodes, 0 pruned nodes, max_depth=10\u001b[0m\n",
      "\u001b[31m[3]#011train-rmse:28.8356#011validation-rmse:28.8063\u001b[0m\n",
      "\u001b[31m[20:51:16] src/tree/updater_prune.cc:74: tree pruning end, 1 roots, 550 extra nodes, 0 pruned nodes, max_depth=10\u001b[0m\n",
      "\u001b[31m[4]#011train-rmse:23.567#011validation-rmse:23.5361\u001b[0m\n",
      "\u001b[31m[20:51:21] src/tree/updater_prune.cc:74: tree pruning end, 1 roots, 568 extra nodes, 0 pruned nodes, max_depth=10\u001b[0m\n",
      "\u001b[31m[5]#011train-rmse:19.4445#011validation-rmse:19.4123\u001b[0m\n",
      "\u001b[31m[20:51:26] src/tree/updater_prune.cc:74: tree pruning end, 1 roots, 570 extra nodes, 0 pruned nodes, max_depth=10\u001b[0m\n",
      "\u001b[31m[6]#011train-rmse:16.2471#011validation-rmse:16.2144\u001b[0m\n",
      "\u001b[31m[20:51:31] src/tree/updater_prune.cc:74: tree pruning end, 1 roots, 572 extra nodes, 0 pruned nodes, max_depth=10\u001b[0m\n",
      "\u001b[31m[7]#011train-rmse:13.7978#011validation-rmse:13.7642\u001b[0m\n",
      "\u001b[31m[20:51:35] src/tree/updater_prune.cc:74: tree pruning end, 1 roots, 594 extra nodes, 0 pruned nodes, max_depth=10\u001b[0m\n",
      "\u001b[31m[8]#011train-rmse:11.9566#011validation-rmse:11.9226\u001b[0m\n",
      "\u001b[31m[20:51:40] src/tree/updater_prune.cc:74: tree pruning end, 1 roots, 594 extra nodes, 0 pruned nodes, max_depth=10\u001b[0m\n",
      "\u001b[31m[9]#011train-rmse:10.5519#011validation-rmse:10.5185\u001b[0m\n",
      "\u001b[31m[20:51:45] src/tree/updater_prune.cc:74: tree pruning end, 1 roots, 572 extra nodes, 0 pruned nodes, max_depth=10\u001b[0m\n",
      "\u001b[31m[10]#011train-rmse:9.49384#011validation-rmse:9.46117\u001b[0m\n",
      "\u001b[31m[20:51:50] src/tree/updater_prune.cc:74: tree pruning end, 1 roots, 576 extra nodes, 0 pruned nodes, max_depth=10\u001b[0m\n",
      "\u001b[31m[11]#011train-rmse:8.75291#011validation-rmse:8.72\u001b[0m\n",
      "\u001b[31m[20:51:54] src/tree/updater_prune.cc:74: tree pruning end, 1 roots, 646 extra nodes, 0 pruned nodes, max_depth=10\u001b[0m\n",
      "\u001b[31m[12]#011train-rmse:8.15986#011validation-rmse:8.12889\u001b[0m\n",
      "\u001b[31m[20:51:59] src/tree/updater_prune.cc:74: tree pruning end, 1 roots, 740 extra nodes, 0 pruned nodes, max_depth=10\u001b[0m\n",
      "\u001b[31m[13]#011train-rmse:7.74747#011validation-rmse:7.71878\u001b[0m\n",
      "\u001b[31m[20:52:04] src/tree/updater_prune.cc:74: tree pruning end, 1 roots, 834 extra nodes, 0 pruned nodes, max_depth=10\u001b[0m\n",
      "\u001b[31m[14]#011train-rmse:7.34967#011validation-rmse:7.32874\u001b[0m\n",
      "\u001b[31m[20:52:09] src/tree/updater_prune.cc:74: tree pruning end, 1 roots, 872 extra nodes, 0 pruned nodes, max_depth=10\u001b[0m\n",
      "\u001b[31m[15]#011train-rmse:7.04057#011validation-rmse:7.02366\u001b[0m\n",
      "\u001b[31m[20:52:14] src/tree/updater_prune.cc:74: tree pruning end, 1 roots, 806 extra nodes, 0 pruned nodes, max_depth=10\u001b[0m\n",
      "\u001b[31m[16]#011train-rmse:6.81201#011validation-rmse:6.79549\u001b[0m\n",
      "\u001b[31m[20:52:19] src/tree/updater_prune.cc:74: tree pruning end, 1 roots, 760 extra nodes, 0 pruned nodes, max_depth=10\u001b[0m\n",
      "\u001b[31m[17]#011train-rmse:6.6684#011validation-rmse:6.65295\u001b[0m\n",
      "\u001b[31m[20:52:23] src/tree/updater_prune.cc:74: tree pruning end, 1 roots, 786 extra nodes, 0 pruned nodes, max_depth=10\u001b[0m\n",
      "\u001b[31m[18]#011train-rmse:6.55766#011validation-rmse:6.54367\u001b[0m\n",
      "\u001b[31m[20:52:28] src/tree/updater_prune.cc:74: tree pruning end, 1 roots, 828 extra nodes, 0 pruned nodes, max_depth=10\u001b[0m\n",
      "\u001b[31m[19]#011train-rmse:6.42707#011validation-rmse:6.41472\u001b[0m\n",
      "\u001b[31m[20:52:33] src/tree/updater_prune.cc:74: tree pruning end, 1 roots, 844 extra nodes, 0 pruned nodes, max_depth=10\u001b[0m\n",
      "\u001b[31m[20]#011train-rmse:6.30843#011validation-rmse:6.29856\u001b[0m\n",
      "\u001b[31m[20:52:37] src/tree/updater_prune.cc:74: tree pruning end, 1 roots, 746 extra nodes, 0 pruned nodes, max_depth=10\u001b[0m\n",
      "\u001b[31m[21]#011train-rmse:6.23877#011validation-rmse:6.22903\u001b[0m\n",
      "\u001b[31m[20:52:42] src/tree/updater_prune.cc:74: tree pruning end, 1 roots, 1036 extra nodes, 0 pruned nodes, max_depth=10\u001b[0m\n",
      "\u001b[31m[22]#011train-rmse:6.09905#011validation-rmse:6.08985\u001b[0m\n",
      "\u001b[31m[20:52:47] src/tree/updater_prune.cc:74: tree pruning end, 1 roots, 734 extra nodes, 0 pruned nodes, max_depth=10\u001b[0m\n",
      "\u001b[31m[23]#011train-rmse:6.02837#011validation-rmse:6.02087\u001b[0m\n",
      "\u001b[31m[20:52:51] src/tree/updater_prune.cc:74: tree pruning end, 1 roots, 436 extra nodes, 0 pruned nodes, max_depth=10\u001b[0m\n",
      "\u001b[31m[24]#011train-rmse:5.9877#011validation-rmse:5.98214\u001b[0m\n",
      "\u001b[31m[20:52:56] src/tree/updater_prune.cc:74: tree pruning end, 1 roots, 736 extra nodes, 0 pruned nodes, max_depth=10\u001b[0m\n",
      "\u001b[31m[25]#011train-rmse:5.91649#011validation-rmse:5.91334\u001b[0m\n",
      "\u001b[31m[20:53:00] src/tree/updater_prune.cc:74: tree pruning end, 1 roots, 534 extra nodes, 0 pruned nodes, max_depth=10\u001b[0m\n",
      "\u001b[31m[26]#011train-rmse:5.87788#011validation-rmse:5.87607\u001b[0m\n",
      "\u001b[31m[20:53:05] src/tree/updater_prune.cc:74: tree pruning end, 1 roots, 422 extra nodes, 0 pruned nodes, max_depth=10\u001b[0m\n",
      "\u001b[31m[27]#011train-rmse:5.84641#011validation-rmse:5.84511\u001b[0m\n",
      "\u001b[31m[20:53:09] src/tree/updater_prune.cc:74: tree pruning end, 1 roots, 700 extra nodes, 0 pruned nodes, max_depth=10\u001b[0m\n",
      "\u001b[31m[28]#011train-rmse:5.80089#011validation-rmse:5.80006\u001b[0m\n",
      "\u001b[31m[20:53:14] src/tree/updater_prune.cc:74: tree pruning end, 1 roots, 642 extra nodes, 0 pruned nodes, max_depth=10\u001b[0m\n",
      "\u001b[31m[29]#011train-rmse:5.76675#011validation-rmse:5.76708\u001b[0m\n",
      "\u001b[31m[20:53:18] src/tree/updater_prune.cc:74: tree pruning end, 1 roots, 698 extra nodes, 0 pruned nodes, max_depth=10\u001b[0m\n",
      "\u001b[31m[30]#011train-rmse:5.70274#011validation-rmse:5.70616\u001b[0m\n",
      "\u001b[31m[20:53:23] src/tree/updater_prune.cc:74: tree pruning end, 1 roots, 874 extra nodes, 0 pruned nodes, max_depth=10\u001b[0m\n",
      "\u001b[31m[31]#011train-rmse:5.64246#011validation-rmse:5.64759\u001b[0m\n",
      "\u001b[31m[20:53:27] src/tree/updater_prune.cc:74: tree pruning end, 1 roots, 556 extra nodes, 0 pruned nodes, max_depth=10\u001b[0m\n",
      "\u001b[31m[32]#011train-rmse:5.60537#011validation-rmse:5.61166\u001b[0m\n",
      "\u001b[31m[20:53:32] src/tree/updater_prune.cc:74: tree pruning end, 1 roots, 550 extra nodes, 0 pruned nodes, max_depth=10\u001b[0m\n",
      "\u001b[31m[33]#011train-rmse:5.58325#011validation-rmse:5.58992\u001b[0m\n",
      "\u001b[31m[20:53:36] src/tree/updater_prune.cc:74: tree pruning end, 1 roots, 670 extra nodes, 0 pruned nodes, max_depth=10\u001b[0m\n",
      "\u001b[31m[34]#011train-rmse:5.548#011validation-rmse:5.55588\u001b[0m\n",
      "\u001b[31m[20:53:41] src/tree/updater_prune.cc:74: tree pruning end, 1 roots, 592 extra nodes, 0 pruned nodes, max_depth=10\u001b[0m\n",
      "\u001b[31m[35]#011train-rmse:5.51889#011validation-rmse:5.52761\u001b[0m\n",
      "\u001b[31m[20:53:46] src/tree/updater_prune.cc:74: tree pruning end, 1 roots, 822 extra nodes, 0 pruned nodes, max_depth=10\u001b[0m\n",
      "\u001b[31m[36]#011train-rmse:5.47114#011validation-rmse:5.47942\u001b[0m\n",
      "\u001b[31m[20:53:50] src/tree/updater_prune.cc:74: tree pruning end, 1 roots, 466 extra nodes, 0 pruned nodes, max_depth=10\u001b[0m\n",
      "\u001b[31m[37]#011train-rmse:5.44156#011validation-rmse:5.45007\u001b[0m\n",
      "\u001b[31m[20:53:55] src/tree/updater_prune.cc:74: tree pruning end, 1 roots, 802 extra nodes, 0 pruned nodes, max_depth=10\u001b[0m\n",
      "\u001b[31m[38]#011train-rmse:5.40664#011validation-rmse:5.41646\u001b[0m\n",
      "\u001b[31m[20:53:59] src/tree/updater_prune.cc:74: tree pruning end, 1 roots, 400 extra nodes, 0 pruned nodes, max_depth=10\u001b[0m\n",
      "\u001b[31m[39]#011train-rmse:5.38718#011validation-rmse:5.39724\u001b[0m\n"
     ]
    },
    {
     "name": "stdout",
     "output_type": "stream",
     "text": [
      "\u001b[31m[20:54:04] src/tree/updater_prune.cc:74: tree pruning end, 1 roots, 574 extra nodes, 0 pruned nodes, max_depth=10\u001b[0m\n",
      "\u001b[31m[40]#011train-rmse:5.37398#011validation-rmse:5.38481\u001b[0m\n",
      "\u001b[31m[20:54:08] src/tree/updater_prune.cc:74: tree pruning end, 1 roots, 696 extra nodes, 0 pruned nodes, max_depth=10\u001b[0m\n",
      "\u001b[31m[41]#011train-rmse:5.34734#011validation-rmse:5.35889\u001b[0m\n",
      "\u001b[31m[20:54:13] src/tree/updater_prune.cc:74: tree pruning end, 1 roots, 662 extra nodes, 0 pruned nodes, max_depth=10\u001b[0m\n",
      "\u001b[31m[42]#011train-rmse:5.3224#011validation-rmse:5.33459\u001b[0m\n",
      "\u001b[31m[20:54:17] src/tree/updater_prune.cc:74: tree pruning end, 1 roots, 688 extra nodes, 0 pruned nodes, max_depth=10\u001b[0m\n",
      "\u001b[31m[43]#011train-rmse:5.2925#011validation-rmse:5.30402\u001b[0m\n",
      "\u001b[31m[20:54:22] src/tree/updater_prune.cc:74: tree pruning end, 1 roots, 690 extra nodes, 0 pruned nodes, max_depth=10\u001b[0m\n",
      "\u001b[31m[44]#011train-rmse:5.25418#011validation-rmse:5.26638\u001b[0m\n",
      "\u001b[31m[20:54:26] src/tree/updater_prune.cc:74: tree pruning end, 1 roots, 550 extra nodes, 0 pruned nodes, max_depth=10\u001b[0m\n",
      "\u001b[31m[45]#011train-rmse:5.23583#011validation-rmse:5.24821\u001b[0m\n",
      "\u001b[31m[20:54:31] src/tree/updater_prune.cc:74: tree pruning end, 1 roots, 650 extra nodes, 0 pruned nodes, max_depth=10\u001b[0m\n",
      "\u001b[31m[46]#011train-rmse:5.20965#011validation-rmse:5.22177\u001b[0m\n",
      "\u001b[31m[20:54:35] src/tree/updater_prune.cc:74: tree pruning end, 1 roots, 602 extra nodes, 0 pruned nodes, max_depth=10\u001b[0m\n",
      "\u001b[31m[47]#011train-rmse:5.1906#011validation-rmse:5.20274\u001b[0m\n",
      "\u001b[31m[20:54:40] src/tree/updater_prune.cc:74: tree pruning end, 1 roots, 672 extra nodes, 0 pruned nodes, max_depth=10\u001b[0m\n",
      "\u001b[31m[48]#011train-rmse:5.16197#011validation-rmse:5.17591\u001b[0m\n",
      "\u001b[31m[20:54:44] src/tree/updater_prune.cc:74: tree pruning end, 1 roots, 698 extra nodes, 0 pruned nodes, max_depth=10\u001b[0m\n",
      "\u001b[31m[49]#011train-rmse:5.14114#011validation-rmse:5.1554\u001b[0m\n",
      "\u001b[31m[20:54:49] src/tree/updater_prune.cc:74: tree pruning end, 1 roots, 746 extra nodes, 0 pruned nodes, max_depth=10\u001b[0m\n",
      "\u001b[31m[50]#011train-rmse:5.11619#011validation-rmse:5.13085\u001b[0m\n",
      "\u001b[31m[20:54:53] src/tree/updater_prune.cc:74: tree pruning end, 1 roots, 360 extra nodes, 0 pruned nodes, max_depth=10\u001b[0m\n",
      "\u001b[31m[51]#011train-rmse:5.10848#011validation-rmse:5.12341\u001b[0m\n",
      "\u001b[31m[20:54:58] src/tree/updater_prune.cc:74: tree pruning end, 1 roots, 840 extra nodes, 0 pruned nodes, max_depth=10\u001b[0m\n",
      "\u001b[31m[52]#011train-rmse:5.07376#011validation-rmse:5.08949\u001b[0m\n",
      "\u001b[31m[20:55:02] src/tree/updater_prune.cc:74: tree pruning end, 1 roots, 770 extra nodes, 0 pruned nodes, max_depth=10\u001b[0m\n",
      "\u001b[31m[53]#011train-rmse:5.0539#011validation-rmse:5.07048\u001b[0m\n",
      "\u001b[31m[20:55:07] src/tree/updater_prune.cc:74: tree pruning end, 1 roots, 472 extra nodes, 0 pruned nodes, max_depth=10\u001b[0m\n",
      "\u001b[31m[54]#011train-rmse:5.04486#011validation-rmse:5.06163\u001b[0m\n",
      "\u001b[31m[20:55:11] src/tree/updater_prune.cc:74: tree pruning end, 1 roots, 692 extra nodes, 0 pruned nodes, max_depth=10\u001b[0m\n",
      "\u001b[31m[55]#011train-rmse:5.01416#011validation-rmse:5.03214\u001b[0m\n",
      "\u001b[31m[20:55:16] src/tree/updater_prune.cc:74: tree pruning end, 1 roots, 572 extra nodes, 0 pruned nodes, max_depth=10\u001b[0m\n",
      "\u001b[31m[56]#011train-rmse:4.99342#011validation-rmse:5.01189\u001b[0m\n",
      "\u001b[31m[20:55:20] src/tree/updater_prune.cc:74: tree pruning end, 1 roots, 662 extra nodes, 0 pruned nodes, max_depth=10\u001b[0m\n",
      "\u001b[31m[57]#011train-rmse:4.97348#011validation-rmse:4.99275\u001b[0m\n",
      "\u001b[31m[20:55:25] src/tree/updater_prune.cc:74: tree pruning end, 1 roots, 636 extra nodes, 0 pruned nodes, max_depth=10\u001b[0m\n",
      "\u001b[31m[58]#011train-rmse:4.9542#011validation-rmse:4.97366\u001b[0m\n",
      "\u001b[31m[20:55:29] src/tree/updater_prune.cc:74: tree pruning end, 1 roots, 634 extra nodes, 0 pruned nodes, max_depth=10\u001b[0m\n",
      "\u001b[31m[59]#011train-rmse:4.94107#011validation-rmse:4.9608\u001b[0m\n",
      "\u001b[31m[20:55:34] src/tree/updater_prune.cc:74: tree pruning end, 1 roots, 532 extra nodes, 0 pruned nodes, max_depth=10\u001b[0m\n",
      "\u001b[31m[60]#011train-rmse:4.93056#011validation-rmse:4.95139\u001b[0m\n",
      "\u001b[31m[20:55:38] src/tree/updater_prune.cc:74: tree pruning end, 1 roots, 736 extra nodes, 0 pruned nodes, max_depth=10\u001b[0m\n",
      "\u001b[31m[61]#011train-rmse:4.9081#011validation-rmse:4.92994\u001b[0m\n",
      "\u001b[31m[20:55:43] src/tree/updater_prune.cc:74: tree pruning end, 1 roots, 692 extra nodes, 0 pruned nodes, max_depth=10\u001b[0m\n",
      "\u001b[31m[62]#011train-rmse:4.89173#011validation-rmse:4.91449\u001b[0m\n",
      "\u001b[31m[20:55:47] src/tree/updater_prune.cc:74: tree pruning end, 1 roots, 564 extra nodes, 0 pruned nodes, max_depth=10\u001b[0m\n",
      "\u001b[31m[63]#011train-rmse:4.88266#011validation-rmse:4.90587\u001b[0m\n",
      "\u001b[31m[20:55:51] src/tree/updater_prune.cc:74: tree pruning end, 1 roots, 628 extra nodes, 0 pruned nodes, max_depth=10\u001b[0m\n",
      "\u001b[31m[64]#011train-rmse:4.86533#011validation-rmse:4.88832\u001b[0m\n",
      "\u001b[31m[20:55:56] src/tree/updater_prune.cc:74: tree pruning end, 1 roots, 558 extra nodes, 0 pruned nodes, max_depth=10\u001b[0m\n",
      "\u001b[31m[65]#011train-rmse:4.84739#011validation-rmse:4.87058\u001b[0m\n",
      "\u001b[31m[20:56:01] src/tree/updater_prune.cc:74: tree pruning end, 1 roots, 682 extra nodes, 0 pruned nodes, max_depth=10\u001b[0m\n",
      "\u001b[31m[66]#011train-rmse:4.82755#011validation-rmse:4.85196\u001b[0m\n",
      "\u001b[31m[20:56:05] src/tree/updater_prune.cc:74: tree pruning end, 1 roots, 514 extra nodes, 0 pruned nodes, max_depth=10\u001b[0m\n",
      "\u001b[31m[67]#011train-rmse:4.81881#011validation-rmse:4.84359\u001b[0m\n",
      "\u001b[31m[20:56:10] src/tree/updater_prune.cc:74: tree pruning end, 1 roots, 648 extra nodes, 0 pruned nodes, max_depth=10\u001b[0m\n",
      "\u001b[31m[68]#011train-rmse:4.80669#011validation-rmse:4.83148\u001b[0m\n",
      "\u001b[31m[20:56:14] src/tree/updater_prune.cc:74: tree pruning end, 1 roots, 428 extra nodes, 0 pruned nodes, max_depth=10\u001b[0m\n",
      "\u001b[31m[69]#011train-rmse:4.79892#011validation-rmse:4.8238\u001b[0m\n",
      "\u001b[31m[20:56:19] src/tree/updater_prune.cc:74: tree pruning end, 1 roots, 664 extra nodes, 0 pruned nodes, max_depth=10\u001b[0m\n",
      "\u001b[31m[70]#011train-rmse:4.78352#011validation-rmse:4.80967\u001b[0m\n",
      "\u001b[31m[20:56:23] src/tree/updater_prune.cc:74: tree pruning end, 1 roots, 432 extra nodes, 0 pruned nodes, max_depth=10\u001b[0m\n",
      "\u001b[31m[71]#011train-rmse:4.77579#011validation-rmse:4.80177\u001b[0m\n",
      "\u001b[31m[20:56:27] src/tree/updater_prune.cc:74: tree pruning end, 1 roots, 526 extra nodes, 0 pruned nodes, max_depth=10\u001b[0m\n",
      "\u001b[31m[72]#011train-rmse:4.76699#011validation-rmse:4.79301\u001b[0m\n",
      "\u001b[31m[20:56:32] src/tree/updater_prune.cc:74: tree pruning end, 1 roots, 596 extra nodes, 0 pruned nodes, max_depth=10\u001b[0m\n",
      "\u001b[31m[73]#011train-rmse:4.75331#011validation-rmse:4.77966\u001b[0m\n",
      "\u001b[31m[20:56:37] src/tree/updater_prune.cc:74: tree pruning end, 1 roots, 694 extra nodes, 0 pruned nodes, max_depth=10\u001b[0m\n",
      "\u001b[31m[74]#011train-rmse:4.7412#011validation-rmse:4.76799\u001b[0m\n",
      "\u001b[31m[20:56:41] src/tree/updater_prune.cc:74: tree pruning end, 1 roots, 514 extra nodes, 0 pruned nodes, max_depth=10\u001b[0m\n",
      "\u001b[31m[75]#011train-rmse:4.73398#011validation-rmse:4.76054\u001b[0m\n",
      "\u001b[31m[20:56:46] src/tree/updater_prune.cc:74: tree pruning end, 1 roots, 830 extra nodes, 0 pruned nodes, max_depth=10\u001b[0m\n",
      "\u001b[31m[76]#011train-rmse:4.71445#011validation-rmse:4.74239\u001b[0m\n",
      "\u001b[31m[20:56:50] src/tree/updater_prune.cc:74: tree pruning end, 1 roots, 656 extra nodes, 0 pruned nodes, max_depth=10\u001b[0m\n",
      "\u001b[31m[77]#011train-rmse:4.70301#011validation-rmse:4.73175\u001b[0m\n",
      "\u001b[31m[20:56:55] src/tree/updater_prune.cc:74: tree pruning end, 1 roots, 744 extra nodes, 0 pruned nodes, max_depth=10\u001b[0m\n",
      "\u001b[31m[78]#011train-rmse:4.68812#011validation-rmse:4.71745\u001b[0m\n",
      "\u001b[31m[20:56:59] src/tree/updater_prune.cc:74: tree pruning end, 1 roots, 780 extra nodes, 0 pruned nodes, max_depth=10\u001b[0m\n",
      "\u001b[31m[79]#011train-rmse:4.67035#011validation-rmse:4.69961\u001b[0m\n",
      "\u001b[31m[20:57:04] src/tree/updater_prune.cc:74: tree pruning end, 1 roots, 712 extra nodes, 0 pruned nodes, max_depth=10\u001b[0m\n",
      "\u001b[31m[80]#011train-rmse:4.65543#011validation-rmse:4.6846\u001b[0m\n",
      "\u001b[31m[20:57:09] src/tree/updater_prune.cc:74: tree pruning end, 1 roots, 678 extra nodes, 0 pruned nodes, max_depth=10\u001b[0m\n",
      "\u001b[31m[81]#011train-rmse:4.64658#011validation-rmse:4.67568\u001b[0m\n",
      "\u001b[31m[20:57:13] src/tree/updater_prune.cc:74: tree pruning end, 1 roots, 752 extra nodes, 0 pruned nodes, max_depth=10\u001b[0m\n",
      "\u001b[31m[82]#011train-rmse:4.6294#011validation-rmse:4.65859\u001b[0m\n",
      "\u001b[31m[20:57:18] src/tree/updater_prune.cc:74: tree pruning end, 1 roots, 578 extra nodes, 0 pruned nodes, max_depth=10\u001b[0m\n",
      "\u001b[31m[83]#011train-rmse:4.62172#011validation-rmse:4.65167\u001b[0m\n",
      "\u001b[31m[20:57:22] src/tree/updater_prune.cc:74: tree pruning end, 1 roots, 622 extra nodes, 0 pruned nodes, max_depth=10\u001b[0m\n",
      "\u001b[31m[84]#011train-rmse:4.6082#011validation-rmse:4.63807\u001b[0m\n"
     ]
    },
    {
     "name": "stdout",
     "output_type": "stream",
     "text": [
      "\u001b[31m[20:57:27] src/tree/updater_prune.cc:74: tree pruning end, 1 roots, 826 extra nodes, 0 pruned nodes, max_depth=10\u001b[0m\n",
      "\u001b[31m[85]#011train-rmse:4.59641#011validation-rmse:4.6265\u001b[0m\n",
      "\u001b[31m[20:57:31] src/tree/updater_prune.cc:74: tree pruning end, 1 roots, 694 extra nodes, 0 pruned nodes, max_depth=10\u001b[0m\n",
      "\u001b[31m[86]#011train-rmse:4.58804#011validation-rmse:4.61854\u001b[0m\n",
      "\u001b[31m[20:57:36] src/tree/updater_prune.cc:74: tree pruning end, 1 roots, 560 extra nodes, 0 pruned nodes, max_depth=10\u001b[0m\n",
      "\u001b[31m[87]#011train-rmse:4.58158#011validation-rmse:4.61195\u001b[0m\n",
      "\u001b[31m[20:57:40] src/tree/updater_prune.cc:74: tree pruning end, 1 roots, 694 extra nodes, 0 pruned nodes, max_depth=10\u001b[0m\n",
      "\u001b[31m[88]#011train-rmse:4.56953#011validation-rmse:4.5995\u001b[0m\n",
      "\u001b[31m[20:57:45] src/tree/updater_prune.cc:74: tree pruning end, 1 roots, 660 extra nodes, 0 pruned nodes, max_depth=10\u001b[0m\n",
      "\u001b[31m[89]#011train-rmse:4.55933#011validation-rmse:4.5891\u001b[0m\n",
      "\u001b[31m[20:57:49] src/tree/updater_prune.cc:74: tree pruning end, 1 roots, 690 extra nodes, 0 pruned nodes, max_depth=10\u001b[0m\n",
      "\u001b[31m[90]#011train-rmse:4.54817#011validation-rmse:4.57781\u001b[0m\n",
      "\u001b[31m[20:57:54] src/tree/updater_prune.cc:74: tree pruning end, 1 roots, 868 extra nodes, 0 pruned nodes, max_depth=10\u001b[0m\n",
      "\u001b[31m[91]#011train-rmse:4.53715#011validation-rmse:4.56747\u001b[0m\n",
      "\u001b[31m[20:57:59] src/tree/updater_prune.cc:74: tree pruning end, 1 roots, 470 extra nodes, 0 pruned nodes, max_depth=10\u001b[0m\n",
      "\u001b[31m[92]#011train-rmse:4.53051#011validation-rmse:4.56149\u001b[0m\n",
      "\u001b[31m[20:58:03] src/tree/updater_prune.cc:74: tree pruning end, 1 roots, 632 extra nodes, 0 pruned nodes, max_depth=10\u001b[0m\n",
      "\u001b[31m[93]#011train-rmse:4.51929#011validation-rmse:4.55074\u001b[0m\n",
      "\u001b[31m[20:58:08] src/tree/updater_prune.cc:74: tree pruning end, 1 roots, 732 extra nodes, 0 pruned nodes, max_depth=10\u001b[0m\n",
      "\u001b[31m[94]#011train-rmse:4.50833#011validation-rmse:4.53989\u001b[0m\n",
      "\u001b[31m[20:58:12] src/tree/updater_prune.cc:74: tree pruning end, 1 roots, 450 extra nodes, 0 pruned nodes, max_depth=10\u001b[0m\n",
      "\u001b[31m[95]#011train-rmse:4.50474#011validation-rmse:4.53629\u001b[0m\n",
      "\u001b[31m[20:58:17] src/tree/updater_prune.cc:74: tree pruning end, 1 roots, 498 extra nodes, 0 pruned nodes, max_depth=10\u001b[0m\n",
      "\u001b[31m[96]#011train-rmse:4.49929#011validation-rmse:4.53158\u001b[0m\n",
      "\u001b[31m[20:58:21] src/tree/updater_prune.cc:74: tree pruning end, 1 roots, 720 extra nodes, 0 pruned nodes, max_depth=10\u001b[0m\n",
      "\u001b[31m[97]#011train-rmse:4.49243#011validation-rmse:4.52542\u001b[0m\n",
      "\u001b[31m[20:58:26] src/tree/updater_prune.cc:74: tree pruning end, 1 roots, 456 extra nodes, 0 pruned nodes, max_depth=10\u001b[0m\n",
      "\u001b[31m[98]#011train-rmse:4.4871#011validation-rmse:4.52023\u001b[0m\n",
      "\u001b[31m[20:58:30] src/tree/updater_prune.cc:74: tree pruning end, 1 roots, 576 extra nodes, 0 pruned nodes, max_depth=10\u001b[0m\n",
      "\u001b[31m[99]#011train-rmse:4.47946#011validation-rmse:4.51286\u001b[0m\n",
      "\u001b[31m[20:58:35] src/tree/updater_prune.cc:74: tree pruning end, 1 roots, 690 extra nodes, 0 pruned nodes, max_depth=10\u001b[0m\n",
      "\u001b[31m[100]#011train-rmse:4.47124#011validation-rmse:4.50496\u001b[0m\n",
      "\u001b[31m[20:58:39] src/tree/updater_prune.cc:74: tree pruning end, 1 roots, 704 extra nodes, 0 pruned nodes, max_depth=10\u001b[0m\n",
      "\u001b[31m[101]#011train-rmse:4.46133#011validation-rmse:4.49527\u001b[0m\n",
      "\u001b[31m[20:58:44] src/tree/updater_prune.cc:74: tree pruning end, 1 roots, 778 extra nodes, 0 pruned nodes, max_depth=10\u001b[0m\n",
      "\u001b[31m[102]#011train-rmse:4.4509#011validation-rmse:4.48487\u001b[0m\n",
      "\u001b[31m[20:58:48] src/tree/updater_prune.cc:74: tree pruning end, 1 roots, 698 extra nodes, 0 pruned nodes, max_depth=10\u001b[0m\n",
      "\u001b[31m[103]#011train-rmse:4.44348#011validation-rmse:4.47738\u001b[0m\n",
      "\u001b[31m[20:58:53] src/tree/updater_prune.cc:74: tree pruning end, 1 roots, 616 extra nodes, 0 pruned nodes, max_depth=10\u001b[0m\n",
      "\u001b[31m[104]#011train-rmse:4.43708#011validation-rmse:4.47138\u001b[0m\n",
      "\u001b[31m[20:58:57] src/tree/updater_prune.cc:74: tree pruning end, 1 roots, 634 extra nodes, 0 pruned nodes, max_depth=10\u001b[0m\n",
      "\u001b[31m[105]#011train-rmse:4.42897#011validation-rmse:4.46388\u001b[0m\n",
      "\u001b[31m[20:59:02] src/tree/updater_prune.cc:74: tree pruning end, 1 roots, 668 extra nodes, 0 pruned nodes, max_depth=10\u001b[0m\n",
      "\u001b[31m[106]#011train-rmse:4.42174#011validation-rmse:4.45667\u001b[0m\n",
      "\u001b[31m[20:59:07] src/tree/updater_prune.cc:74: tree pruning end, 1 roots, 614 extra nodes, 0 pruned nodes, max_depth=10\u001b[0m\n",
      "\u001b[31m[107]#011train-rmse:4.41572#011validation-rmse:4.45132\u001b[0m\n",
      "\u001b[31m[20:59:12] src/tree/updater_prune.cc:74: tree pruning end, 1 roots, 628 extra nodes, 0 pruned nodes, max_depth=10\u001b[0m\n",
      "\u001b[31m[108]#011train-rmse:4.40921#011validation-rmse:4.44536\u001b[0m\n",
      "\u001b[31m[20:59:17] src/tree/updater_prune.cc:74: tree pruning end, 1 roots, 632 extra nodes, 0 pruned nodes, max_depth=10\u001b[0m\n",
      "\u001b[31m[109]#011train-rmse:4.40245#011validation-rmse:4.43898\u001b[0m\n",
      "\u001b[31m[20:59:21] src/tree/updater_prune.cc:74: tree pruning end, 1 roots, 658 extra nodes, 0 pruned nodes, max_depth=10\u001b[0m\n",
      "\u001b[31m[110]#011train-rmse:4.39626#011validation-rmse:4.43226\u001b[0m\n",
      "\u001b[31m[20:59:26] src/tree/updater_prune.cc:74: tree pruning end, 1 roots, 624 extra nodes, 0 pruned nodes, max_depth=10\u001b[0m\n",
      "\u001b[31m[111]#011train-rmse:4.38946#011validation-rmse:4.42565\u001b[0m\n",
      "\u001b[31m[20:59:30] src/tree/updater_prune.cc:74: tree pruning end, 1 roots, 606 extra nodes, 0 pruned nodes, max_depth=10\u001b[0m\n",
      "\u001b[31m[112]#011train-rmse:4.3841#011validation-rmse:4.4199\u001b[0m\n",
      "\u001b[31m[20:59:35] src/tree/updater_prune.cc:74: tree pruning end, 1 roots, 662 extra nodes, 0 pruned nodes, max_depth=10\u001b[0m\n",
      "\u001b[31m[113]#011train-rmse:4.37737#011validation-rmse:4.41394\u001b[0m\n",
      "\u001b[31m[20:59:39] src/tree/updater_prune.cc:74: tree pruning end, 1 roots, 744 extra nodes, 0 pruned nodes, max_depth=10\u001b[0m\n",
      "\u001b[31m[114]#011train-rmse:4.37052#011validation-rmse:4.4074\u001b[0m\n",
      "\u001b[31m[20:59:44] src/tree/updater_prune.cc:74: tree pruning end, 1 roots, 588 extra nodes, 0 pruned nodes, max_depth=10\u001b[0m\n",
      "\u001b[31m[115]#011train-rmse:4.36625#011validation-rmse:4.40316\u001b[0m\n",
      "\u001b[31m[20:59:48] src/tree/updater_prune.cc:74: tree pruning end, 1 roots, 700 extra nodes, 0 pruned nodes, max_depth=10\u001b[0m\n",
      "\u001b[31m[116]#011train-rmse:4.3598#011validation-rmse:4.39736\u001b[0m\n",
      "\u001b[31m[20:59:53] src/tree/updater_prune.cc:74: tree pruning end, 1 roots, 784 extra nodes, 0 pruned nodes, max_depth=10\u001b[0m\n",
      "\u001b[31m[117]#011train-rmse:4.3528#011validation-rmse:4.39056\u001b[0m\n",
      "\u001b[31m[20:59:57] src/tree/updater_prune.cc:74: tree pruning end, 1 roots, 706 extra nodes, 0 pruned nodes, max_depth=10\u001b[0m\n",
      "\u001b[31m[118]#011train-rmse:4.34765#011validation-rmse:4.38568\u001b[0m\n",
      "\u001b[31m[21:00:02] src/tree/updater_prune.cc:74: tree pruning end, 1 roots, 598 extra nodes, 0 pruned nodes, max_depth=10\u001b[0m\n",
      "\u001b[31m[119]#011train-rmse:4.34359#011validation-rmse:4.38188\u001b[0m\n",
      "\u001b[31m[21:00:06] src/tree/updater_prune.cc:74: tree pruning end, 1 roots, 680 extra nodes, 0 pruned nodes, max_depth=10\u001b[0m\n",
      "\u001b[31m[120]#011train-rmse:4.33747#011validation-rmse:4.37642\u001b[0m\n",
      "\u001b[31m[21:00:11] src/tree/updater_prune.cc:74: tree pruning end, 1 roots, 534 extra nodes, 0 pruned nodes, max_depth=10\u001b[0m\n",
      "\u001b[31m[121]#011train-rmse:4.33359#011validation-rmse:4.37284\u001b[0m\n",
      "\u001b[31m[21:00:15] src/tree/updater_prune.cc:74: tree pruning end, 1 roots, 404 extra nodes, 0 pruned nodes, max_depth=10\u001b[0m\n",
      "\u001b[31m[122]#011train-rmse:4.33164#011validation-rmse:4.37114\u001b[0m\n",
      "\u001b[31m[21:00:20] src/tree/updater_prune.cc:74: tree pruning end, 1 roots, 466 extra nodes, 0 pruned nodes, max_depth=10\u001b[0m\n",
      "\u001b[31m[123]#011train-rmse:4.32795#011validation-rmse:4.36721\u001b[0m\n",
      "\u001b[31m[21:00:24] src/tree/updater_prune.cc:74: tree pruning end, 1 roots, 684 extra nodes, 0 pruned nodes, max_depth=10\u001b[0m\n",
      "\u001b[31m[124]#011train-rmse:4.32289#011validation-rmse:4.36266\u001b[0m\n",
      "\u001b[31m[21:00:29] src/tree/updater_prune.cc:74: tree pruning end, 1 roots, 602 extra nodes, 0 pruned nodes, max_depth=10\u001b[0m\n",
      "\u001b[31m[125]#011train-rmse:4.31794#011validation-rmse:4.35798\u001b[0m\n",
      "\u001b[31m[21:00:33] src/tree/updater_prune.cc:74: tree pruning end, 1 roots, 670 extra nodes, 0 pruned nodes, max_depth=10\u001b[0m\n",
      "\u001b[31m[126]#011train-rmse:4.31295#011validation-rmse:4.3535\u001b[0m\n",
      "\u001b[31m[21:00:38] src/tree/updater_prune.cc:74: tree pruning end, 1 roots, 758 extra nodes, 0 pruned nodes, max_depth=10\u001b[0m\n",
      "\u001b[31m[127]#011train-rmse:4.30569#011validation-rmse:4.34698\u001b[0m\n",
      "\u001b[31m[21:00:42] src/tree/updater_prune.cc:74: tree pruning end, 1 roots, 588 extra nodes, 0 pruned nodes, max_depth=10\u001b[0m\n",
      "\u001b[31m[128]#011train-rmse:4.30194#011validation-rmse:4.34399\u001b[0m\n"
     ]
    },
    {
     "name": "stdout",
     "output_type": "stream",
     "text": [
      "\u001b[31m[21:00:47] src/tree/updater_prune.cc:74: tree pruning end, 1 roots, 628 extra nodes, 0 pruned nodes, max_depth=10\u001b[0m\n",
      "\u001b[31m[129]#011train-rmse:4.29631#011validation-rmse:4.3384\u001b[0m\n",
      "\u001b[31m[21:00:51] src/tree/updater_prune.cc:74: tree pruning end, 1 roots, 508 extra nodes, 0 pruned nodes, max_depth=10\u001b[0m\n",
      "\u001b[31m[130]#011train-rmse:4.29298#011validation-rmse:4.33486\u001b[0m\n",
      "\u001b[31m[21:00:56] src/tree/updater_prune.cc:74: tree pruning end, 1 roots, 620 extra nodes, 0 pruned nodes, max_depth=10\u001b[0m\n",
      "\u001b[31m[131]#011train-rmse:4.28895#011validation-rmse:4.33174\u001b[0m\n",
      "\u001b[31m[21:01:00] src/tree/updater_prune.cc:74: tree pruning end, 1 roots, 772 extra nodes, 0 pruned nodes, max_depth=10\u001b[0m\n",
      "\u001b[31m[132]#011train-rmse:4.28205#011validation-rmse:4.32542\u001b[0m\n",
      "\u001b[31m[21:01:05] src/tree/updater_prune.cc:74: tree pruning end, 1 roots, 810 extra nodes, 0 pruned nodes, max_depth=10\u001b[0m\n",
      "\u001b[31m[133]#011train-rmse:4.2764#011validation-rmse:4.32031\u001b[0m\n",
      "\u001b[31m[21:01:10] src/tree/updater_prune.cc:74: tree pruning end, 1 roots, 798 extra nodes, 0 pruned nodes, max_depth=10\u001b[0m\n",
      "\u001b[31m[134]#011train-rmse:4.27126#011validation-rmse:4.31524\u001b[0m\n",
      "\u001b[31m[21:01:14] src/tree/updater_prune.cc:74: tree pruning end, 1 roots, 534 extra nodes, 0 pruned nodes, max_depth=10\u001b[0m\n",
      "\u001b[31m[135]#011train-rmse:4.26874#011validation-rmse:4.31266\u001b[0m\n",
      "\u001b[31m[21:01:19] src/tree/updater_prune.cc:74: tree pruning end, 1 roots, 638 extra nodes, 0 pruned nodes, max_depth=10\u001b[0m\n",
      "\u001b[31m[136]#011train-rmse:4.26551#011validation-rmse:4.30956\u001b[0m\n",
      "\u001b[31m[21:01:23] src/tree/updater_prune.cc:74: tree pruning end, 1 roots, 696 extra nodes, 0 pruned nodes, max_depth=10\u001b[0m\n",
      "\u001b[31m[137]#011train-rmse:4.26096#011validation-rmse:4.30518\u001b[0m\n",
      "\u001b[31m[21:01:28] src/tree/updater_prune.cc:74: tree pruning end, 1 roots, 698 extra nodes, 0 pruned nodes, max_depth=10\u001b[0m\n",
      "\u001b[31m[138]#011train-rmse:4.25572#011validation-rmse:4.30041\u001b[0m\n",
      "\u001b[31m[21:01:32] src/tree/updater_prune.cc:74: tree pruning end, 1 roots, 626 extra nodes, 0 pruned nodes, max_depth=10\u001b[0m\n",
      "\u001b[31m[139]#011train-rmse:4.25272#011validation-rmse:4.29744\u001b[0m\n",
      "\u001b[31m[21:01:37] src/tree/updater_prune.cc:74: tree pruning end, 1 roots, 522 extra nodes, 0 pruned nodes, max_depth=10\u001b[0m\n",
      "\u001b[31m[140]#011train-rmse:4.25082#011validation-rmse:4.29545\u001b[0m\n",
      "\u001b[31m[21:01:41] src/tree/updater_prune.cc:74: tree pruning end, 1 roots, 616 extra nodes, 0 pruned nodes, max_depth=10\u001b[0m\n",
      "\u001b[31m[141]#011train-rmse:4.24788#011validation-rmse:4.29272\u001b[0m\n",
      "\u001b[31m[21:01:46] src/tree/updater_prune.cc:74: tree pruning end, 1 roots, 612 extra nodes, 0 pruned nodes, max_depth=10\u001b[0m\n",
      "\u001b[31m[142]#011train-rmse:4.24431#011validation-rmse:4.28932\u001b[0m\n",
      "\u001b[31m[21:01:50] src/tree/updater_prune.cc:74: tree pruning end, 1 roots, 774 extra nodes, 0 pruned nodes, max_depth=10\u001b[0m\n",
      "\u001b[31m[143]#011train-rmse:4.24066#011validation-rmse:4.28598\u001b[0m\n",
      "\u001b[31m[21:01:55] src/tree/updater_prune.cc:74: tree pruning end, 1 roots, 594 extra nodes, 0 pruned nodes, max_depth=10\u001b[0m\n",
      "\u001b[31m[144]#011train-rmse:4.2377#011validation-rmse:4.28315\u001b[0m\n",
      "\u001b[31m[21:01:59] src/tree/updater_prune.cc:74: tree pruning end, 1 roots, 622 extra nodes, 0 pruned nodes, max_depth=10\u001b[0m\n",
      "\u001b[31m[145]#011train-rmse:4.23473#011validation-rmse:4.28045\u001b[0m\n",
      "\u001b[31m[21:02:04] src/tree/updater_prune.cc:74: tree pruning end, 1 roots, 646 extra nodes, 0 pruned nodes, max_depth=10\u001b[0m\n",
      "\u001b[31m[146]#011train-rmse:4.232#011validation-rmse:4.27757\u001b[0m\n",
      "\u001b[31m[21:02:08] src/tree/updater_prune.cc:74: tree pruning end, 1 roots, 488 extra nodes, 0 pruned nodes, max_depth=10\u001b[0m\n",
      "\u001b[31m[147]#011train-rmse:4.23#011validation-rmse:4.2757\u001b[0m\n",
      "\u001b[31m[21:02:13] src/tree/updater_prune.cc:74: tree pruning end, 1 roots, 746 extra nodes, 0 pruned nodes, max_depth=10\u001b[0m\n",
      "\u001b[31m[148]#011train-rmse:4.22638#011validation-rmse:4.27205\u001b[0m\n",
      "\u001b[31m[21:02:17] src/tree/updater_prune.cc:74: tree pruning end, 1 roots, 634 extra nodes, 0 pruned nodes, max_depth=10\u001b[0m\n",
      "\u001b[31m[149]#011train-rmse:4.22438#011validation-rmse:4.27021\u001b[0m\n",
      "\u001b[31m[21:02:22] src/tree/updater_prune.cc:74: tree pruning end, 1 roots, 626 extra nodes, 0 pruned nodes, max_depth=10\u001b[0m\n",
      "\u001b[31m[150]#011train-rmse:4.221#011validation-rmse:4.26698\u001b[0m\n",
      "\u001b[31m[21:02:27] src/tree/updater_prune.cc:74: tree pruning end, 1 roots, 810 extra nodes, 0 pruned nodes, max_depth=10\u001b[0m\n",
      "\u001b[31m[151]#011train-rmse:4.21683#011validation-rmse:4.26287\u001b[0m\n",
      "\u001b[31m[21:02:31] src/tree/updater_prune.cc:74: tree pruning end, 1 roots, 652 extra nodes, 0 pruned nodes, max_depth=10\u001b[0m\n",
      "\u001b[31m[152]#011train-rmse:4.21459#011validation-rmse:4.26064\u001b[0m\n",
      "\u001b[31m[21:02:36] src/tree/updater_prune.cc:74: tree pruning end, 1 roots, 710 extra nodes, 0 pruned nodes, max_depth=10\u001b[0m\n",
      "\u001b[31m[153]#011train-rmse:4.21071#011validation-rmse:4.25672\u001b[0m\n",
      "\u001b[31m[21:02:40] src/tree/updater_prune.cc:74: tree pruning end, 1 roots, 668 extra nodes, 0 pruned nodes, max_depth=10\u001b[0m\n",
      "\u001b[31m[154]#011train-rmse:4.20779#011validation-rmse:4.25357\u001b[0m\n",
      "\u001b[31m[21:02:45] src/tree/updater_prune.cc:74: tree pruning end, 1 roots, 628 extra nodes, 0 pruned nodes, max_depth=10\u001b[0m\n",
      "\u001b[31m[155]#011train-rmse:4.20533#011validation-rmse:4.25127\u001b[0m\n",
      "\u001b[31m[21:02:49] src/tree/updater_prune.cc:74: tree pruning end, 1 roots, 574 extra nodes, 0 pruned nodes, max_depth=10\u001b[0m\n",
      "\u001b[31m[156]#011train-rmse:4.2034#011validation-rmse:4.24958\u001b[0m\n",
      "\u001b[31m[21:02:54] src/tree/updater_prune.cc:74: tree pruning end, 1 roots, 724 extra nodes, 0 pruned nodes, max_depth=10\u001b[0m\n",
      "\u001b[31m[157]#011train-rmse:4.2001#011validation-rmse:4.24621\u001b[0m\n",
      "\u001b[31m[21:02:59] src/tree/updater_prune.cc:74: tree pruning end, 1 roots, 672 extra nodes, 0 pruned nodes, max_depth=10\u001b[0m\n",
      "\u001b[31m[158]#011train-rmse:4.19674#011validation-rmse:4.24313\u001b[0m\n",
      "\u001b[31m[21:03:03] src/tree/updater_prune.cc:74: tree pruning end, 1 roots, 498 extra nodes, 0 pruned nodes, max_depth=10\u001b[0m\n",
      "\u001b[31m[159]#011train-rmse:4.19545#011validation-rmse:4.24192\u001b[0m\n",
      "\u001b[31m[21:03:08] src/tree/updater_prune.cc:74: tree pruning end, 1 roots, 634 extra nodes, 0 pruned nodes, max_depth=10\u001b[0m\n",
      "\u001b[31m[160]#011train-rmse:4.19339#011validation-rmse:4.23942\u001b[0m\n",
      "\u001b[31m[21:03:12] src/tree/updater_prune.cc:74: tree pruning end, 1 roots, 708 extra nodes, 0 pruned nodes, max_depth=10\u001b[0m\n",
      "\u001b[31m[161]#011train-rmse:4.18989#011validation-rmse:4.23605\u001b[0m\n",
      "\u001b[31m[21:03:17] src/tree/updater_prune.cc:74: tree pruning end, 1 roots, 562 extra nodes, 0 pruned nodes, max_depth=10\u001b[0m\n",
      "\u001b[31m[162]#011train-rmse:4.18852#011validation-rmse:4.23479\u001b[0m\n",
      "\u001b[31m[21:03:21] src/tree/updater_prune.cc:74: tree pruning end, 1 roots, 780 extra nodes, 0 pruned nodes, max_depth=10\u001b[0m\n",
      "\u001b[31m[163]#011train-rmse:4.18491#011validation-rmse:4.23151\u001b[0m\n",
      "\u001b[31m[21:03:26] src/tree/updater_prune.cc:74: tree pruning end, 1 roots, 642 extra nodes, 0 pruned nodes, max_depth=10\u001b[0m\n",
      "\u001b[31m[164]#011train-rmse:4.18276#011validation-rmse:4.22952\u001b[0m\n",
      "\u001b[31m[21:03:30] src/tree/updater_prune.cc:74: tree pruning end, 1 roots, 694 extra nodes, 0 pruned nodes, max_depth=10\u001b[0m\n",
      "\u001b[31m[165]#011train-rmse:4.17965#011validation-rmse:4.22632\u001b[0m\n",
      "\u001b[31m[21:03:35] src/tree/updater_prune.cc:74: tree pruning end, 1 roots, 654 extra nodes, 0 pruned nodes, max_depth=10\u001b[0m\n",
      "\u001b[31m[166]#011train-rmse:4.17713#011validation-rmse:4.22403\u001b[0m\n",
      "\u001b[31m[21:03:39] src/tree/updater_prune.cc:74: tree pruning end, 1 roots, 698 extra nodes, 0 pruned nodes, max_depth=10\u001b[0m\n",
      "\u001b[31m[167]#011train-rmse:4.17507#011validation-rmse:4.22225\u001b[0m\n",
      "\u001b[31m[21:03:44] src/tree/updater_prune.cc:74: tree pruning end, 1 roots, 582 extra nodes, 0 pruned nodes, max_depth=10\u001b[0m\n",
      "\u001b[31m[168]#011train-rmse:4.17338#011validation-rmse:4.22077\u001b[0m\n",
      "\u001b[31m[21:03:48] src/tree/updater_prune.cc:74: tree pruning end, 1 roots, 686 extra nodes, 0 pruned nodes, max_depth=10\u001b[0m\n",
      "\u001b[31m[169]#011train-rmse:4.17106#011validation-rmse:4.21875\u001b[0m\n",
      "\u001b[31m[21:03:53] src/tree/updater_prune.cc:74: tree pruning end, 1 roots, 662 extra nodes, 0 pruned nodes, max_depth=10\u001b[0m\n",
      "\u001b[31m[170]#011train-rmse:4.16895#011validation-rmse:4.21647\u001b[0m\n",
      "\u001b[31m[21:03:57] src/tree/updater_prune.cc:74: tree pruning end, 1 roots, 650 extra nodes, 0 pruned nodes, max_depth=10\u001b[0m\n",
      "\u001b[31m[171]#011train-rmse:4.16649#011validation-rmse:4.21392\u001b[0m\n",
      "\u001b[31m[21:04:02] src/tree/updater_prune.cc:74: tree pruning end, 1 roots, 634 extra nodes, 0 pruned nodes, max_depth=10\u001b[0m\n",
      "\u001b[31m[172]#011train-rmse:4.16512#011validation-rmse:4.21235\u001b[0m\n"
     ]
    },
    {
     "name": "stdout",
     "output_type": "stream",
     "text": [
      "\u001b[31m[21:04:06] src/tree/updater_prune.cc:74: tree pruning end, 1 roots, 618 extra nodes, 0 pruned nodes, max_depth=10\u001b[0m\n",
      "\u001b[31m[173]#011train-rmse:4.16336#011validation-rmse:4.21102\u001b[0m\n",
      "\u001b[31m[21:04:11] src/tree/updater_prune.cc:74: tree pruning end, 1 roots, 776 extra nodes, 0 pruned nodes, max_depth=10\u001b[0m\n",
      "\u001b[31m[174]#011train-rmse:4.16105#011validation-rmse:4.20889\u001b[0m\n",
      "\u001b[31m[21:04:15] src/tree/updater_prune.cc:74: tree pruning end, 1 roots, 724 extra nodes, 0 pruned nodes, max_depth=10\u001b[0m\n",
      "\u001b[31m[175]#011train-rmse:4.15911#011validation-rmse:4.20701\u001b[0m\n",
      "\u001b[31m[21:04:20] src/tree/updater_prune.cc:74: tree pruning end, 1 roots, 512 extra nodes, 0 pruned nodes, max_depth=10\u001b[0m\n",
      "\u001b[31m[176]#011train-rmse:4.15838#011validation-rmse:4.20621\u001b[0m\n",
      "\u001b[31m[21:04:24] src/tree/updater_prune.cc:74: tree pruning end, 1 roots, 780 extra nodes, 0 pruned nodes, max_depth=10\u001b[0m\n",
      "\u001b[31m[177]#011train-rmse:4.1555#011validation-rmse:4.20326\u001b[0m\n",
      "\u001b[31m[21:04:29] src/tree/updater_prune.cc:74: tree pruning end, 1 roots, 744 extra nodes, 0 pruned nodes, max_depth=10\u001b[0m\n",
      "\u001b[31m[178]#011train-rmse:4.15257#011validation-rmse:4.20096\u001b[0m\n",
      "\u001b[31m[21:04:33] src/tree/updater_prune.cc:74: tree pruning end, 1 roots, 626 extra nodes, 0 pruned nodes, max_depth=10\u001b[0m\n",
      "\u001b[31m[179]#011train-rmse:4.15119#011validation-rmse:4.19996\u001b[0m\n",
      "\u001b[31m[21:04:38] src/tree/updater_prune.cc:74: tree pruning end, 1 roots, 550 extra nodes, 0 pruned nodes, max_depth=10\u001b[0m\n",
      "\u001b[31m[180]#011train-rmse:4.15031#011validation-rmse:4.19911\u001b[0m\n",
      "\u001b[31m[21:04:42] src/tree/updater_prune.cc:74: tree pruning end, 1 roots, 526 extra nodes, 0 pruned nodes, max_depth=10\u001b[0m\n",
      "\u001b[31m[181]#011train-rmse:4.14946#011validation-rmse:4.19828\u001b[0m\n",
      "\u001b[31m[21:04:47] src/tree/updater_prune.cc:74: tree pruning end, 1 roots, 772 extra nodes, 0 pruned nodes, max_depth=10\u001b[0m\n",
      "\u001b[31m[182]#011train-rmse:4.14691#011validation-rmse:4.19581\u001b[0m\n",
      "\u001b[31m[21:04:52] src/tree/updater_prune.cc:74: tree pruning end, 1 roots, 690 extra nodes, 0 pruned nodes, max_depth=10\u001b[0m\n",
      "\u001b[31m[183]#011train-rmse:4.14502#011validation-rmse:4.19398\u001b[0m\n",
      "\u001b[31m[21:04:56] src/tree/updater_prune.cc:74: tree pruning end, 1 roots, 658 extra nodes, 0 pruned nodes, max_depth=10\u001b[0m\n",
      "\u001b[31m[184]#011train-rmse:4.14354#011validation-rmse:4.19261\u001b[0m\n",
      "\u001b[31m[21:05:00] src/tree/updater_prune.cc:74: tree pruning end, 1 roots, 642 extra nodes, 0 pruned nodes, max_depth=10\u001b[0m\n",
      "\u001b[31m[185]#011train-rmse:4.14203#011validation-rmse:4.19121\u001b[0m\n",
      "\u001b[31m[21:05:05] src/tree/updater_prune.cc:74: tree pruning end, 1 roots, 648 extra nodes, 0 pruned nodes, max_depth=10\u001b[0m\n",
      "\u001b[31m[186]#011train-rmse:4.14091#011validation-rmse:4.19065\u001b[0m\n",
      "\u001b[31m[21:05:09] src/tree/updater_prune.cc:74: tree pruning end, 1 roots, 564 extra nodes, 0 pruned nodes, max_depth=10\u001b[0m\n",
      "\u001b[31m[187]#011train-rmse:4.1396#011validation-rmse:4.18948\u001b[0m\n",
      "\u001b[31m[21:05:14] src/tree/updater_prune.cc:74: tree pruning end, 1 roots, 662 extra nodes, 0 pruned nodes, max_depth=10\u001b[0m\n",
      "\u001b[31m[188]#011train-rmse:4.13786#011validation-rmse:4.18755\u001b[0m\n",
      "\u001b[31m[21:05:19] src/tree/updater_prune.cc:74: tree pruning end, 1 roots, 672 extra nodes, 0 pruned nodes, max_depth=10\u001b[0m\n",
      "\u001b[31m[189]#011train-rmse:4.1363#011validation-rmse:4.18604\u001b[0m\n",
      "\u001b[31m[21:05:23] src/tree/updater_prune.cc:74: tree pruning end, 1 roots, 622 extra nodes, 0 pruned nodes, max_depth=10\u001b[0m\n",
      "\u001b[31m[190]#011train-rmse:4.13488#011validation-rmse:4.18441\u001b[0m\n",
      "\u001b[31m[21:05:28] src/tree/updater_prune.cc:74: tree pruning end, 1 roots, 612 extra nodes, 0 pruned nodes, max_depth=10\u001b[0m\n",
      "\u001b[31m[191]#011train-rmse:4.13397#011validation-rmse:4.18331\u001b[0m\n",
      "\u001b[31m[21:05:32] src/tree/updater_prune.cc:74: tree pruning end, 1 roots, 696 extra nodes, 0 pruned nodes, max_depth=10\u001b[0m\n",
      "\u001b[31m[192]#011train-rmse:4.13232#011validation-rmse:4.18182\u001b[0m\n",
      "\u001b[31m[21:05:37] src/tree/updater_prune.cc:74: tree pruning end, 1 roots, 684 extra nodes, 0 pruned nodes, max_depth=10\u001b[0m\n",
      "\u001b[31m[193]#011train-rmse:4.13067#011validation-rmse:4.1803\u001b[0m\n",
      "\u001b[31m[21:05:41] src/tree/updater_prune.cc:74: tree pruning end, 1 roots, 618 extra nodes, 0 pruned nodes, max_depth=10\u001b[0m\n",
      "\u001b[31m[194]#011train-rmse:4.1294#011validation-rmse:4.17862\u001b[0m\n",
      "\u001b[31m[21:05:46] src/tree/updater_prune.cc:74: tree pruning end, 1 roots, 694 extra nodes, 0 pruned nodes, max_depth=10\u001b[0m\n",
      "\u001b[31m[195]#011train-rmse:4.12726#011validation-rmse:4.17645\u001b[0m\n",
      "\u001b[31m[21:05:50] src/tree/updater_prune.cc:74: tree pruning end, 1 roots, 658 extra nodes, 0 pruned nodes, max_depth=10\u001b[0m\n",
      "\u001b[31m[196]#011train-rmse:4.12585#011validation-rmse:4.17489\u001b[0m\n",
      "\u001b[31m[21:05:55] src/tree/updater_prune.cc:74: tree pruning end, 1 roots, 854 extra nodes, 0 pruned nodes, max_depth=10\u001b[0m\n",
      "\u001b[31m[197]#011train-rmse:4.12312#011validation-rmse:4.17176\u001b[0m\n",
      "\u001b[31m[21:06:00] src/tree/updater_prune.cc:74: tree pruning end, 1 roots, 646 extra nodes, 0 pruned nodes, max_depth=10\u001b[0m\n",
      "\u001b[31m[198]#011train-rmse:4.12205#011validation-rmse:4.17106\u001b[0m\n",
      "\u001b[31m[21:06:04] src/tree/updater_prune.cc:74: tree pruning end, 1 roots, 684 extra nodes, 0 pruned nodes, max_depth=10\u001b[0m\n",
      "\u001b[31m[199]#011train-rmse:4.12047#011validation-rmse:4.16966\u001b[0m\n",
      "\u001b[31m[21:06:09] src/tree/updater_prune.cc:74: tree pruning end, 1 roots, 632 extra nodes, 0 pruned nodes, max_depth=10\u001b[0m\n",
      "\u001b[31m[200]#011train-rmse:4.11927#011validation-rmse:4.16914\u001b[0m\n",
      "\u001b[31m[21:06:13] src/tree/updater_prune.cc:74: tree pruning end, 1 roots, 532 extra nodes, 0 pruned nodes, max_depth=10\u001b[0m\n",
      "\u001b[31m[201]#011train-rmse:4.11802#011validation-rmse:4.1678\u001b[0m\n",
      "\u001b[31m[21:06:18] src/tree/updater_prune.cc:74: tree pruning end, 1 roots, 670 extra nodes, 0 pruned nodes, max_depth=10\u001b[0m\n",
      "\u001b[31m[202]#011train-rmse:4.1166#011validation-rmse:4.16675\u001b[0m\n",
      "\u001b[31m[21:06:23] src/tree/updater_prune.cc:74: tree pruning end, 1 roots, 660 extra nodes, 0 pruned nodes, max_depth=10\u001b[0m\n",
      "\u001b[31m[203]#011train-rmse:4.11514#011validation-rmse:4.16557\u001b[0m\n",
      "\u001b[31m[21:06:27] src/tree/updater_prune.cc:74: tree pruning end, 1 roots, 734 extra nodes, 0 pruned nodes, max_depth=10\u001b[0m\n",
      "\u001b[31m[204]#011train-rmse:4.11314#011validation-rmse:4.16338\u001b[0m\n",
      "\u001b[31m[21:06:32] src/tree/updater_prune.cc:74: tree pruning end, 1 roots, 624 extra nodes, 0 pruned nodes, max_depth=10\u001b[0m\n",
      "\u001b[31m[205]#011train-rmse:4.11191#011validation-rmse:4.16232\u001b[0m\n",
      "\u001b[31m[21:06:37] src/tree/updater_prune.cc:74: tree pruning end, 1 roots, 682 extra nodes, 0 pruned nodes, max_depth=10\u001b[0m\n",
      "\u001b[31m[206]#011train-rmse:4.11083#011validation-rmse:4.16148\u001b[0m\n",
      "\u001b[31m[21:06:41] src/tree/updater_prune.cc:74: tree pruning end, 1 roots, 504 extra nodes, 0 pruned nodes, max_depth=10\u001b[0m\n",
      "\u001b[31m[207]#011train-rmse:4.10962#011validation-rmse:4.1603\u001b[0m\n",
      "\u001b[31m[21:06:45] src/tree/updater_prune.cc:74: tree pruning end, 1 roots, 600 extra nodes, 0 pruned nodes, max_depth=10\u001b[0m\n",
      "\u001b[31m[208]#011train-rmse:4.10878#011validation-rmse:4.15922\u001b[0m\n",
      "\u001b[31m[21:06:50] src/tree/updater_prune.cc:74: tree pruning end, 1 roots, 708 extra nodes, 0 pruned nodes, max_depth=10\u001b[0m\n",
      "\u001b[31m[209]#011train-rmse:4.10763#011validation-rmse:4.15829\u001b[0m\n",
      "\u001b[31m[21:06:55] src/tree/updater_prune.cc:74: tree pruning end, 1 roots, 678 extra nodes, 0 pruned nodes, max_depth=10\u001b[0m\n",
      "\u001b[31m[210]#011train-rmse:4.10619#011validation-rmse:4.157\u001b[0m\n",
      "\u001b[31m[21:06:59] src/tree/updater_prune.cc:74: tree pruning end, 1 roots, 632 extra nodes, 0 pruned nodes, max_depth=10\u001b[0m\n",
      "\u001b[31m[211]#011train-rmse:4.10479#011validation-rmse:4.15508\u001b[0m\n",
      "\u001b[31m[21:07:04] src/tree/updater_prune.cc:74: tree pruning end, 1 roots, 678 extra nodes, 0 pruned nodes, max_depth=10\u001b[0m\n",
      "\u001b[31m[212]#011train-rmse:4.10389#011validation-rmse:4.15389\u001b[0m\n",
      "\u001b[31m[21:07:08] src/tree/updater_prune.cc:74: tree pruning end, 1 roots, 672 extra nodes, 0 pruned nodes, max_depth=10\u001b[0m\n",
      "\u001b[31m[213]#011train-rmse:4.10227#011validation-rmse:4.15251\u001b[0m\n",
      "\u001b[31m[21:07:13] src/tree/updater_prune.cc:74: tree pruning end, 1 roots, 728 extra nodes, 0 pruned nodes, max_depth=10\u001b[0m\n",
      "\u001b[31m[214]#011train-rmse:4.1011#011validation-rmse:4.15114\u001b[0m\n",
      "\u001b[31m[21:07:17] src/tree/updater_prune.cc:74: tree pruning end, 1 roots, 636 extra nodes, 0 pruned nodes, max_depth=10\u001b[0m\n",
      "\u001b[31m[215]#011train-rmse:4.09987#011validation-rmse:4.15031\u001b[0m\n",
      "\u001b[31m[21:07:22] src/tree/updater_prune.cc:74: tree pruning end, 1 roots, 648 extra nodes, 0 pruned nodes, max_depth=10\u001b[0m\n",
      "\u001b[31m[216]#011train-rmse:4.09925#011validation-rmse:4.15008\u001b[0m\n",
      "\u001b[31m[21:07:26] src/tree/updater_prune.cc:74: tree pruning end, 1 roots, 644 extra nodes, 0 pruned nodes, max_depth=10\u001b[0m\n",
      "\u001b[31m[217]#011train-rmse:4.09801#011validation-rmse:4.1489\u001b[0m\n"
     ]
    },
    {
     "name": "stdout",
     "output_type": "stream",
     "text": [
      "\u001b[31m[21:07:31] src/tree/updater_prune.cc:74: tree pruning end, 1 roots, 616 extra nodes, 0 pruned nodes, max_depth=10\u001b[0m\n",
      "\u001b[31m[218]#011train-rmse:4.09704#011validation-rmse:4.1481\u001b[0m\n",
      "\u001b[31m[21:07:36] src/tree/updater_prune.cc:74: tree pruning end, 1 roots, 604 extra nodes, 0 pruned nodes, max_depth=10\u001b[0m\n",
      "\u001b[31m[219]#011train-rmse:4.09597#011validation-rmse:4.1466\u001b[0m\n",
      "\u001b[31m[21:07:40] src/tree/updater_prune.cc:74: tree pruning end, 1 roots, 646 extra nodes, 0 pruned nodes, max_depth=10\u001b[0m\n",
      "\u001b[31m[220]#011train-rmse:4.09518#011validation-rmse:4.14563\u001b[0m\n",
      "\u001b[31m[21:07:45] src/tree/updater_prune.cc:74: tree pruning end, 1 roots, 566 extra nodes, 0 pruned nodes, max_depth=10\u001b[0m\n",
      "\u001b[31m[221]#011train-rmse:4.09447#011validation-rmse:4.1453\u001b[0m\n",
      "\u001b[31m[21:07:49] src/tree/updater_prune.cc:74: tree pruning end, 1 roots, 646 extra nodes, 0 pruned nodes, max_depth=10\u001b[0m\n",
      "\u001b[31m[222]#011train-rmse:4.09343#011validation-rmse:4.14396\u001b[0m\n",
      "\u001b[31m[21:07:54] src/tree/updater_prune.cc:74: tree pruning end, 1 roots, 726 extra nodes, 0 pruned nodes, max_depth=10\u001b[0m\n",
      "\u001b[31m[223]#011train-rmse:4.09241#011validation-rmse:4.14284\u001b[0m\n",
      "\u001b[31m[21:07:59] src/tree/updater_prune.cc:74: tree pruning end, 1 roots, 624 extra nodes, 0 pruned nodes, max_depth=10\u001b[0m\n",
      "\u001b[31m[224]#011train-rmse:4.09163#011validation-rmse:4.14211\u001b[0m\n",
      "\u001b[31m[21:08:03] src/tree/updater_prune.cc:74: tree pruning end, 1 roots, 756 extra nodes, 0 pruned nodes, max_depth=10\u001b[0m\n",
      "\u001b[31m[225]#011train-rmse:4.09024#011validation-rmse:4.14098\u001b[0m\n",
      "\u001b[31m[21:08:08] src/tree/updater_prune.cc:74: tree pruning end, 1 roots, 622 extra nodes, 0 pruned nodes, max_depth=10\u001b[0m\n",
      "\u001b[31m[226]#011train-rmse:4.08937#011validation-rmse:4.14013\u001b[0m\n",
      "\u001b[31m[21:08:12] src/tree/updater_prune.cc:74: tree pruning end, 1 roots, 614 extra nodes, 0 pruned nodes, max_depth=10\u001b[0m\n",
      "\u001b[31m[227]#011train-rmse:4.08852#011validation-rmse:4.13919\u001b[0m\n",
      "\u001b[31m[21:08:17] src/tree/updater_prune.cc:74: tree pruning end, 1 roots, 622 extra nodes, 0 pruned nodes, max_depth=10\u001b[0m\n",
      "\u001b[31m[228]#011train-rmse:4.08742#011validation-rmse:4.13842\u001b[0m\n",
      "\u001b[31m[21:08:21] src/tree/updater_prune.cc:74: tree pruning end, 1 roots, 602 extra nodes, 0 pruned nodes, max_depth=10\u001b[0m\n",
      "\u001b[31m[229]#011train-rmse:4.08679#011validation-rmse:4.1382\u001b[0m\n",
      "\u001b[31m[21:08:26] src/tree/updater_prune.cc:74: tree pruning end, 1 roots, 556 extra nodes, 0 pruned nodes, max_depth=10\u001b[0m\n",
      "\u001b[31m[230]#011train-rmse:4.08615#011validation-rmse:4.13708\u001b[0m\n",
      "\u001b[31m[21:08:30] src/tree/updater_prune.cc:74: tree pruning end, 1 roots, 660 extra nodes, 0 pruned nodes, max_depth=10\u001b[0m\n",
      "\u001b[31m[231]#011train-rmse:4.08519#011validation-rmse:4.136\u001b[0m\n",
      "\u001b[31m[21:08:35] src/tree/updater_prune.cc:74: tree pruning end, 1 roots, 852 extra nodes, 0 pruned nodes, max_depth=10\u001b[0m\n",
      "\u001b[31m[232]#011train-rmse:4.08369#011validation-rmse:4.1344\u001b[0m\n",
      "\u001b[31m[21:08:40] src/tree/updater_prune.cc:74: tree pruning end, 1 roots, 606 extra nodes, 0 pruned nodes, max_depth=10\u001b[0m\n",
      "\u001b[31m[233]#011train-rmse:4.08273#011validation-rmse:4.13339\u001b[0m\n",
      "\u001b[31m[21:08:44] src/tree/updater_prune.cc:74: tree pruning end, 1 roots, 618 extra nodes, 0 pruned nodes, max_depth=10\u001b[0m\n",
      "\u001b[31m[234]#011train-rmse:4.08202#011validation-rmse:4.13291\u001b[0m\n",
      "\u001b[31m[21:08:49] src/tree/updater_prune.cc:74: tree pruning end, 1 roots, 558 extra nodes, 0 pruned nodes, max_depth=10\u001b[0m\n",
      "\u001b[31m[235]#011train-rmse:4.0812#011validation-rmse:4.13203\u001b[0m\n",
      "\u001b[31m[21:08:53] src/tree/updater_prune.cc:74: tree pruning end, 1 roots, 678 extra nodes, 0 pruned nodes, max_depth=10\u001b[0m\n",
      "\u001b[31m[236]#011train-rmse:4.08042#011validation-rmse:4.13151\u001b[0m\n",
      "\u001b[31m[21:08:58] src/tree/updater_prune.cc:74: tree pruning end, 1 roots, 656 extra nodes, 0 pruned nodes, max_depth=10\u001b[0m\n",
      "\u001b[31m[237]#011train-rmse:4.07969#011validation-rmse:4.13084\u001b[0m\n",
      "\u001b[31m[21:09:03] src/tree/updater_prune.cc:74: tree pruning end, 1 roots, 718 extra nodes, 0 pruned nodes, max_depth=10\u001b[0m\n",
      "\u001b[31m[238]#011train-rmse:4.07864#011validation-rmse:4.12974\u001b[0m\n",
      "\u001b[31m[21:09:07] src/tree/updater_prune.cc:74: tree pruning end, 1 roots, 594 extra nodes, 0 pruned nodes, max_depth=10\u001b[0m\n",
      "\u001b[31m[239]#011train-rmse:4.07762#011validation-rmse:4.12834\u001b[0m\n",
      "\u001b[31m[21:09:11] src/tree/updater_prune.cc:74: tree pruning end, 1 roots, 744 extra nodes, 0 pruned nodes, max_depth=10\u001b[0m\n",
      "\u001b[31m[240]#011train-rmse:4.07619#011validation-rmse:4.12665\u001b[0m\n",
      "\u001b[31m[21:09:16] src/tree/updater_prune.cc:74: tree pruning end, 1 roots, 660 extra nodes, 0 pruned nodes, max_depth=10\u001b[0m\n",
      "\u001b[31m[241]#011train-rmse:4.07559#011validation-rmse:4.1261\u001b[0m\n",
      "\u001b[31m[21:09:21] src/tree/updater_prune.cc:74: tree pruning end, 1 roots, 698 extra nodes, 0 pruned nodes, max_depth=10\u001b[0m\n",
      "\u001b[31m[242]#011train-rmse:4.07489#011validation-rmse:4.1254\u001b[0m\n",
      "\u001b[31m[21:09:25] src/tree/updater_prune.cc:74: tree pruning end, 1 roots, 604 extra nodes, 0 pruned nodes, max_depth=10\u001b[0m\n",
      "\u001b[31m[243]#011train-rmse:4.07431#011validation-rmse:4.12488\u001b[0m\n",
      "\u001b[31m[21:09:30] src/tree/updater_prune.cc:74: tree pruning end, 1 roots, 700 extra nodes, 0 pruned nodes, max_depth=10\u001b[0m\n",
      "\u001b[31m[244]#011train-rmse:4.07354#011validation-rmse:4.12421\u001b[0m\n",
      "\u001b[31m[21:09:34] src/tree/updater_prune.cc:74: tree pruning end, 1 roots, 632 extra nodes, 0 pruned nodes, max_depth=10\u001b[0m\n",
      "\u001b[31m[245]#011train-rmse:4.07268#011validation-rmse:4.12346\u001b[0m\n",
      "\u001b[31m[21:09:39] src/tree/updater_prune.cc:74: tree pruning end, 1 roots, 766 extra nodes, 0 pruned nodes, max_depth=10\u001b[0m\n",
      "\u001b[31m[246]#011train-rmse:4.07195#011validation-rmse:4.12255\u001b[0m\n",
      "\u001b[31m[21:09:43] src/tree/updater_prune.cc:74: tree pruning end, 1 roots, 758 extra nodes, 0 pruned nodes, max_depth=10\u001b[0m\n",
      "\u001b[31m[247]#011train-rmse:4.07074#011validation-rmse:4.1215\u001b[0m\n",
      "\u001b[31m[21:09:48] src/tree/updater_prune.cc:74: tree pruning end, 1 roots, 664 extra nodes, 0 pruned nodes, max_depth=10\u001b[0m\n",
      "\u001b[31m[248]#011train-rmse:4.06977#011validation-rmse:4.12055\u001b[0m\n",
      "\u001b[31m[21:09:52] src/tree/updater_prune.cc:74: tree pruning end, 1 roots, 650 extra nodes, 0 pruned nodes, max_depth=10\u001b[0m\n",
      "\u001b[31m[249]#011train-rmse:4.0691#011validation-rmse:4.11993\u001b[0m\n",
      "\u001b[31m[21:09:57] src/tree/updater_prune.cc:74: tree pruning end, 1 roots, 542 extra nodes, 0 pruned nodes, max_depth=10\u001b[0m\n",
      "\u001b[31m[250]#011train-rmse:4.06877#011validation-rmse:4.11954\u001b[0m\n",
      "\u001b[31m[21:10:01] src/tree/updater_prune.cc:74: tree pruning end, 1 roots, 552 extra nodes, 0 pruned nodes, max_depth=10\u001b[0m\n",
      "\u001b[31m[251]#011train-rmse:4.06819#011validation-rmse:4.11921\u001b[0m\n",
      "\u001b[31m[21:10:06] src/tree/updater_prune.cc:74: tree pruning end, 1 roots, 686 extra nodes, 0 pruned nodes, max_depth=10\u001b[0m\n",
      "\u001b[31m[252]#011train-rmse:4.06744#011validation-rmse:4.11869\u001b[0m\n",
      "\u001b[31m[21:10:10] src/tree/updater_prune.cc:74: tree pruning end, 1 roots, 688 extra nodes, 0 pruned nodes, max_depth=10\u001b[0m\n",
      "\u001b[31m[253]#011train-rmse:4.06669#011validation-rmse:4.11805\u001b[0m\n",
      "\u001b[31m[21:10:15] src/tree/updater_prune.cc:74: tree pruning end, 1 roots, 724 extra nodes, 0 pruned nodes, max_depth=10\u001b[0m\n",
      "\u001b[31m[254]#011train-rmse:4.06603#011validation-rmse:4.11715\u001b[0m\n",
      "\u001b[31m[21:10:19] src/tree/updater_prune.cc:74: tree pruning end, 1 roots, 648 extra nodes, 0 pruned nodes, max_depth=10\u001b[0m\n",
      "\u001b[31m[255]#011train-rmse:4.06553#011validation-rmse:4.11644\u001b[0m\n",
      "\u001b[31m[21:10:24] src/tree/updater_prune.cc:74: tree pruning end, 1 roots, 660 extra nodes, 0 pruned nodes, max_depth=10\u001b[0m\n",
      "\u001b[31m[256]#011train-rmse:4.06477#011validation-rmse:4.11576\u001b[0m\n",
      "\u001b[31m[21:10:28] src/tree/updater_prune.cc:74: tree pruning end, 1 roots, 632 extra nodes, 0 pruned nodes, max_depth=10\u001b[0m\n",
      "\u001b[31m[257]#011train-rmse:4.0642#011validation-rmse:4.11496\u001b[0m\n",
      "\u001b[31m[21:10:33] src/tree/updater_prune.cc:74: tree pruning end, 1 roots, 678 extra nodes, 0 pruned nodes, max_depth=10\u001b[0m\n",
      "\u001b[31m[258]#011train-rmse:4.06334#011validation-rmse:4.11434\u001b[0m\n",
      "\u001b[31m[21:10:37] src/tree/updater_prune.cc:74: tree pruning end, 1 roots, 626 extra nodes, 0 pruned nodes, max_depth=10\u001b[0m\n",
      "\u001b[31m[259]#011train-rmse:4.06282#011validation-rmse:4.11395\u001b[0m\n",
      "\u001b[31m[21:10:42] src/tree/updater_prune.cc:74: tree pruning end, 1 roots, 564 extra nodes, 0 pruned nodes, max_depth=10\u001b[0m\n",
      "\u001b[31m[260]#011train-rmse:4.06202#011validation-rmse:4.11304\u001b[0m\n",
      "\u001b[31m[21:10:46] src/tree/updater_prune.cc:74: tree pruning end, 1 roots, 682 extra nodes, 0 pruned nodes, max_depth=10\u001b[0m\n",
      "\u001b[31m[261]#011train-rmse:4.06136#011validation-rmse:4.11223\u001b[0m\n",
      "\u001b[31m[21:10:51] src/tree/updater_prune.cc:74: tree pruning end, 1 roots, 684 extra nodes, 0 pruned nodes, max_depth=10\u001b[0m\n",
      "\u001b[31m[262]#011train-rmse:4.06062#011validation-rmse:4.11145\u001b[0m\n",
      "\u001b[31m[21:10:55] src/tree/updater_prune.cc:74: tree pruning end, 1 roots, 588 extra nodes, 0 pruned nodes, max_depth=10\u001b[0m\n",
      "\u001b[31m[263]#011train-rmse:4.06033#011validation-rmse:4.11127\u001b[0m\n"
     ]
    },
    {
     "name": "stdout",
     "output_type": "stream",
     "text": [
      "\u001b[31m[21:11:00] src/tree/updater_prune.cc:74: tree pruning end, 1 roots, 618 extra nodes, 0 pruned nodes, max_depth=10\u001b[0m\n",
      "\u001b[31m[264]#011train-rmse:4.05961#011validation-rmse:4.11038\u001b[0m\n",
      "\u001b[31m[21:11:04] src/tree/updater_prune.cc:74: tree pruning end, 1 roots, 614 extra nodes, 0 pruned nodes, max_depth=10\u001b[0m\n",
      "\u001b[31m[265]#011train-rmse:4.05922#011validation-rmse:4.11006\u001b[0m\n",
      "\u001b[31m[21:11:09] src/tree/updater_prune.cc:74: tree pruning end, 1 roots, 696 extra nodes, 0 pruned nodes, max_depth=10\u001b[0m\n",
      "\u001b[31m[266]#011train-rmse:4.05873#011validation-rmse:4.10953\u001b[0m\n",
      "\u001b[31m[21:11:13] src/tree/updater_prune.cc:74: tree pruning end, 1 roots, 596 extra nodes, 0 pruned nodes, max_depth=10\u001b[0m\n",
      "\u001b[31m[267]#011train-rmse:4.05822#011validation-rmse:4.10892\u001b[0m\n",
      "\u001b[31m[21:11:18] src/tree/updater_prune.cc:74: tree pruning end, 1 roots, 564 extra nodes, 0 pruned nodes, max_depth=10\u001b[0m\n",
      "\u001b[31m[268]#011train-rmse:4.05787#011validation-rmse:4.10881\u001b[0m\n",
      "\u001b[31m[21:11:22] src/tree/updater_prune.cc:74: tree pruning end, 1 roots, 606 extra nodes, 0 pruned nodes, max_depth=10\u001b[0m\n",
      "\u001b[31m[269]#011train-rmse:4.05738#011validation-rmse:4.10853\u001b[0m\n",
      "\u001b[31m[21:11:27] src/tree/updater_prune.cc:74: tree pruning end, 1 roots, 644 extra nodes, 0 pruned nodes, max_depth=10\u001b[0m\n",
      "\u001b[31m[270]#011train-rmse:4.05679#011validation-rmse:4.10809\u001b[0m\n",
      "\u001b[31m[21:11:31] src/tree/updater_prune.cc:74: tree pruning end, 1 roots, 558 extra nodes, 0 pruned nodes, max_depth=10\u001b[0m\n",
      "\u001b[31m[271]#011train-rmse:4.05642#011validation-rmse:4.10734\u001b[0m\n",
      "\u001b[31m[21:11:36] src/tree/updater_prune.cc:74: tree pruning end, 1 roots, 622 extra nodes, 0 pruned nodes, max_depth=10\u001b[0m\n",
      "\u001b[31m[272]#011train-rmse:4.05593#011validation-rmse:4.10698\u001b[0m\n",
      "\u001b[31m[21:11:40] src/tree/updater_prune.cc:74: tree pruning end, 1 roots, 682 extra nodes, 0 pruned nodes, max_depth=10\u001b[0m\n",
      "\u001b[31m[273]#011train-rmse:4.05522#011validation-rmse:4.10592\u001b[0m\n",
      "\u001b[31m[21:11:45] src/tree/updater_prune.cc:74: tree pruning end, 1 roots, 626 extra nodes, 0 pruned nodes, max_depth=10\u001b[0m\n",
      "\u001b[31m[274]#011train-rmse:4.05488#011validation-rmse:4.1059\u001b[0m\n",
      "\u001b[31m[21:11:49] src/tree/updater_prune.cc:74: tree pruning end, 1 roots, 574 extra nodes, 0 pruned nodes, max_depth=10\u001b[0m\n",
      "\u001b[31m[275]#011train-rmse:4.05452#011validation-rmse:4.1054\u001b[0m\n",
      "\u001b[31m[21:11:54] src/tree/updater_prune.cc:74: tree pruning end, 1 roots, 654 extra nodes, 0 pruned nodes, max_depth=10\u001b[0m\n",
      "\u001b[31m[276]#011train-rmse:4.05405#011validation-rmse:4.10498\u001b[0m\n",
      "\u001b[31m[21:11:58] src/tree/updater_prune.cc:74: tree pruning end, 1 roots, 566 extra nodes, 0 pruned nodes, max_depth=10\u001b[0m\n",
      "\u001b[31m[277]#011train-rmse:4.05358#011validation-rmse:4.10449\u001b[0m\n",
      "\u001b[31m[21:12:03] src/tree/updater_prune.cc:74: tree pruning end, 1 roots, 714 extra nodes, 0 pruned nodes, max_depth=10\u001b[0m\n",
      "\u001b[31m[278]#011train-rmse:4.05307#011validation-rmse:4.10399\u001b[0m\n",
      "\u001b[31m[21:12:08] src/tree/updater_prune.cc:74: tree pruning end, 1 roots, 644 extra nodes, 0 pruned nodes, max_depth=10\u001b[0m\n",
      "\u001b[31m[279]#011train-rmse:4.05264#011validation-rmse:4.10366\u001b[0m\n",
      "\u001b[31m[21:12:12] src/tree/updater_prune.cc:74: tree pruning end, 1 roots, 692 extra nodes, 0 pruned nodes, max_depth=10\u001b[0m\n",
      "\u001b[31m[280]#011train-rmse:4.05213#011validation-rmse:4.1032\u001b[0m\n",
      "\u001b[31m[21:12:17] src/tree/updater_prune.cc:74: tree pruning end, 1 roots, 548 extra nodes, 0 pruned nodes, max_depth=10\u001b[0m\n",
      "\u001b[31m[281]#011train-rmse:4.05189#011validation-rmse:4.10305\u001b[0m\n",
      "\u001b[31m[21:12:21] src/tree/updater_prune.cc:74: tree pruning end, 1 roots, 712 extra nodes, 0 pruned nodes, max_depth=10\u001b[0m\n",
      "\u001b[31m[282]#011train-rmse:4.05149#011validation-rmse:4.10239\u001b[0m\n",
      "\u001b[31m[21:12:26] src/tree/updater_prune.cc:74: tree pruning end, 1 roots, 574 extra nodes, 0 pruned nodes, max_depth=10\u001b[0m\n",
      "\u001b[31m[283]#011train-rmse:4.0511#011validation-rmse:4.10182\u001b[0m\n",
      "\u001b[31m[21:12:30] src/tree/updater_prune.cc:74: tree pruning end, 1 roots, 636 extra nodes, 0 pruned nodes, max_depth=10\u001b[0m\n",
      "\u001b[31m[284]#011train-rmse:4.05076#011validation-rmse:4.10115\u001b[0m\n",
      "\u001b[31m[21:12:35] src/tree/updater_prune.cc:74: tree pruning end, 1 roots, 824 extra nodes, 0 pruned nodes, max_depth=10\u001b[0m\n",
      "\u001b[31m[285]#011train-rmse:4.05001#011validation-rmse:4.10058\u001b[0m\n",
      "\u001b[31m[21:12:39] src/tree/updater_prune.cc:74: tree pruning end, 1 roots, 664 extra nodes, 0 pruned nodes, max_depth=10\u001b[0m\n",
      "\u001b[31m[286]#011train-rmse:4.04959#011validation-rmse:4.10024\u001b[0m\n",
      "\u001b[31m[21:12:44] src/tree/updater_prune.cc:74: tree pruning end, 1 roots, 620 extra nodes, 0 pruned nodes, max_depth=10\u001b[0m\n",
      "\u001b[31m[287]#011train-rmse:4.04923#011validation-rmse:4.0997\u001b[0m\n",
      "\u001b[31m[21:12:49] src/tree/updater_prune.cc:74: tree pruning end, 1 roots, 644 extra nodes, 0 pruned nodes, max_depth=10\u001b[0m\n",
      "\u001b[31m[288]#011train-rmse:4.0487#011validation-rmse:4.09907\u001b[0m\n",
      "\u001b[31m[21:12:53] src/tree/updater_prune.cc:74: tree pruning end, 1 roots, 708 extra nodes, 0 pruned nodes, max_depth=10\u001b[0m\n",
      "\u001b[31m[289]#011train-rmse:4.04827#011validation-rmse:4.09894\u001b[0m\n",
      "\u001b[31m[21:12:58] src/tree/updater_prune.cc:74: tree pruning end, 1 roots, 688 extra nodes, 0 pruned nodes, max_depth=10\u001b[0m\n",
      "\u001b[31m[290]#011train-rmse:4.04794#011validation-rmse:4.0987\u001b[0m\n",
      "\u001b[31m[21:13:02] src/tree/updater_prune.cc:74: tree pruning end, 1 roots, 620 extra nodes, 0 pruned nodes, max_depth=10\u001b[0m\n",
      "\u001b[31m[291]#011train-rmse:4.0477#011validation-rmse:4.09857\u001b[0m\n",
      "\u001b[31m[21:13:07] src/tree/updater_prune.cc:74: tree pruning end, 1 roots, 682 extra nodes, 0 pruned nodes, max_depth=10\u001b[0m\n",
      "\u001b[31m[292]#011train-rmse:4.04724#011validation-rmse:4.09773\u001b[0m\n",
      "\u001b[31m[21:13:11] src/tree/updater_prune.cc:74: tree pruning end, 1 roots, 608 extra nodes, 0 pruned nodes, max_depth=10\u001b[0m\n",
      "\u001b[31m[293]#011train-rmse:4.04712#011validation-rmse:4.09796\u001b[0m\n",
      "\u001b[31m[21:13:16] src/tree/updater_prune.cc:74: tree pruning end, 1 roots, 684 extra nodes, 0 pruned nodes, max_depth=10\u001b[0m\n",
      "\u001b[31m[294]#011train-rmse:4.04667#011validation-rmse:4.09729\u001b[0m\n",
      "\u001b[31m[21:13:20] src/tree/updater_prune.cc:74: tree pruning end, 1 roots, 732 extra nodes, 0 pruned nodes, max_depth=10\u001b[0m\n",
      "\u001b[31m[295]#011train-rmse:4.04629#011validation-rmse:4.09695\u001b[0m\n",
      "\u001b[31m[21:13:25] src/tree/updater_prune.cc:74: tree pruning end, 1 roots, 646 extra nodes, 0 pruned nodes, max_depth=10\u001b[0m\n",
      "\u001b[31m[296]#011train-rmse:4.04594#011validation-rmse:4.09615\u001b[0m\n",
      "\u001b[31m[21:13:29] src/tree/updater_prune.cc:74: tree pruning end, 1 roots, 732 extra nodes, 0 pruned nodes, max_depth=10\u001b[0m\n",
      "\u001b[31m[297]#011train-rmse:4.0452#011validation-rmse:4.09565\u001b[0m\n",
      "\u001b[31m[21:13:34] src/tree/updater_prune.cc:74: tree pruning end, 1 roots, 556 extra nodes, 0 pruned nodes, max_depth=10\u001b[0m\n",
      "\u001b[31m[298]#011train-rmse:4.04486#011validation-rmse:4.09535\u001b[0m\n",
      "\u001b[31m[21:13:39] src/tree/updater_prune.cc:74: tree pruning end, 1 roots, 704 extra nodes, 0 pruned nodes, max_depth=10\u001b[0m\n",
      "\u001b[31m[299]#011train-rmse:4.0445#011validation-rmse:4.09475\u001b[0m\n",
      "\u001b[31m[21:13:43] src/tree/updater_prune.cc:74: tree pruning end, 1 roots, 622 extra nodes, 0 pruned nodes, max_depth=10\u001b[0m\n",
      "\u001b[31m[300]#011train-rmse:4.04408#011validation-rmse:4.09448\u001b[0m\n",
      "\u001b[31m[21:13:48] src/tree/updater_prune.cc:74: tree pruning end, 1 roots, 678 extra nodes, 0 pruned nodes, max_depth=10\u001b[0m\n",
      "\u001b[31m[301]#011train-rmse:4.04371#011validation-rmse:4.0937\u001b[0m\n",
      "\u001b[31m[21:13:52] src/tree/updater_prune.cc:74: tree pruning end, 1 roots, 630 extra nodes, 0 pruned nodes, max_depth=10\u001b[0m\n",
      "\u001b[31m[302]#011train-rmse:4.04343#011validation-rmse:4.0933\u001b[0m\n",
      "\u001b[31m[21:13:56] src/tree/updater_prune.cc:74: tree pruning end, 1 roots, 684 extra nodes, 0 pruned nodes, max_depth=10\u001b[0m\n",
      "\u001b[31m[303]#011train-rmse:4.04296#011validation-rmse:4.09311\u001b[0m\n",
      "\u001b[31m[21:14:01] src/tree/updater_prune.cc:74: tree pruning end, 1 roots, 576 extra nodes, 0 pruned nodes, max_depth=10\u001b[0m\n",
      "\u001b[31m[304]#011train-rmse:4.04263#011validation-rmse:4.09276\u001b[0m\n",
      "\u001b[31m[21:14:05] src/tree/updater_prune.cc:74: tree pruning end, 1 roots, 582 extra nodes, 0 pruned nodes, max_depth=10\u001b[0m\n",
      "\u001b[31m[305]#011train-rmse:4.04236#011validation-rmse:4.09266\u001b[0m\n",
      "\u001b[31m[21:14:10] src/tree/updater_prune.cc:74: tree pruning end, 1 roots, 630 extra nodes, 0 pruned nodes, max_depth=10\u001b[0m\n",
      "\u001b[31m[306]#011train-rmse:4.04199#011validation-rmse:4.09246\u001b[0m\n",
      "\u001b[31m[21:14:14] src/tree/updater_prune.cc:74: tree pruning end, 1 roots, 580 extra nodes, 0 pruned nodes, max_depth=10\u001b[0m\n",
      "\u001b[31m[307]#011train-rmse:4.04171#011validation-rmse:4.09227\u001b[0m\n"
     ]
    },
    {
     "name": "stdout",
     "output_type": "stream",
     "text": [
      "\u001b[31m[21:14:19] src/tree/updater_prune.cc:74: tree pruning end, 1 roots, 670 extra nodes, 0 pruned nodes, max_depth=10\u001b[0m\n",
      "\u001b[31m[308]#011train-rmse:4.04124#011validation-rmse:4.09173\u001b[0m\n",
      "\u001b[31m[21:14:23] src/tree/updater_prune.cc:74: tree pruning end, 1 roots, 634 extra nodes, 0 pruned nodes, max_depth=10\u001b[0m\n",
      "\u001b[31m[309]#011train-rmse:4.04104#011validation-rmse:4.09137\u001b[0m\n",
      "\u001b[31m[21:14:28] src/tree/updater_prune.cc:74: tree pruning end, 1 roots, 546 extra nodes, 0 pruned nodes, max_depth=10\u001b[0m\n",
      "\u001b[31m[310]#011train-rmse:4.04076#011validation-rmse:4.09094\u001b[0m\n",
      "\u001b[31m[21:14:33] src/tree/updater_prune.cc:74: tree pruning end, 1 roots, 798 extra nodes, 0 pruned nodes, max_depth=10\u001b[0m\n",
      "\u001b[31m[311]#011train-rmse:4.04012#011validation-rmse:4.09046\u001b[0m\n",
      "\u001b[31m[21:14:37] src/tree/updater_prune.cc:74: tree pruning end, 1 roots, 626 extra nodes, 0 pruned nodes, max_depth=10\u001b[0m\n",
      "\u001b[31m[312]#011train-rmse:4.03976#011validation-rmse:4.08986\u001b[0m\n",
      "\u001b[31m[21:14:42] src/tree/updater_prune.cc:74: tree pruning end, 1 roots, 662 extra nodes, 0 pruned nodes, max_depth=10\u001b[0m\n",
      "\u001b[31m[313]#011train-rmse:4.03938#011validation-rmse:4.08914\u001b[0m\n",
      "\u001b[31m[21:14:46] src/tree/updater_prune.cc:74: tree pruning end, 1 roots, 650 extra nodes, 0 pruned nodes, max_depth=10\u001b[0m\n",
      "\u001b[31m[314]#011train-rmse:4.03915#011validation-rmse:4.08894\u001b[0m\n",
      "\u001b[31m[21:14:51] src/tree/updater_prune.cc:74: tree pruning end, 1 roots, 540 extra nodes, 0 pruned nodes, max_depth=10\u001b[0m\n",
      "\u001b[31m[315]#011train-rmse:4.03887#011validation-rmse:4.08858\u001b[0m\n",
      "\u001b[31m[21:14:55] src/tree/updater_prune.cc:74: tree pruning end, 1 roots, 626 extra nodes, 0 pruned nodes, max_depth=10\u001b[0m\n",
      "\u001b[31m[316]#011train-rmse:4.03853#011validation-rmse:4.08773\u001b[0m\n",
      "\u001b[31m[21:15:00] src/tree/updater_prune.cc:74: tree pruning end, 1 roots, 620 extra nodes, 0 pruned nodes, max_depth=10\u001b[0m\n",
      "\u001b[31m[317]#011train-rmse:4.03817#011validation-rmse:4.08726\u001b[0m\n",
      "\u001b[31m[21:15:04] src/tree/updater_prune.cc:74: tree pruning end, 1 roots, 564 extra nodes, 0 pruned nodes, max_depth=10\u001b[0m\n",
      "\u001b[31m[318]#011train-rmse:4.03799#011validation-rmse:4.08696\u001b[0m\n",
      "\u001b[31m[21:15:09] src/tree/updater_prune.cc:74: tree pruning end, 1 roots, 702 extra nodes, 0 pruned nodes, max_depth=10\u001b[0m\n",
      "\u001b[31m[319]#011train-rmse:4.03743#011validation-rmse:4.08675\u001b[0m\n",
      "\u001b[31m[21:15:13] src/tree/updater_prune.cc:74: tree pruning end, 1 roots, 642 extra nodes, 0 pruned nodes, max_depth=10\u001b[0m\n",
      "\u001b[31m[320]#011train-rmse:4.03712#011validation-rmse:4.08648\u001b[0m\n",
      "\u001b[31m[21:15:18] src/tree/updater_prune.cc:74: tree pruning end, 1 roots, 702 extra nodes, 0 pruned nodes, max_depth=10\u001b[0m\n",
      "\u001b[31m[321]#011train-rmse:4.03668#011validation-rmse:4.08626\u001b[0m\n",
      "\u001b[31m[21:15:22] src/tree/updater_prune.cc:74: tree pruning end, 1 roots, 602 extra nodes, 0 pruned nodes, max_depth=10\u001b[0m\n",
      "\u001b[31m[322]#011train-rmse:4.03644#011validation-rmse:4.08618\u001b[0m\n",
      "\u001b[31m[21:15:27] src/tree/updater_prune.cc:74: tree pruning end, 1 roots, 760 extra nodes, 0 pruned nodes, max_depth=10\u001b[0m\n",
      "\u001b[31m[323]#011train-rmse:4.03605#011validation-rmse:4.08596\u001b[0m\n",
      "\u001b[31m[21:15:32] src/tree/updater_prune.cc:74: tree pruning end, 1 roots, 782 extra nodes, 0 pruned nodes, max_depth=10\u001b[0m\n",
      "\u001b[31m[324]#011train-rmse:4.03566#011validation-rmse:4.08557\u001b[0m\n",
      "\u001b[31m[21:15:36] src/tree/updater_prune.cc:74: tree pruning end, 1 roots, 764 extra nodes, 0 pruned nodes, max_depth=10\u001b[0m\n",
      "\u001b[31m[325]#011train-rmse:4.03511#011validation-rmse:4.08515\u001b[0m\n",
      "\u001b[31m[21:15:41] src/tree/updater_prune.cc:74: tree pruning end, 1 roots, 560 extra nodes, 0 pruned nodes, max_depth=10\u001b[0m\n",
      "\u001b[31m[326]#011train-rmse:4.03497#011validation-rmse:4.08527\u001b[0m\n",
      "\u001b[31m[21:15:45] src/tree/updater_prune.cc:74: tree pruning end, 1 roots, 686 extra nodes, 0 pruned nodes, max_depth=10\u001b[0m\n",
      "\u001b[31m[327]#011train-rmse:4.03446#011validation-rmse:4.08481\u001b[0m\n",
      "\u001b[31m[21:15:50] src/tree/updater_prune.cc:74: tree pruning end, 1 roots, 604 extra nodes, 0 pruned nodes, max_depth=10\u001b[0m\n",
      "\u001b[31m[328]#011train-rmse:4.03418#011validation-rmse:4.08483\u001b[0m\n",
      "\u001b[31m[21:15:54] src/tree/updater_prune.cc:74: tree pruning end, 1 roots, 614 extra nodes, 0 pruned nodes, max_depth=10\u001b[0m\n",
      "\u001b[31m[329]#011train-rmse:4.03378#011validation-rmse:4.08479\u001b[0m\n",
      "\u001b[31m[21:15:59] src/tree/updater_prune.cc:74: tree pruning end, 1 roots, 600 extra nodes, 0 pruned nodes, max_depth=10\u001b[0m\n",
      "\u001b[31m[330]#011train-rmse:4.03356#011validation-rmse:4.08447\u001b[0m\n",
      "\u001b[31m[21:16:04] src/tree/updater_prune.cc:74: tree pruning end, 1 roots, 740 extra nodes, 0 pruned nodes, max_depth=10\u001b[0m\n",
      "\u001b[31m[331]#011train-rmse:4.03318#011validation-rmse:4.08428\u001b[0m\n",
      "\u001b[31m[21:16:08] src/tree/updater_prune.cc:74: tree pruning end, 1 roots, 610 extra nodes, 0 pruned nodes, max_depth=10\u001b[0m\n",
      "\u001b[31m[332]#011train-rmse:4.03291#011validation-rmse:4.08434\u001b[0m\n",
      "\u001b[31m[21:16:12] src/tree/updater_prune.cc:74: tree pruning end, 1 roots, 562 extra nodes, 0 pruned nodes, max_depth=10\u001b[0m\n",
      "\u001b[31m[333]#011train-rmse:4.03279#011validation-rmse:4.08405\u001b[0m\n",
      "\u001b[31m[21:16:17] src/tree/updater_prune.cc:74: tree pruning end, 1 roots, 586 extra nodes, 0 pruned nodes, max_depth=10\u001b[0m\n",
      "\u001b[31m[334]#011train-rmse:4.03254#011validation-rmse:4.08418\u001b[0m\n",
      "\u001b[31m[21:16:21] src/tree/updater_prune.cc:74: tree pruning end, 1 roots, 620 extra nodes, 0 pruned nodes, max_depth=10\u001b[0m\n",
      "\u001b[31m[335]#011train-rmse:4.03234#011validation-rmse:4.08411\u001b[0m\n",
      "\u001b[31m[21:16:26] src/tree/updater_prune.cc:74: tree pruning end, 1 roots, 572 extra nodes, 0 pruned nodes, max_depth=10\u001b[0m\n",
      "\u001b[31m[336]#011train-rmse:4.0322#011validation-rmse:4.0842\u001b[0m\n",
      "\u001b[31m[21:16:30] src/tree/updater_prune.cc:74: tree pruning end, 1 roots, 658 extra nodes, 0 pruned nodes, max_depth=10\u001b[0m\n",
      "\u001b[31m[337]#011train-rmse:4.03199#011validation-rmse:4.08418\u001b[0m\n",
      "\u001b[31m[21:16:35] src/tree/updater_prune.cc:74: tree pruning end, 1 roots, 568 extra nodes, 0 pruned nodes, max_depth=10\u001b[0m\n",
      "\u001b[31m[338]#011train-rmse:4.03177#011validation-rmse:4.08372\u001b[0m\n",
      "\u001b[31m[21:16:39] src/tree/updater_prune.cc:74: tree pruning end, 1 roots, 626 extra nodes, 0 pruned nodes, max_depth=10\u001b[0m\n",
      "\u001b[31m[339]#011train-rmse:4.03154#011validation-rmse:4.08343\u001b[0m\n",
      "\u001b[31m[21:16:44] src/tree/updater_prune.cc:74: tree pruning end, 1 roots, 600 extra nodes, 0 pruned nodes, max_depth=10\u001b[0m\n",
      "\u001b[31m[340]#011train-rmse:4.03135#011validation-rmse:4.08335\u001b[0m\n",
      "\u001b[31m[21:16:48] src/tree/updater_prune.cc:74: tree pruning end, 1 roots, 544 extra nodes, 0 pruned nodes, max_depth=10\u001b[0m\n",
      "\u001b[31m[341]#011train-rmse:4.03108#011validation-rmse:4.08335\u001b[0m\n",
      "\u001b[31m[21:16:53] src/tree/updater_prune.cc:74: tree pruning end, 1 roots, 672 extra nodes, 0 pruned nodes, max_depth=10\u001b[0m\n",
      "\u001b[31m[342]#011train-rmse:4.03086#011validation-rmse:4.08306\u001b[0m\n",
      "\u001b[31m[21:16:57] src/tree/updater_prune.cc:74: tree pruning end, 1 roots, 568 extra nodes, 0 pruned nodes, max_depth=10\u001b[0m\n",
      "\u001b[31m[343]#011train-rmse:4.03062#011validation-rmse:4.08275\u001b[0m\n",
      "\u001b[31m[21:17:02] src/tree/updater_prune.cc:74: tree pruning end, 1 roots, 604 extra nodes, 0 pruned nodes, max_depth=10\u001b[0m\n",
      "\u001b[31m[344]#011train-rmse:4.03034#011validation-rmse:4.08257\u001b[0m\n",
      "\u001b[31m[21:17:07] src/tree/updater_prune.cc:74: tree pruning end, 1 roots, 884 extra nodes, 0 pruned nodes, max_depth=10\u001b[0m\n",
      "\u001b[31m[345]#011train-rmse:4.02975#011validation-rmse:4.08161\u001b[0m\n",
      "\u001b[31m[21:17:11] src/tree/updater_prune.cc:74: tree pruning end, 1 roots, 550 extra nodes, 0 pruned nodes, max_depth=10\u001b[0m\n",
      "\u001b[31m[346]#011train-rmse:4.02948#011validation-rmse:4.08101\u001b[0m\n",
      "\u001b[31m[21:17:16] src/tree/updater_prune.cc:74: tree pruning end, 1 roots, 662 extra nodes, 0 pruned nodes, max_depth=10\u001b[0m\n",
      "\u001b[31m[347]#011train-rmse:4.02923#011validation-rmse:4.08123\u001b[0m\n",
      "\u001b[31m[21:17:20] src/tree/updater_prune.cc:74: tree pruning end, 1 roots, 596 extra nodes, 0 pruned nodes, max_depth=10\u001b[0m\n",
      "\u001b[31m[348]#011train-rmse:4.02893#011validation-rmse:4.08047\u001b[0m\n",
      "\u001b[31m[21:17:25] src/tree/updater_prune.cc:74: tree pruning end, 1 roots, 616 extra nodes, 0 pruned nodes, max_depth=10\u001b[0m\n",
      "\u001b[31m[349]#011train-rmse:4.02874#011validation-rmse:4.08022\u001b[0m\n",
      "\u001b[31m[21:17:29] src/tree/updater_prune.cc:74: tree pruning end, 1 roots, 606 extra nodes, 0 pruned nodes, max_depth=10\u001b[0m\n",
      "\u001b[31m[350]#011train-rmse:4.02842#011validation-rmse:4.07934\u001b[0m\n",
      "\u001b[31m[21:17:34] src/tree/updater_prune.cc:74: tree pruning end, 1 roots, 646 extra nodes, 0 pruned nodes, max_depth=10\u001b[0m\n",
      "\u001b[31m[351]#011train-rmse:4.02826#011validation-rmse:4.07929\u001b[0m\n",
      "\u001b[31m[21:17:38] src/tree/updater_prune.cc:74: tree pruning end, 1 roots, 684 extra nodes, 0 pruned nodes, max_depth=10\u001b[0m\n",
      "\u001b[31m[352]#011train-rmse:4.02782#011validation-rmse:4.07885\u001b[0m\n",
      "\u001b[31m[21:17:43] src/tree/updater_prune.cc:74: tree pruning end, 1 roots, 556 extra nodes, 0 pruned nodes, max_depth=10\u001b[0m\n",
      "\u001b[31m[353]#011train-rmse:4.02772#011validation-rmse:4.07894\u001b[0m\n"
     ]
    },
    {
     "name": "stdout",
     "output_type": "stream",
     "text": [
      "\u001b[31m[21:17:47] src/tree/updater_prune.cc:74: tree pruning end, 1 roots, 582 extra nodes, 0 pruned nodes, max_depth=10\u001b[0m\n",
      "\u001b[31m[354]#011train-rmse:4.02746#011validation-rmse:4.07874\u001b[0m\n",
      "\u001b[31m[21:17:52] src/tree/updater_prune.cc:74: tree pruning end, 1 roots, 606 extra nodes, 0 pruned nodes, max_depth=10\u001b[0m\n",
      "\u001b[31m[355]#011train-rmse:4.02728#011validation-rmse:4.07856\u001b[0m\n",
      "\u001b[31m[21:17:56] src/tree/updater_prune.cc:74: tree pruning end, 1 roots, 620 extra nodes, 0 pruned nodes, max_depth=10\u001b[0m\n",
      "\u001b[31m[356]#011train-rmse:4.02713#011validation-rmse:4.07808\u001b[0m\n",
      "\u001b[31m[21:18:01] src/tree/updater_prune.cc:74: tree pruning end, 1 roots, 660 extra nodes, 0 pruned nodes, max_depth=10\u001b[0m\n",
      "\u001b[31m[357]#011train-rmse:4.0269#011validation-rmse:4.07819\u001b[0m\n",
      "\u001b[31m[21:18:05] src/tree/updater_prune.cc:74: tree pruning end, 1 roots, 632 extra nodes, 0 pruned nodes, max_depth=10\u001b[0m\n",
      "\u001b[31m[358]#011train-rmse:4.02677#011validation-rmse:4.07797\u001b[0m\n",
      "\u001b[31m[21:18:10] src/tree/updater_prune.cc:74: tree pruning end, 1 roots, 672 extra nodes, 0 pruned nodes, max_depth=10\u001b[0m\n",
      "\u001b[31m[359]#011train-rmse:4.02656#011validation-rmse:4.07771\u001b[0m\n",
      "\u001b[31m[21:18:14] src/tree/updater_prune.cc:74: tree pruning end, 1 roots, 736 extra nodes, 0 pruned nodes, max_depth=10\u001b[0m\n",
      "\u001b[31m[360]#011train-rmse:4.0263#011validation-rmse:4.07782\u001b[0m\n",
      "\u001b[31m[21:18:19] src/tree/updater_prune.cc:74: tree pruning end, 1 roots, 562 extra nodes, 0 pruned nodes, max_depth=10\u001b[0m\n",
      "\u001b[31m[361]#011train-rmse:4.02609#011validation-rmse:4.07837\u001b[0m\n",
      "\u001b[31m[21:18:23] src/tree/updater_prune.cc:74: tree pruning end, 1 roots, 640 extra nodes, 0 pruned nodes, max_depth=10\u001b[0m\n",
      "\u001b[31m[362]#011train-rmse:4.02592#011validation-rmse:4.07787\u001b[0m\n",
      "\u001b[31m[21:18:27] src/tree/updater_prune.cc:74: tree pruning end, 1 roots, 610 extra nodes, 0 pruned nodes, max_depth=10\u001b[0m\n",
      "\u001b[31m[363]#011train-rmse:4.02573#011validation-rmse:4.07771\u001b[0m\n",
      "\u001b[31m[21:18:32] src/tree/updater_prune.cc:74: tree pruning end, 1 roots, 612 extra nodes, 0 pruned nodes, max_depth=10\u001b[0m\n",
      "\u001b[31m[364]#011train-rmse:4.02546#011validation-rmse:4.07764\u001b[0m\n",
      "\u001b[31m[21:18:36] src/tree/updater_prune.cc:74: tree pruning end, 1 roots, 630 extra nodes, 0 pruned nodes, max_depth=10\u001b[0m\n",
      "\u001b[31m[365]#011train-rmse:4.02522#011validation-rmse:4.07716\u001b[0m\n",
      "\u001b[31m[21:18:41] src/tree/updater_prune.cc:74: tree pruning end, 1 roots, 702 extra nodes, 0 pruned nodes, max_depth=10\u001b[0m\n",
      "\u001b[31m[366]#011train-rmse:4.02503#011validation-rmse:4.0768\u001b[0m\n",
      "\u001b[31m[21:18:45] src/tree/updater_prune.cc:74: tree pruning end, 1 roots, 696 extra nodes, 0 pruned nodes, max_depth=10\u001b[0m\n",
      "\u001b[31m[367]#011train-rmse:4.02489#011validation-rmse:4.07644\u001b[0m\n",
      "\u001b[31m[21:18:50] src/tree/updater_prune.cc:74: tree pruning end, 1 roots, 624 extra nodes, 0 pruned nodes, max_depth=10\u001b[0m\n",
      "\u001b[31m[368]#011train-rmse:4.02472#011validation-rmse:4.07635\u001b[0m\n",
      "\u001b[31m[21:18:54] src/tree/updater_prune.cc:74: tree pruning end, 1 roots, 568 extra nodes, 0 pruned nodes, max_depth=10\u001b[0m\n",
      "\u001b[31m[369]#011train-rmse:4.02462#011validation-rmse:4.07614\u001b[0m\n",
      "\u001b[31m[21:18:59] src/tree/updater_prune.cc:74: tree pruning end, 1 roots, 568 extra nodes, 0 pruned nodes, max_depth=10\u001b[0m\n",
      "\u001b[31m[370]#011train-rmse:4.02442#011validation-rmse:4.07583\u001b[0m\n",
      "\u001b[31m[21:19:03] src/tree/updater_prune.cc:74: tree pruning end, 1 roots, 724 extra nodes, 0 pruned nodes, max_depth=10\u001b[0m\n",
      "\u001b[31m[371]#011train-rmse:4.02416#011validation-rmse:4.07587\u001b[0m\n",
      "\u001b[31m[21:19:08] src/tree/updater_prune.cc:74: tree pruning end, 1 roots, 614 extra nodes, 0 pruned nodes, max_depth=10\u001b[0m\n",
      "\u001b[31m[372]#011train-rmse:4.0239#011validation-rmse:4.07535\u001b[0m\n",
      "\u001b[31m[21:19:12] src/tree/updater_prune.cc:74: tree pruning end, 1 roots, 706 extra nodes, 0 pruned nodes, max_depth=10\u001b[0m\n",
      "\u001b[31m[373]#011train-rmse:4.02368#011validation-rmse:4.07517\u001b[0m\n",
      "\u001b[31m[21:19:17] src/tree/updater_prune.cc:74: tree pruning end, 1 roots, 580 extra nodes, 0 pruned nodes, max_depth=10\u001b[0m\n",
      "\u001b[31m[374]#011train-rmse:4.02354#011validation-rmse:4.0749\u001b[0m\n",
      "\u001b[31m[21:19:21] src/tree/updater_prune.cc:74: tree pruning end, 1 roots, 592 extra nodes, 0 pruned nodes, max_depth=10\u001b[0m\n",
      "\u001b[31m[375]#011train-rmse:4.02343#011validation-rmse:4.07486\u001b[0m\n",
      "\u001b[31m[21:19:26] src/tree/updater_prune.cc:74: tree pruning end, 1 roots, 604 extra nodes, 0 pruned nodes, max_depth=10\u001b[0m\n",
      "\u001b[31m[376]#011train-rmse:4.02319#011validation-rmse:4.07443\u001b[0m\n",
      "\u001b[31m[21:19:30] src/tree/updater_prune.cc:74: tree pruning end, 1 roots, 730 extra nodes, 0 pruned nodes, max_depth=10\u001b[0m\n",
      "\u001b[31m[377]#011train-rmse:4.02307#011validation-rmse:4.07434\u001b[0m\n",
      "\u001b[31m[21:19:35] src/tree/updater_prune.cc:74: tree pruning end, 1 roots, 746 extra nodes, 0 pruned nodes, max_depth=10\u001b[0m\n",
      "\u001b[31m[378]#011train-rmse:4.02279#011validation-rmse:4.07424\u001b[0m\n",
      "\u001b[31m[21:19:39] src/tree/updater_prune.cc:74: tree pruning end, 1 roots, 676 extra nodes, 0 pruned nodes, max_depth=10\u001b[0m\n",
      "\u001b[31m[379]#011train-rmse:4.02263#011validation-rmse:4.07444\u001b[0m\n",
      "\u001b[31m[21:19:44] src/tree/updater_prune.cc:74: tree pruning end, 1 roots, 644 extra nodes, 0 pruned nodes, max_depth=10\u001b[0m\n",
      "\u001b[31m[380]#011train-rmse:4.02248#011validation-rmse:4.07432\u001b[0m\n",
      "\u001b[31m[21:19:48] src/tree/updater_prune.cc:74: tree pruning end, 1 roots, 748 extra nodes, 0 pruned nodes, max_depth=10\u001b[0m\n",
      "\u001b[31m[381]#011train-rmse:4.02225#011validation-rmse:4.07419\u001b[0m\n",
      "\u001b[31m[21:19:53] src/tree/updater_prune.cc:74: tree pruning end, 1 roots, 636 extra nodes, 0 pruned nodes, max_depth=10\u001b[0m\n",
      "\u001b[31m[382]#011train-rmse:4.02195#011validation-rmse:4.07424\u001b[0m\n",
      "\u001b[31m[21:19:57] src/tree/updater_prune.cc:74: tree pruning end, 1 roots, 646 extra nodes, 0 pruned nodes, max_depth=10\u001b[0m\n",
      "\u001b[31m[383]#011train-rmse:4.02179#011validation-rmse:4.0739\u001b[0m\n",
      "\u001b[31m[21:20:02] src/tree/updater_prune.cc:74: tree pruning end, 1 roots, 658 extra nodes, 0 pruned nodes, max_depth=10\u001b[0m\n",
      "\u001b[31m[384]#011train-rmse:4.02162#011validation-rmse:4.07344\u001b[0m\n",
      "\u001b[31m[21:20:07] src/tree/updater_prune.cc:74: tree pruning end, 1 roots, 690 extra nodes, 0 pruned nodes, max_depth=10\u001b[0m\n",
      "\u001b[31m[385]#011train-rmse:4.02142#011validation-rmse:4.07366\u001b[0m\n",
      "\u001b[31m[21:20:11] src/tree/updater_prune.cc:74: tree pruning end, 1 roots, 662 extra nodes, 0 pruned nodes, max_depth=10\u001b[0m\n",
      "\u001b[31m[386]#011train-rmse:4.02128#011validation-rmse:4.07335\u001b[0m\n",
      "\u001b[31m[21:20:15] src/tree/updater_prune.cc:74: tree pruning end, 1 roots, 646 extra nodes, 0 pruned nodes, max_depth=10\u001b[0m\n",
      "\u001b[31m[387]#011train-rmse:4.02105#011validation-rmse:4.07291\u001b[0m\n",
      "\u001b[31m[21:20:20] src/tree/updater_prune.cc:74: tree pruning end, 1 roots, 704 extra nodes, 0 pruned nodes, max_depth=10\u001b[0m\n",
      "\u001b[31m[388]#011train-rmse:4.02083#011validation-rmse:4.07258\u001b[0m\n",
      "\u001b[31m[21:20:24] src/tree/updater_prune.cc:74: tree pruning end, 1 roots, 662 extra nodes, 0 pruned nodes, max_depth=10\u001b[0m\n",
      "\u001b[31m[389]#011train-rmse:4.02071#011validation-rmse:4.07249\u001b[0m\n",
      "\u001b[31m[21:20:29] src/tree/updater_prune.cc:74: tree pruning end, 1 roots, 566 extra nodes, 0 pruned nodes, max_depth=10\u001b[0m\n",
      "\u001b[31m[390]#011train-rmse:4.02057#011validation-rmse:4.07254\u001b[0m\n",
      "\u001b[31m[21:20:33] src/tree/updater_prune.cc:74: tree pruning end, 1 roots, 694 extra nodes, 0 pruned nodes, max_depth=10\u001b[0m\n",
      "\u001b[31m[391]#011train-rmse:4.02045#011validation-rmse:4.07229\u001b[0m\n",
      "\u001b[31m[21:20:38] src/tree/updater_prune.cc:74: tree pruning end, 1 roots, 650 extra nodes, 0 pruned nodes, max_depth=10\u001b[0m\n",
      "\u001b[31m[392]#011train-rmse:4.02028#011validation-rmse:4.07228\u001b[0m\n",
      "\u001b[31m[21:20:42] src/tree/updater_prune.cc:74: tree pruning end, 1 roots, 506 extra nodes, 0 pruned nodes, max_depth=10\u001b[0m\n",
      "\u001b[31m[393]#011train-rmse:4.02016#011validation-rmse:4.07217\u001b[0m\n",
      "\u001b[31m[21:20:47] src/tree/updater_prune.cc:74: tree pruning end, 1 roots, 456 extra nodes, 0 pruned nodes, max_depth=10\u001b[0m\n",
      "\u001b[31m[394]#011train-rmse:4.02#011validation-rmse:4.07182\u001b[0m\n",
      "\u001b[31m[21:20:51] src/tree/updater_prune.cc:74: tree pruning end, 1 roots, 660 extra nodes, 0 pruned nodes, max_depth=10\u001b[0m\n",
      "\u001b[31m[395]#011train-rmse:4.01984#011validation-rmse:4.07182\u001b[0m\n",
      "\u001b[31m[21:20:56] src/tree/updater_prune.cc:74: tree pruning end, 1 roots, 702 extra nodes, 0 pruned nodes, max_depth=10\u001b[0m\n",
      "\u001b[31m[396]#011train-rmse:4.01963#011validation-rmse:4.07144\u001b[0m\n",
      "\u001b[31m[21:21:00] src/tree/updater_prune.cc:74: tree pruning end, 1 roots, 498 extra nodes, 0 pruned nodes, max_depth=10\u001b[0m\n",
      "\u001b[31m[397]#011train-rmse:4.01942#011validation-rmse:4.07125\u001b[0m\n",
      "\u001b[31m[21:21:05] src/tree/updater_prune.cc:74: tree pruning end, 1 roots, 628 extra nodes, 0 pruned nodes, max_depth=10\u001b[0m\n",
      "\u001b[31m[398]#011train-rmse:4.01921#011validation-rmse:4.07103\u001b[0m\n",
      "\u001b[31m[21:21:09] src/tree/updater_prune.cc:74: tree pruning end, 1 roots, 702 extra nodes, 0 pruned nodes, max_depth=10\u001b[0m\n",
      "\u001b[31m[399]#011train-rmse:4.01896#011validation-rmse:4.07119\u001b[0m\n"
     ]
    },
    {
     "name": "stdout",
     "output_type": "stream",
     "text": [
      "\u001b[31m[21:21:14] src/tree/updater_prune.cc:74: tree pruning end, 1 roots, 720 extra nodes, 0 pruned nodes, max_depth=10\u001b[0m\n",
      "\u001b[31m[400]#011train-rmse:4.01882#011validation-rmse:4.07116\u001b[0m\n",
      "\u001b[31m[21:21:18] src/tree/updater_prune.cc:74: tree pruning end, 1 roots, 690 extra nodes, 0 pruned nodes, max_depth=10\u001b[0m\n",
      "\u001b[31m[401]#011train-rmse:4.01866#011validation-rmse:4.07108\u001b[0m\n",
      "\u001b[31m[21:21:23] src/tree/updater_prune.cc:74: tree pruning end, 1 roots, 666 extra nodes, 0 pruned nodes, max_depth=10\u001b[0m\n",
      "\u001b[31m[402]#011train-rmse:4.01832#011validation-rmse:4.07081\u001b[0m\n",
      "\u001b[31m[21:21:27] src/tree/updater_prune.cc:74: tree pruning end, 1 roots, 642 extra nodes, 0 pruned nodes, max_depth=10\u001b[0m\n",
      "\u001b[31m[403]#011train-rmse:4.01823#011validation-rmse:4.07067\u001b[0m\n",
      "\u001b[31m[21:21:32] src/tree/updater_prune.cc:74: tree pruning end, 1 roots, 784 extra nodes, 0 pruned nodes, max_depth=10\u001b[0m\n",
      "\u001b[31m[404]#011train-rmse:4.01787#011validation-rmse:4.07048\u001b[0m\n",
      "\u001b[31m[21:21:37] src/tree/updater_prune.cc:74: tree pruning end, 1 roots, 804 extra nodes, 0 pruned nodes, max_depth=10\u001b[0m\n",
      "\u001b[31m[405]#011train-rmse:4.01759#011validation-rmse:4.07009\u001b[0m\n",
      "\u001b[31m[21:21:41] src/tree/updater_prune.cc:74: tree pruning end, 1 roots, 728 extra nodes, 0 pruned nodes, max_depth=10\u001b[0m\n",
      "\u001b[31m[406]#011train-rmse:4.01733#011validation-rmse:4.07004\u001b[0m\n",
      "\u001b[31m[21:21:46] src/tree/updater_prune.cc:74: tree pruning end, 1 roots, 834 extra nodes, 0 pruned nodes, max_depth=10\u001b[0m\n",
      "\u001b[31m[407]#011train-rmse:4.01695#011validation-rmse:4.06939\u001b[0m\n",
      "\u001b[31m[21:21:50] src/tree/updater_prune.cc:74: tree pruning end, 1 roots, 590 extra nodes, 0 pruned nodes, max_depth=10\u001b[0m\n",
      "\u001b[31m[408]#011train-rmse:4.01673#011validation-rmse:4.06909\u001b[0m\n",
      "\u001b[31m[21:21:55] src/tree/updater_prune.cc:74: tree pruning end, 1 roots, 576 extra nodes, 0 pruned nodes, max_depth=10\u001b[0m\n",
      "\u001b[31m[409]#011train-rmse:4.01646#011validation-rmse:4.0687\u001b[0m\n",
      "\u001b[31m[21:22:00] src/tree/updater_prune.cc:74: tree pruning end, 1 roots, 654 extra nodes, 0 pruned nodes, max_depth=10\u001b[0m\n",
      "\u001b[31m[410]#011train-rmse:4.01623#011validation-rmse:4.06823\u001b[0m\n",
      "\u001b[31m[21:22:04] src/tree/updater_prune.cc:74: tree pruning end, 1 roots, 614 extra nodes, 0 pruned nodes, max_depth=10\u001b[0m\n",
      "\u001b[31m[411]#011train-rmse:4.01602#011validation-rmse:4.06764\u001b[0m\n",
      "\u001b[31m[21:22:09] src/tree/updater_prune.cc:74: tree pruning end, 1 roots, 598 extra nodes, 0 pruned nodes, max_depth=10\u001b[0m\n",
      "\u001b[31m[412]#011train-rmse:4.01589#011validation-rmse:4.06722\u001b[0m\n",
      "\u001b[31m[21:22:13] src/tree/updater_prune.cc:74: tree pruning end, 1 roots, 712 extra nodes, 0 pruned nodes, max_depth=10\u001b[0m\n",
      "\u001b[31m[413]#011train-rmse:4.0157#011validation-rmse:4.0669\u001b[0m\n",
      "\u001b[31m[21:22:18] src/tree/updater_prune.cc:74: tree pruning end, 1 roots, 640 extra nodes, 0 pruned nodes, max_depth=10\u001b[0m\n",
      "\u001b[31m[414]#011train-rmse:4.01562#011validation-rmse:4.06663\u001b[0m\n",
      "\u001b[31m[21:22:22] src/tree/updater_prune.cc:74: tree pruning end, 1 roots, 680 extra nodes, 0 pruned nodes, max_depth=10\u001b[0m\n",
      "\u001b[31m[415]#011train-rmse:4.0155#011validation-rmse:4.06672\u001b[0m\n",
      "\u001b[31m[21:22:27] src/tree/updater_prune.cc:74: tree pruning end, 1 roots, 670 extra nodes, 0 pruned nodes, max_depth=10\u001b[0m\n",
      "\u001b[31m[416]#011train-rmse:4.0153#011validation-rmse:4.06692\u001b[0m\n",
      "\u001b[31m[21:22:31] src/tree/updater_prune.cc:74: tree pruning end, 1 roots, 716 extra nodes, 0 pruned nodes, max_depth=10\u001b[0m\n",
      "\u001b[31m[417]#011train-rmse:4.01512#011validation-rmse:4.06659\u001b[0m\n",
      "\u001b[31m[21:22:36] src/tree/updater_prune.cc:74: tree pruning end, 1 roots, 588 extra nodes, 0 pruned nodes, max_depth=10\u001b[0m\n",
      "\u001b[31m[418]#011train-rmse:4.01495#011validation-rmse:4.06635\u001b[0m\n",
      "\u001b[31m[21:22:40] src/tree/updater_prune.cc:74: tree pruning end, 1 roots, 646 extra nodes, 0 pruned nodes, max_depth=10\u001b[0m\n",
      "\u001b[31m[419]#011train-rmse:4.01484#011validation-rmse:4.06614\u001b[0m\n",
      "\u001b[31m[21:22:45] src/tree/updater_prune.cc:74: tree pruning end, 1 roots, 698 extra nodes, 0 pruned nodes, max_depth=10\u001b[0m\n",
      "\u001b[31m[420]#011train-rmse:4.01469#011validation-rmse:4.0661\u001b[0m\n",
      "\u001b[31m[21:22:49] src/tree/updater_prune.cc:74: tree pruning end, 1 roots, 696 extra nodes, 0 pruned nodes, max_depth=10\u001b[0m\n",
      "\u001b[31m[421]#011train-rmse:4.01454#011validation-rmse:4.06593\u001b[0m\n",
      "\u001b[31m[21:22:54] src/tree/updater_prune.cc:74: tree pruning end, 1 roots, 640 extra nodes, 0 pruned nodes, max_depth=10\u001b[0m\n",
      "\u001b[31m[422]#011train-rmse:4.01442#011validation-rmse:4.06596\u001b[0m\n",
      "\u001b[31m[21:22:58] src/tree/updater_prune.cc:74: tree pruning end, 1 roots, 666 extra nodes, 0 pruned nodes, max_depth=10\u001b[0m\n",
      "\u001b[31m[423]#011train-rmse:4.01429#011validation-rmse:4.06621\u001b[0m\n",
      "\u001b[31m[21:23:03] src/tree/updater_prune.cc:74: tree pruning end, 1 roots, 614 extra nodes, 0 pruned nodes, max_depth=10\u001b[0m\n",
      "\u001b[31m[424]#011train-rmse:4.01425#011validation-rmse:4.06606\u001b[0m\n",
      "\u001b[31m[21:23:07] src/tree/updater_prune.cc:74: tree pruning end, 1 roots, 554 extra nodes, 0 pruned nodes, max_depth=10\u001b[0m\n",
      "\u001b[31m[425]#011train-rmse:4.01406#011validation-rmse:4.06592\u001b[0m\n",
      "\u001b[31m[21:23:12] src/tree/updater_prune.cc:74: tree pruning end, 1 roots, 668 extra nodes, 0 pruned nodes, max_depth=10\u001b[0m\n",
      "\u001b[31m[426]#011train-rmse:4.01389#011validation-rmse:4.06577\u001b[0m\n",
      "\u001b[31m[21:23:16] src/tree/updater_prune.cc:74: tree pruning end, 1 roots, 524 extra nodes, 0 pruned nodes, max_depth=10\u001b[0m\n",
      "\u001b[31m[427]#011train-rmse:4.01385#011validation-rmse:4.06545\u001b[0m\n",
      "\u001b[31m[21:23:20] src/tree/updater_prune.cc:74: tree pruning end, 1 roots, 578 extra nodes, 0 pruned nodes, max_depth=10\u001b[0m\n",
      "\u001b[31m[428]#011train-rmse:4.01371#011validation-rmse:4.06515\u001b[0m\n",
      "\u001b[31m[21:23:25] src/tree/updater_prune.cc:74: tree pruning end, 1 roots, 734 extra nodes, 0 pruned nodes, max_depth=10\u001b[0m\n",
      "\u001b[31m[429]#011train-rmse:4.01358#011validation-rmse:4.06499\u001b[0m\n",
      "\u001b[31m[21:23:29] src/tree/updater_prune.cc:74: tree pruning end, 1 roots, 566 extra nodes, 0 pruned nodes, max_depth=10\u001b[0m\n",
      "\u001b[31m[430]#011train-rmse:4.01349#011validation-rmse:4.06481\u001b[0m\n",
      "\u001b[31m[21:23:34] src/tree/updater_prune.cc:74: tree pruning end, 1 roots, 624 extra nodes, 0 pruned nodes, max_depth=10\u001b[0m\n",
      "\u001b[31m[431]#011train-rmse:4.01344#011validation-rmse:4.06478\u001b[0m\n",
      "\u001b[31m[21:23:38] src/tree/updater_prune.cc:74: tree pruning end, 1 roots, 628 extra nodes, 0 pruned nodes, max_depth=10\u001b[0m\n",
      "\u001b[31m[432]#011train-rmse:4.01336#011validation-rmse:4.0648\u001b[0m\n",
      "\u001b[31m[21:23:43] src/tree/updater_prune.cc:74: tree pruning end, 1 roots, 698 extra nodes, 0 pruned nodes, max_depth=10\u001b[0m\n",
      "\u001b[31m[433]#011train-rmse:4.01329#011validation-rmse:4.06457\u001b[0m\n",
      "\u001b[31m[21:23:47] src/tree/updater_prune.cc:74: tree pruning end, 1 roots, 606 extra nodes, 0 pruned nodes, max_depth=10\u001b[0m\n",
      "\u001b[31m[434]#011train-rmse:4.01318#011validation-rmse:4.06438\u001b[0m\n",
      "\u001b[31m[21:23:52] src/tree/updater_prune.cc:74: tree pruning end, 1 roots, 698 extra nodes, 0 pruned nodes, max_depth=10\u001b[0m\n",
      "\u001b[31m[435]#011train-rmse:4.01304#011validation-rmse:4.06398\u001b[0m\n",
      "\u001b[31m[21:23:57] src/tree/updater_prune.cc:74: tree pruning end, 1 roots, 778 extra nodes, 0 pruned nodes, max_depth=10\u001b[0m\n",
      "\u001b[31m[436]#011train-rmse:4.01283#011validation-rmse:4.0635\u001b[0m\n",
      "\u001b[31m[21:24:01] src/tree/updater_prune.cc:74: tree pruning end, 1 roots, 618 extra nodes, 0 pruned nodes, max_depth=10\u001b[0m\n",
      "\u001b[31m[437]#011train-rmse:4.01258#011validation-rmse:4.06296\u001b[0m\n",
      "\u001b[31m[21:24:06] src/tree/updater_prune.cc:74: tree pruning end, 1 roots, 684 extra nodes, 0 pruned nodes, max_depth=10\u001b[0m\n",
      "\u001b[31m[438]#011train-rmse:4.01239#011validation-rmse:4.06288\u001b[0m\n",
      "\u001b[31m[21:24:10] src/tree/updater_prune.cc:74: tree pruning end, 1 roots, 612 extra nodes, 0 pruned nodes, max_depth=10\u001b[0m\n",
      "\u001b[31m[439]#011train-rmse:4.01225#011validation-rmse:4.06266\u001b[0m\n",
      "\u001b[31m[21:24:15] src/tree/updater_prune.cc:74: tree pruning end, 1 roots, 688 extra nodes, 0 pruned nodes, max_depth=10\u001b[0m\n",
      "\u001b[31m[440]#011train-rmse:4.01211#011validation-rmse:4.06251\u001b[0m\n",
      "\u001b[31m[21:24:19] src/tree/updater_prune.cc:74: tree pruning end, 1 roots, 712 extra nodes, 0 pruned nodes, max_depth=10\u001b[0m\n",
      "\u001b[31m[441]#011train-rmse:4.01184#011validation-rmse:4.06242\u001b[0m\n",
      "\u001b[31m[21:24:24] src/tree/updater_prune.cc:74: tree pruning end, 1 roots, 746 extra nodes, 0 pruned nodes, max_depth=10\u001b[0m\n",
      "\u001b[31m[442]#011train-rmse:4.01161#011validation-rmse:4.06221\u001b[0m\n",
      "\u001b[31m[21:24:29] src/tree/updater_prune.cc:74: tree pruning end, 1 roots, 690 extra nodes, 0 pruned nodes, max_depth=10\u001b[0m\n",
      "\u001b[31m[443]#011train-rmse:4.0114#011validation-rmse:4.0625\u001b[0m\n",
      "\u001b[31m[21:24:33] src/tree/updater_prune.cc:74: tree pruning end, 1 roots, 604 extra nodes, 0 pruned nodes, max_depth=10\u001b[0m\n",
      "\u001b[31m[444]#011train-rmse:4.01126#011validation-rmse:4.06238\u001b[0m\n"
     ]
    },
    {
     "name": "stdout",
     "output_type": "stream",
     "text": [
      "\u001b[31m[21:24:38] src/tree/updater_prune.cc:74: tree pruning end, 1 roots, 722 extra nodes, 0 pruned nodes, max_depth=10\u001b[0m\n",
      "\u001b[31m[445]#011train-rmse:4.01098#011validation-rmse:4.06194\u001b[0m\n",
      "\u001b[31m[21:24:42] src/tree/updater_prune.cc:74: tree pruning end, 1 roots, 586 extra nodes, 0 pruned nodes, max_depth=10\u001b[0m\n",
      "\u001b[31m[446]#011train-rmse:4.01073#011validation-rmse:4.06172\u001b[0m\n",
      "\u001b[31m[21:24:46] src/tree/updater_prune.cc:74: tree pruning end, 1 roots, 570 extra nodes, 0 pruned nodes, max_depth=10\u001b[0m\n",
      "\u001b[31m[447]#011train-rmse:4.01064#011validation-rmse:4.06177\u001b[0m\n",
      "\u001b[31m[21:24:51] src/tree/updater_prune.cc:74: tree pruning end, 1 roots, 664 extra nodes, 0 pruned nodes, max_depth=10\u001b[0m\n",
      "\u001b[31m[448]#011train-rmse:4.01049#011validation-rmse:4.06141\u001b[0m\n",
      "\u001b[31m[21:24:55] src/tree/updater_prune.cc:74: tree pruning end, 1 roots, 646 extra nodes, 0 pruned nodes, max_depth=10\u001b[0m\n",
      "\u001b[31m[449]#011train-rmse:4.01048#011validation-rmse:4.06139\u001b[0m\n",
      "\u001b[31m[21:25:00] src/tree/updater_prune.cc:74: tree pruning end, 1 roots, 596 extra nodes, 0 pruned nodes, max_depth=10\u001b[0m\n",
      "\u001b[31m[450]#011train-rmse:4.0104#011validation-rmse:4.0614\u001b[0m\n",
      "\u001b[31m[21:25:04] src/tree/updater_prune.cc:74: tree pruning end, 1 roots, 740 extra nodes, 0 pruned nodes, max_depth=10\u001b[0m\n",
      "\u001b[31m[451]#011train-rmse:4.01019#011validation-rmse:4.06149\u001b[0m\n",
      "\u001b[31m[21:25:09] src/tree/updater_prune.cc:74: tree pruning end, 1 roots, 552 extra nodes, 0 pruned nodes, max_depth=10\u001b[0m\n",
      "\u001b[31m[452]#011train-rmse:4.01012#011validation-rmse:4.06111\u001b[0m\n",
      "\u001b[31m[21:25:14] src/tree/updater_prune.cc:74: tree pruning end, 1 roots, 786 extra nodes, 0 pruned nodes, max_depth=10\u001b[0m\n",
      "\u001b[31m[453]#011train-rmse:4.00995#011validation-rmse:4.06127\u001b[0m\n",
      "\u001b[31m[21:25:18] src/tree/updater_prune.cc:74: tree pruning end, 1 roots, 670 extra nodes, 0 pruned nodes, max_depth=10\u001b[0m\n",
      "\u001b[31m[454]#011train-rmse:4.00974#011validation-rmse:4.06094\u001b[0m\n",
      "\u001b[31m[21:25:22] src/tree/updater_prune.cc:74: tree pruning end, 1 roots, 668 extra nodes, 0 pruned nodes, max_depth=10\u001b[0m\n",
      "\u001b[31m[455]#011train-rmse:4.00955#011validation-rmse:4.06079\u001b[0m\n",
      "\u001b[31m[21:25:27] src/tree/updater_prune.cc:74: tree pruning end, 1 roots, 656 extra nodes, 0 pruned nodes, max_depth=10\u001b[0m\n",
      "\u001b[31m[456]#011train-rmse:4.00941#011validation-rmse:4.06062\u001b[0m\n",
      "\u001b[31m[21:25:31] src/tree/updater_prune.cc:74: tree pruning end, 1 roots, 594 extra nodes, 0 pruned nodes, max_depth=10\u001b[0m\n",
      "\u001b[31m[457]#011train-rmse:4.00933#011validation-rmse:4.06034\u001b[0m\n",
      "\u001b[31m[21:25:36] src/tree/updater_prune.cc:74: tree pruning end, 1 roots, 622 extra nodes, 0 pruned nodes, max_depth=10\u001b[0m\n",
      "\u001b[31m[458]#011train-rmse:4.00919#011validation-rmse:4.06038\u001b[0m\n",
      "\u001b[31m[21:25:40] src/tree/updater_prune.cc:74: tree pruning end, 1 roots, 754 extra nodes, 0 pruned nodes, max_depth=10\u001b[0m\n",
      "\u001b[31m[459]#011train-rmse:4.00908#011validation-rmse:4.06029\u001b[0m\n",
      "\u001b[31m[21:25:45] src/tree/updater_prune.cc:74: tree pruning end, 1 roots, 670 extra nodes, 0 pruned nodes, max_depth=10\u001b[0m\n",
      "\u001b[31m[460]#011train-rmse:4.00898#011validation-rmse:4.05997\u001b[0m\n",
      "\u001b[31m[21:25:49] src/tree/updater_prune.cc:74: tree pruning end, 1 roots, 792 extra nodes, 0 pruned nodes, max_depth=10\u001b[0m\n",
      "\u001b[31m[461]#011train-rmse:4.00889#011validation-rmse:4.05965\u001b[0m\n",
      "\u001b[31m[21:25:54] src/tree/updater_prune.cc:74: tree pruning end, 1 roots, 808 extra nodes, 0 pruned nodes, max_depth=10\u001b[0m\n",
      "\u001b[31m[462]#011train-rmse:4.00876#011validation-rmse:4.05983\u001b[0m\n",
      "\u001b[31m[21:25:58] src/tree/updater_prune.cc:74: tree pruning end, 1 roots, 694 extra nodes, 0 pruned nodes, max_depth=10\u001b[0m\n",
      "\u001b[31m[463]#011train-rmse:4.00857#011validation-rmse:4.05973\u001b[0m\n",
      "\u001b[31m[21:26:03] src/tree/updater_prune.cc:74: tree pruning end, 1 roots, 590 extra nodes, 0 pruned nodes, max_depth=10\u001b[0m\n",
      "\u001b[31m[464]#011train-rmse:4.00848#011validation-rmse:4.05996\u001b[0m\n",
      "\u001b[31m[21:26:07] src/tree/updater_prune.cc:74: tree pruning end, 1 roots, 578 extra nodes, 0 pruned nodes, max_depth=10\u001b[0m\n",
      "\u001b[31m[465]#011train-rmse:4.00841#011validation-rmse:4.05954\u001b[0m\n",
      "\u001b[31m[21:26:12] src/tree/updater_prune.cc:74: tree pruning end, 1 roots, 698 extra nodes, 0 pruned nodes, max_depth=10\u001b[0m\n",
      "\u001b[31m[466]#011train-rmse:4.00825#011validation-rmse:4.05932\u001b[0m\n",
      "\u001b[31m[21:26:16] src/tree/updater_prune.cc:74: tree pruning end, 1 roots, 560 extra nodes, 0 pruned nodes, max_depth=10\u001b[0m\n",
      "\u001b[31m[467]#011train-rmse:4.00814#011validation-rmse:4.05922\u001b[0m\n",
      "\u001b[31m[21:26:21] src/tree/updater_prune.cc:74: tree pruning end, 1 roots, 670 extra nodes, 0 pruned nodes, max_depth=10\u001b[0m\n",
      "\u001b[31m[468]#011train-rmse:4.0081#011validation-rmse:4.05917\u001b[0m\n",
      "\u001b[31m[21:26:25] src/tree/updater_prune.cc:74: tree pruning end, 1 roots, 562 extra nodes, 0 pruned nodes, max_depth=10\u001b[0m\n",
      "\u001b[31m[469]#011train-rmse:4.00806#011validation-rmse:4.05931\u001b[0m\n",
      "\u001b[31m[21:26:30] src/tree/updater_prune.cc:74: tree pruning end, 1 roots, 594 extra nodes, 0 pruned nodes, max_depth=10\u001b[0m\n",
      "\u001b[31m[470]#011train-rmse:4.00792#011validation-rmse:4.05937\u001b[0m\n",
      "\u001b[31m[21:26:34] src/tree/updater_prune.cc:74: tree pruning end, 1 roots, 638 extra nodes, 0 pruned nodes, max_depth=10\u001b[0m\n",
      "\u001b[31m[471]#011train-rmse:4.00786#011validation-rmse:4.05918\u001b[0m\n",
      "\u001b[31m[21:26:39] src/tree/updater_prune.cc:74: tree pruning end, 1 roots, 706 extra nodes, 0 pruned nodes, max_depth=10\u001b[0m\n",
      "\u001b[31m[472]#011train-rmse:4.00782#011validation-rmse:4.05884\u001b[0m\n",
      "\u001b[31m[21:26:43] src/tree/updater_prune.cc:74: tree pruning end, 1 roots, 700 extra nodes, 0 pruned nodes, max_depth=10\u001b[0m\n",
      "\u001b[31m[473]#011train-rmse:4.00763#011validation-rmse:4.05885\u001b[0m\n",
      "\u001b[31m[21:26:48] src/tree/updater_prune.cc:74: tree pruning end, 1 roots, 802 extra nodes, 0 pruned nodes, max_depth=10\u001b[0m\n",
      "\u001b[31m[474]#011train-rmse:4.0074#011validation-rmse:4.05879\u001b[0m\n",
      "\u001b[31m[21:26:52] src/tree/updater_prune.cc:74: tree pruning end, 1 roots, 776 extra nodes, 0 pruned nodes, max_depth=10\u001b[0m\n",
      "\u001b[31m[475]#011train-rmse:4.00716#011validation-rmse:4.05853\u001b[0m\n",
      "\u001b[31m[21:26:57] src/tree/updater_prune.cc:74: tree pruning end, 1 roots, 630 extra nodes, 0 pruned nodes, max_depth=10\u001b[0m\n",
      "\u001b[31m[476]#011train-rmse:4.00709#011validation-rmse:4.05868\u001b[0m\n",
      "\u001b[31m[21:27:01] src/tree/updater_prune.cc:74: tree pruning end, 1 roots, 646 extra nodes, 0 pruned nodes, max_depth=10\u001b[0m\n",
      "\u001b[31m[477]#011train-rmse:4.00702#011validation-rmse:4.05818\u001b[0m\n",
      "\u001b[31m[21:27:06] src/tree/updater_prune.cc:74: tree pruning end, 1 roots, 608 extra nodes, 0 pruned nodes, max_depth=10\u001b[0m\n",
      "\u001b[31m[478]#011train-rmse:4.00701#011validation-rmse:4.05803\u001b[0m\n",
      "\u001b[31m[21:27:10] src/tree/updater_prune.cc:74: tree pruning end, 1 roots, 754 extra nodes, 0 pruned nodes, max_depth=10\u001b[0m\n",
      "\u001b[31m[479]#011train-rmse:4.00683#011validation-rmse:4.05797\u001b[0m\n",
      "\u001b[31m[21:27:15] src/tree/updater_prune.cc:74: tree pruning end, 1 roots, 624 extra nodes, 0 pruned nodes, max_depth=10\u001b[0m\n",
      "\u001b[31m[480]#011train-rmse:4.00684#011validation-rmse:4.05766\u001b[0m\n",
      "\u001b[31m[21:27:19] src/tree/updater_prune.cc:74: tree pruning end, 1 roots, 682 extra nodes, 0 pruned nodes, max_depth=10\u001b[0m\n",
      "\u001b[31m[481]#011train-rmse:4.00673#011validation-rmse:4.05752\u001b[0m\n",
      "\u001b[31m[21:27:24] src/tree/updater_prune.cc:74: tree pruning end, 1 roots, 612 extra nodes, 0 pruned nodes, max_depth=10\u001b[0m\n",
      "\u001b[31m[482]#011train-rmse:4.00664#011validation-rmse:4.05758\u001b[0m\n",
      "\u001b[31m[21:27:28] src/tree/updater_prune.cc:74: tree pruning end, 1 roots, 650 extra nodes, 0 pruned nodes, max_depth=10\u001b[0m\n",
      "\u001b[31m[483]#011train-rmse:4.00652#011validation-rmse:4.05737\u001b[0m\n",
      "\u001b[31m[21:27:33] src/tree/updater_prune.cc:74: tree pruning end, 1 roots, 550 extra nodes, 0 pruned nodes, max_depth=10\u001b[0m\n",
      "\u001b[31m[484]#011train-rmse:4.0065#011validation-rmse:4.05748\u001b[0m\n",
      "\u001b[31m[21:27:38] src/tree/updater_prune.cc:74: tree pruning end, 1 roots, 708 extra nodes, 0 pruned nodes, max_depth=10\u001b[0m\n",
      "\u001b[31m[485]#011train-rmse:4.00638#011validation-rmse:4.05752\u001b[0m\n",
      "\u001b[31m[21:27:42] src/tree/updater_prune.cc:74: tree pruning end, 1 roots, 670 extra nodes, 0 pruned nodes, max_depth=10\u001b[0m\n",
      "\u001b[31m[486]#011train-rmse:4.00614#011validation-rmse:4.05726\u001b[0m\n",
      "\u001b[31m[21:27:46] src/tree/updater_prune.cc:74: tree pruning end, 1 roots, 498 extra nodes, 0 pruned nodes, max_depth=10\u001b[0m\n",
      "\u001b[31m[487]#011train-rmse:4.00608#011validation-rmse:4.05714\u001b[0m\n",
      "\u001b[31m[21:27:51] src/tree/updater_prune.cc:74: tree pruning end, 1 roots, 630 extra nodes, 0 pruned nodes, max_depth=10\u001b[0m\n",
      "\u001b[31m[488]#011train-rmse:4.00605#011validation-rmse:4.05748\u001b[0m\n"
     ]
    },
    {
     "name": "stdout",
     "output_type": "stream",
     "text": [
      "\u001b[31m[21:27:56] src/tree/updater_prune.cc:74: tree pruning end, 1 roots, 742 extra nodes, 0 pruned nodes, max_depth=10\u001b[0m\n",
      "\u001b[31m[489]#011train-rmse:4.00596#011validation-rmse:4.05748\u001b[0m\n",
      "\u001b[31m[21:28:00] src/tree/updater_prune.cc:74: tree pruning end, 1 roots, 612 extra nodes, 0 pruned nodes, max_depth=10\u001b[0m\n",
      "\u001b[31m[490]#011train-rmse:4.00585#011validation-rmse:4.05788\u001b[0m\n",
      "\u001b[31m[21:28:05] src/tree/updater_prune.cc:74: tree pruning end, 1 roots, 762 extra nodes, 0 pruned nodes, max_depth=10\u001b[0m\n",
      "\u001b[31m[491]#011train-rmse:4.0057#011validation-rmse:4.05779\u001b[0m\n",
      "\u001b[31m[21:28:09] src/tree/updater_prune.cc:74: tree pruning end, 1 roots, 650 extra nodes, 0 pruned nodes, max_depth=10\u001b[0m\n",
      "\u001b[31m[492]#011train-rmse:4.00568#011validation-rmse:4.05774\u001b[0m\n",
      "\u001b[31m[21:28:14] src/tree/updater_prune.cc:74: tree pruning end, 1 roots, 742 extra nodes, 0 pruned nodes, max_depth=10\u001b[0m\n",
      "\u001b[31m[493]#011train-rmse:4.00555#011validation-rmse:4.05771\u001b[0m\n",
      "\u001b[31m[21:28:18] src/tree/updater_prune.cc:74: tree pruning end, 1 roots, 640 extra nodes, 0 pruned nodes, max_depth=10\u001b[0m\n",
      "\u001b[31m[494]#011train-rmse:4.00552#011validation-rmse:4.0577\u001b[0m\n",
      "\u001b[31m[21:28:23] src/tree/updater_prune.cc:74: tree pruning end, 1 roots, 520 extra nodes, 0 pruned nodes, max_depth=10\u001b[0m\n",
      "\u001b[31m[495]#011train-rmse:4.0054#011validation-rmse:4.05784\u001b[0m\n",
      "\u001b[31m[21:28:27] src/tree/updater_prune.cc:74: tree pruning end, 1 roots, 664 extra nodes, 0 pruned nodes, max_depth=10\u001b[0m\n",
      "\u001b[31m[496]#011train-rmse:4.00536#011validation-rmse:4.05752\u001b[0m\n",
      "\u001b[31m[21:28:32] src/tree/updater_prune.cc:74: tree pruning end, 1 roots, 632 extra nodes, 0 pruned nodes, max_depth=10\u001b[0m\n",
      "\u001b[31m[497]#011train-rmse:4.00528#011validation-rmse:4.05703\u001b[0m\n",
      "\u001b[31m[21:28:36] src/tree/updater_prune.cc:74: tree pruning end, 1 roots, 620 extra nodes, 0 pruned nodes, max_depth=10\u001b[0m\n",
      "\u001b[31m[498]#011train-rmse:4.00513#011validation-rmse:4.05676\u001b[0m\n",
      "\u001b[31m[21:28:41] src/tree/updater_prune.cc:74: tree pruning end, 1 roots, 618 extra nodes, 0 pruned nodes, max_depth=10\u001b[0m\n",
      "\u001b[31m[499]#011train-rmse:4.00509#011validation-rmse:4.05689\u001b[0m\n",
      "\u001b[31m[21:28:45] src/tree/updater_prune.cc:74: tree pruning end, 1 roots, 706 extra nodes, 0 pruned nodes, max_depth=10\u001b[0m\n",
      "\u001b[31m[500]#011train-rmse:4.00499#011validation-rmse:4.05655\u001b[0m\n",
      "\u001b[31m[21:28:50] src/tree/updater_prune.cc:74: tree pruning end, 1 roots, 668 extra nodes, 0 pruned nodes, max_depth=10\u001b[0m\n",
      "\u001b[31m[501]#011train-rmse:4.00479#011validation-rmse:4.0568\u001b[0m\n",
      "\u001b[31m[21:28:54] src/tree/updater_prune.cc:74: tree pruning end, 1 roots, 732 extra nodes, 0 pruned nodes, max_depth=10\u001b[0m\n",
      "\u001b[31m[502]#011train-rmse:4.00471#011validation-rmse:4.05688\u001b[0m\n",
      "\u001b[31m[21:28:59] src/tree/updater_prune.cc:74: tree pruning end, 1 roots, 842 extra nodes, 0 pruned nodes, max_depth=10\u001b[0m\n",
      "\u001b[31m[503]#011train-rmse:4.0045#011validation-rmse:4.05662\u001b[0m\n",
      "\u001b[31m[21:29:04] src/tree/updater_prune.cc:74: tree pruning end, 1 roots, 648 extra nodes, 0 pruned nodes, max_depth=10\u001b[0m\n",
      "\u001b[31m[504]#011train-rmse:4.00441#011validation-rmse:4.05638\u001b[0m\n",
      "\u001b[31m[21:29:08] src/tree/updater_prune.cc:74: tree pruning end, 1 roots, 624 extra nodes, 0 pruned nodes, max_depth=10\u001b[0m\n",
      "\u001b[31m[505]#011train-rmse:4.00434#011validation-rmse:4.05629\u001b[0m\n",
      "\u001b[31m[21:29:13] src/tree/updater_prune.cc:74: tree pruning end, 1 roots, 576 extra nodes, 0 pruned nodes, max_depth=10\u001b[0m\n",
      "\u001b[31m[506]#011train-rmse:4.00426#011validation-rmse:4.05601\u001b[0m\n",
      "\u001b[31m[21:29:17] src/tree/updater_prune.cc:74: tree pruning end, 1 roots, 732 extra nodes, 0 pruned nodes, max_depth=10\u001b[0m\n",
      "\u001b[31m[507]#011train-rmse:4.00411#011validation-rmse:4.0561\u001b[0m\n",
      "\u001b[31m[21:29:22] src/tree/updater_prune.cc:74: tree pruning end, 1 roots, 646 extra nodes, 0 pruned nodes, max_depth=10\u001b[0m\n",
      "\u001b[31m[508]#011train-rmse:4.00401#011validation-rmse:4.05602\u001b[0m\n",
      "\u001b[31m[21:29:26] src/tree/updater_prune.cc:74: tree pruning end, 1 roots, 586 extra nodes, 0 pruned nodes, max_depth=10\u001b[0m\n",
      "\u001b[31m[509]#011train-rmse:4.00396#011validation-rmse:4.0557\u001b[0m\n",
      "\u001b[31m[21:29:31] src/tree/updater_prune.cc:74: tree pruning end, 1 roots, 648 extra nodes, 0 pruned nodes, max_depth=10\u001b[0m\n",
      "\u001b[31m[510]#011train-rmse:4.00383#011validation-rmse:4.05542\u001b[0m\n",
      "\u001b[31m[21:29:35] src/tree/updater_prune.cc:74: tree pruning end, 1 roots, 626 extra nodes, 0 pruned nodes, max_depth=10\u001b[0m\n",
      "\u001b[31m[511]#011train-rmse:4.00377#011validation-rmse:4.05578\u001b[0m\n",
      "\u001b[31m[21:29:40] src/tree/updater_prune.cc:74: tree pruning end, 1 roots, 770 extra nodes, 0 pruned nodes, max_depth=10\u001b[0m\n",
      "\u001b[31m[512]#011train-rmse:4.00362#011validation-rmse:4.05537\u001b[0m\n",
      "\u001b[31m[21:29:44] src/tree/updater_prune.cc:74: tree pruning end, 1 roots, 558 extra nodes, 0 pruned nodes, max_depth=10\u001b[0m\n",
      "\u001b[31m[513]#011train-rmse:4.00361#011validation-rmse:4.05516\u001b[0m\n",
      "\u001b[31m[21:29:49] src/tree/updater_prune.cc:74: tree pruning end, 1 roots, 612 extra nodes, 0 pruned nodes, max_depth=10\u001b[0m\n",
      "\u001b[31m[514]#011train-rmse:4.00358#011validation-rmse:4.05483\u001b[0m\n",
      "\u001b[31m[21:29:54] src/tree/updater_prune.cc:74: tree pruning end, 1 roots, 808 extra nodes, 0 pruned nodes, max_depth=10\u001b[0m\n",
      "\u001b[31m[515]#011train-rmse:4.00342#011validation-rmse:4.05475\u001b[0m\n",
      "\u001b[31m[21:29:58] src/tree/updater_prune.cc:74: tree pruning end, 1 roots, 586 extra nodes, 0 pruned nodes, max_depth=10\u001b[0m\n",
      "\u001b[31m[516]#011train-rmse:4.00339#011validation-rmse:4.05521\u001b[0m\n",
      "\u001b[31m[21:30:03] src/tree/updater_prune.cc:74: tree pruning end, 1 roots, 736 extra nodes, 0 pruned nodes, max_depth=10\u001b[0m\n",
      "\u001b[31m[517]#011train-rmse:4.00319#011validation-rmse:4.05542\u001b[0m\n",
      "\u001b[31m[21:30:07] src/tree/updater_prune.cc:74: tree pruning end, 1 roots, 594 extra nodes, 0 pruned nodes, max_depth=10\u001b[0m\n",
      "\u001b[31m[518]#011train-rmse:4.00314#011validation-rmse:4.05539\u001b[0m\n",
      "\u001b[31m[21:30:12] src/tree/updater_prune.cc:74: tree pruning end, 1 roots, 580 extra nodes, 0 pruned nodes, max_depth=10\u001b[0m\n",
      "\u001b[31m[519]#011train-rmse:4.00312#011validation-rmse:4.05551\u001b[0m\n",
      "\u001b[31m[21:30:16] src/tree/updater_prune.cc:74: tree pruning end, 1 roots, 658 extra nodes, 0 pruned nodes, max_depth=10\u001b[0m\n",
      "\u001b[31m[520]#011train-rmse:4.00307#011validation-rmse:4.0551\u001b[0m\n",
      "\u001b[31m[21:30:21] src/tree/updater_prune.cc:74: tree pruning end, 1 roots, 654 extra nodes, 0 pruned nodes, max_depth=10\u001b[0m\n",
      "\u001b[31m[521]#011train-rmse:4.00295#011validation-rmse:4.05508\u001b[0m\n",
      "\u001b[31m[21:30:25] src/tree/updater_prune.cc:74: tree pruning end, 1 roots, 552 extra nodes, 0 pruned nodes, max_depth=10\u001b[0m\n",
      "\u001b[31m[522]#011train-rmse:4.00288#011validation-rmse:4.05486\u001b[0m\n",
      "\u001b[31m[21:30:30] src/tree/updater_prune.cc:74: tree pruning end, 1 roots, 600 extra nodes, 0 pruned nodes, max_depth=10\u001b[0m\n",
      "\u001b[31m[523]#011train-rmse:4.00286#011validation-rmse:4.05478\u001b[0m\n",
      "\u001b[31m[21:30:34] src/tree/updater_prune.cc:74: tree pruning end, 1 roots, 728 extra nodes, 0 pruned nodes, max_depth=10\u001b[0m\n",
      "\u001b[31m[524]#011train-rmse:4.0027#011validation-rmse:4.05442\u001b[0m\n",
      "\u001b[31m[21:30:39] src/tree/updater_prune.cc:74: tree pruning end, 1 roots, 614 extra nodes, 0 pruned nodes, max_depth=10\u001b[0m\n",
      "\u001b[31m[525]#011train-rmse:4.00263#011validation-rmse:4.05452\u001b[0m\n",
      "\u001b[31m[21:30:43] src/tree/updater_prune.cc:74: tree pruning end, 1 roots, 662 extra nodes, 0 pruned nodes, max_depth=10\u001b[0m\n",
      "\u001b[31m[526]#011train-rmse:4.00246#011validation-rmse:4.05459\u001b[0m\n",
      "\u001b[31m[21:30:47] src/tree/updater_prune.cc:74: tree pruning end, 1 roots, 592 extra nodes, 0 pruned nodes, max_depth=10\u001b[0m\n",
      "\u001b[31m[527]#011train-rmse:4.0024#011validation-rmse:4.05413\u001b[0m\n",
      "\u001b[31m[21:30:52] src/tree/updater_prune.cc:74: tree pruning end, 1 roots, 620 extra nodes, 0 pruned nodes, max_depth=10\u001b[0m\n",
      "\u001b[31m[528]#011train-rmse:4.00233#011validation-rmse:4.05386\u001b[0m\n",
      "\u001b[31m[21:30:57] src/tree/updater_prune.cc:74: tree pruning end, 1 roots, 670 extra nodes, 0 pruned nodes, max_depth=10\u001b[0m\n",
      "\u001b[31m[529]#011train-rmse:4.00224#011validation-rmse:4.05389\u001b[0m\n",
      "\u001b[31m[21:31:01] src/tree/updater_prune.cc:74: tree pruning end, 1 roots, 696 extra nodes, 0 pruned nodes, max_depth=10\u001b[0m\n",
      "\u001b[31m[530]#011train-rmse:4.00207#011validation-rmse:4.05441\u001b[0m\n",
      "\u001b[31m[21:31:06] src/tree/updater_prune.cc:74: tree pruning end, 1 roots, 640 extra nodes, 0 pruned nodes, max_depth=10\u001b[0m\n",
      "\u001b[31m[531]#011train-rmse:4.002#011validation-rmse:4.05409\u001b[0m\n",
      "\u001b[31m[21:31:10] src/tree/updater_prune.cc:74: tree pruning end, 1 roots, 628 extra nodes, 0 pruned nodes, max_depth=10\u001b[0m\n",
      "\u001b[31m[532]#011train-rmse:4.00195#011validation-rmse:4.05384\u001b[0m\n"
     ]
    },
    {
     "name": "stdout",
     "output_type": "stream",
     "text": [
      "\u001b[31m[21:31:15] src/tree/updater_prune.cc:74: tree pruning end, 1 roots, 600 extra nodes, 0 pruned nodes, max_depth=10\u001b[0m\n",
      "\u001b[31m[533]#011train-rmse:4.00186#011validation-rmse:4.05379\u001b[0m\n",
      "\u001b[31m[21:31:19] src/tree/updater_prune.cc:74: tree pruning end, 1 roots, 612 extra nodes, 0 pruned nodes, max_depth=10\u001b[0m\n",
      "\u001b[31m[534]#011train-rmse:4.00181#011validation-rmse:4.05358\u001b[0m\n",
      "\u001b[31m[21:31:24] src/tree/updater_prune.cc:74: tree pruning end, 1 roots, 572 extra nodes, 0 pruned nodes, max_depth=10\u001b[0m\n",
      "\u001b[31m[535]#011train-rmse:4.00175#011validation-rmse:4.05346\u001b[0m\n",
      "\u001b[31m[21:31:28] src/tree/updater_prune.cc:74: tree pruning end, 1 roots, 566 extra nodes, 0 pruned nodes, max_depth=10\u001b[0m\n",
      "\u001b[31m[536]#011train-rmse:4.00169#011validation-rmse:4.05341\u001b[0m\n",
      "\u001b[31m[21:31:33] src/tree/updater_prune.cc:74: tree pruning end, 1 roots, 678 extra nodes, 0 pruned nodes, max_depth=10\u001b[0m\n",
      "\u001b[31m[537]#011train-rmse:4.00149#011validation-rmse:4.05329\u001b[0m\n",
      "\u001b[31m[21:31:37] src/tree/updater_prune.cc:74: tree pruning end, 1 roots, 612 extra nodes, 0 pruned nodes, max_depth=10\u001b[0m\n",
      "\u001b[31m[538]#011train-rmse:4.00135#011validation-rmse:4.05323\u001b[0m\n",
      "\u001b[31m[21:31:42] src/tree/updater_prune.cc:74: tree pruning end, 1 roots, 614 extra nodes, 0 pruned nodes, max_depth=10\u001b[0m\n",
      "\u001b[31m[539]#011train-rmse:4.00128#011validation-rmse:4.05368\u001b[0m\n",
      "\u001b[31m[21:31:46] src/tree/updater_prune.cc:74: tree pruning end, 1 roots, 602 extra nodes, 0 pruned nodes, max_depth=10\u001b[0m\n",
      "\u001b[31m[540]#011train-rmse:4.00125#011validation-rmse:4.05381\u001b[0m\n",
      "\u001b[31m[21:31:51] src/tree/updater_prune.cc:74: tree pruning end, 1 roots, 772 extra nodes, 0 pruned nodes, max_depth=10\u001b[0m\n",
      "\u001b[31m[541]#011train-rmse:4.00121#011validation-rmse:4.05415\u001b[0m\n",
      "\u001b[31m[21:31:55] src/tree/updater_prune.cc:74: tree pruning end, 1 roots, 718 extra nodes, 0 pruned nodes, max_depth=10\u001b[0m\n",
      "\u001b[31m[542]#011train-rmse:4.00115#011validation-rmse:4.05443\u001b[0m\n",
      "\u001b[31m[21:32:00] src/tree/updater_prune.cc:74: tree pruning end, 1 roots, 626 extra nodes, 0 pruned nodes, max_depth=10\u001b[0m\n",
      "\u001b[31m[543]#011train-rmse:4.00105#011validation-rmse:4.05429\u001b[0m\n",
      "\u001b[31m[21:32:04] src/tree/updater_prune.cc:74: tree pruning end, 1 roots, 640 extra nodes, 0 pruned nodes, max_depth=10\u001b[0m\n",
      "\u001b[31m[544]#011train-rmse:4.00105#011validation-rmse:4.05453\u001b[0m\n",
      "\n",
      "2019-07-19 21:32:23 Uploading - Uploading generated training model\u001b[31m[21:32:09] src/tree/updater_prune.cc:74: tree pruning end, 1 roots, 584 extra nodes, 0 pruned nodes, max_depth=10\u001b[0m\n",
      "\u001b[31m[545]#011train-rmse:4.00099#011validation-rmse:4.05429\u001b[0m\n",
      "\u001b[31m[21:32:13] src/tree/updater_prune.cc:74: tree pruning end, 1 roots, 572 extra nodes, 0 pruned nodes, max_depth=10\u001b[0m\n",
      "\u001b[31m[546]#011train-rmse:4.00095#011validation-rmse:4.05417\u001b[0m\n",
      "\u001b[31m[21:32:18] src/tree/updater_prune.cc:74: tree pruning end, 1 roots, 662 extra nodes, 0 pruned nodes, max_depth=10\u001b[0m\n",
      "\u001b[31m[547]#011train-rmse:4.00085#011validation-rmse:4.05408\u001b[0m\n",
      "\u001b[31m[21:32:22] src/tree/updater_prune.cc:74: tree pruning end, 1 roots, 644 extra nodes, 0 pruned nodes, max_depth=10\u001b[0m\n",
      "\u001b[31m[548]#011train-rmse:4.0008#011validation-rmse:4.05395\u001b[0m\n",
      "\u001b[31mStopping. Best iteration:\u001b[0m\n",
      "\u001b[31m[538]#011train-rmse:4.00135#011validation-rmse:4.05323\n",
      "\u001b[0m\n",
      "\n",
      "2019-07-19 21:32:30 Completed - Training job completed\n",
      "Billable seconds: 2542\n"
     ]
    }
   ],
   "source": [
    "# Get the csv input data from S3. \n",
    "# Use training data to train the model and use the validation data to control overfitting.\n",
    "s3_input_train = sagemaker.s3_input(s3_data=train_location, content_type='csv')\n",
    "s3_input_validation = sagemaker.s3_input(s3_data=val_location, content_type='csv')\n",
    "\n",
    "xgb.fit({'train': s3_input_train, 'validation': s3_input_validation})"
   ]
  },
  {
   "cell_type": "markdown",
   "metadata": {},
   "source": [
    "## Step 6: Use the trained model to make predictions on test data\n",
    "\n",
    "Use the model to make a prediction on the test data. Use SageMaker module to build a transformer; use the transformer to make the predictions. The transformer object will take advantage of sagemaker's batch transform functionality."
   ]
  },
  {
   "cell_type": "code",
   "execution_count": 32,
   "metadata": {},
   "outputs": [],
   "source": [
    "# Create transformer object and make predictions.\n",
    "xgb_transformer = xgb.transformer(instance_count = 1, instance_type = 'ml.m4.xlarge')"
   ]
  },
  {
   "cell_type": "code",
   "execution_count": 33,
   "metadata": {},
   "outputs": [],
   "source": [
    "xgb_transformer.transform(test_location, content_type='text/csv', split_type='Line')"
   ]
  },
  {
   "cell_type": "code",
   "execution_count": 34,
   "metadata": {},
   "outputs": [
    {
     "name": "stdout",
     "output_type": "stream",
     "text": [
      ".................................................!\n"
     ]
    }
   ],
   "source": [
    "xgb_transformer.wait()"
   ]
  },
  {
   "cell_type": "markdown",
   "metadata": {},
   "source": [
    "## Step 7: Evaluate the model\n",
    "\n",
    "Here I first build a base model using the average price across all data points. The RMSE error calculated using this information will later be used to evaluate the SageMaker XGBoost model's performance."
   ]
  },
  {
   "cell_type": "code",
   "execution_count": 35,
   "metadata": {},
   "outputs": [
    {
     "name": "stdout",
     "output_type": "stream",
     "text": [
      "RMSE BASE: 25.803036\n"
     ]
    }
   ],
   "source": [
    "# Create base model and calculate RMSE\n",
    "avg_price=np.mean(Y_test)\n",
    "\n",
    "Y_base=np.full_like(Y_test, avg_price)\n",
    "\n",
    "rmse_base = np.sqrt(mean_squared_error(Y_test, Y_base))\n",
    "print(\"RMSE BASE: %f\" % (rmse_base))"
   ]
  },
  {
   "cell_type": "markdown",
   "metadata": {},
   "source": [
    "Get the predictions from S3. Calculate the RMSE and visualize with a scatterplot."
   ]
  },
  {
   "cell_type": "code",
   "execution_count": 36,
   "metadata": {},
   "outputs": [
    {
     "name": "stdout",
     "output_type": "stream",
     "text": [
      "download: s3://sagemaker-us-east-2-342322197210/xgboost-2019-07-19-21-33-23-496/test.csv.out to ../data/renfe/test.csv.out\n"
     ]
    }
   ],
   "source": [
    "!aws s3 cp --recursive $xgb_transformer.output_path $data_dir"
   ]
  },
  {
   "cell_type": "code",
   "execution_count": 37,
   "metadata": {},
   "outputs": [],
   "source": [
    "Y_pred = pd.read_csv(os.path.join(data_dir, 'test.csv.out'), header=None)"
   ]
  },
  {
   "cell_type": "code",
   "execution_count": 38,
   "metadata": {},
   "outputs": [
    {
     "name": "stdout",
     "output_type": "stream",
     "text": [
      "RMSE: 4.078219\n"
     ]
    }
   ],
   "source": [
    "rmse = np.sqrt(mean_squared_error(Y_test, Y_pred))\n",
    "print(\"RMSE: %f\" % (rmse))"
   ]
  },
  {
   "cell_type": "code",
   "execution_count": 39,
   "metadata": {},
   "outputs": [
    {
     "data": {
      "text/plain": [
       "Text(0.5, 1.0, 'Actual Renfe Price vs Predicted Price')"
      ]
     },
     "execution_count": 39,
     "metadata": {},
     "output_type": "execute_result"
    },
    {
     "data": {
      "image/png": "[encoded data removed]",
      "text/plain": [
       "<Figure size 432x288 with 1 Axes>"
      ]
     },
     "metadata": {},
     "output_type": "display_data"
    }
   ],
   "source": [
    "plt.scatter(Y_test, Y_pred)\n",
    "plt.xlabel(\"Actual Renfe Ticket Price\")\n",
    "plt.ylabel(\"Predicted Price\")\n",
    "plt.title(\"Actual Renfe Price vs Predicted Price\")"
   ]
  },
  {
   "cell_type": "markdown",
   "metadata": {},
   "source": [
    "## Step 8: Comparison with LGBMRegressor\n",
    "\n",
    "LightGBM Regressor implemented by Microsoft provides another way to build regression models. It boosts high accuracy with high efficiency and fast speed. Here I build a LGBM regression model to compare with the XGBoost model."
   ]
  },
  {
   "cell_type": "code",
   "execution_count": 41,
   "metadata": {},
   "outputs": [
    {
     "name": "stdout",
     "output_type": "stream",
     "text": [
      "Collecting lightgbm\n",
      "\u001b[?25l  Downloading https://files.pythonhosted.org/packages/77/0f/5157e6b153b3d4a70dc5fbe2ab6f209604197590f387f03177b7a249ac60/lightgbm-2.2.3-py2.py3-none-manylinux1_x86_64.whl (1.2MB)\n",
      "\u001b[K    100% |████████████████████████████████| 1.2MB 21.7MB/s ta 0:00:01\n",
      "\u001b[?25hRequirement already satisfied: numpy in /home/ec2-user/anaconda3/envs/pytorch_p36/lib/python3.6/site-packages (from lightgbm) (1.15.4)\n",
      "Requirement already satisfied: scikit-learn in /home/ec2-user/anaconda3/envs/pytorch_p36/lib/python3.6/site-packages (from lightgbm) (0.20.3)\n",
      "Requirement already satisfied: scipy in /home/ec2-user/anaconda3/envs/pytorch_p36/lib/python3.6/site-packages (from lightgbm) (1.1.0)\n",
      "\u001b[31mfastai 1.0.52 requires nvidia-ml-py3, which is not installed.\u001b[0m\n",
      "\u001b[31mthinc 6.12.1 has requirement msgpack<0.6.0,>=0.5.6, but you'll have msgpack 0.6.0 which is incompatible.\u001b[0m\n",
      "Installing collected packages: lightgbm\n",
      "Successfully installed lightgbm-2.2.3\n",
      "\u001b[33mYou are using pip version 10.0.1, however version 19.1.1 is available.\n",
      "You should consider upgrading via the 'pip install --upgrade pip' command.\u001b[0m\n"
     ]
    }
   ],
   "source": [
    "!pip install lightgbm"
   ]
  },
  {
   "cell_type": "code",
   "execution_count": 42,
   "metadata": {},
   "outputs": [],
   "source": [
    "from lightgbm import LGBMRegressor"
   ]
  },
  {
   "cell_type": "code",
   "execution_count": 43,
   "metadata": {},
   "outputs": [
    {
     "data": {
      "text/plain": [
       "GridSearchCV(cv=3, error_score='raise-deprecating',\n",
       "       estimator=LGBMRegressor(boosting_type='gbdt', class_weight=None, colsample_bytree=1.0,\n",
       "       importance_type='split', learning_rate=0.1, max_depth=-1,\n",
       "       min_child_samples=20, min_child_weight=0.001, min_split_gain=0.0,\n",
       "       n_estimators=100, n_jobs=-1, nthread=-1, num_leaves=31,\n",
       "       objective=None, random_state=None, reg_alpha=0.0, reg_lambda=0.0,\n",
       "       silent=True, subsample=1.0, subsample_for_bin=200000,\n",
       "       subsample_freq=0),\n",
       "       fit_params=None, iid='warn', n_jobs=None,\n",
       "       param_grid={'min_child_weight': [5, 7, 9], 'max_depth': [7, 8, 10], 'learning_rate': [0.2, 0.9], 'subsample': [0.5], 'n_estimators': [500]},\n",
       "       pre_dispatch='2*n_jobs', refit=True, return_train_score='warn',\n",
       "       scoring='explained_variance', verbose=0)"
      ]
     },
     "execution_count": 43,
     "metadata": {},
     "output_type": "execute_result"
    }
   ],
   "source": [
    "params = {'min_child_weight':[5,7,9],\n",
    "          'max_depth': [7,8,10],  \n",
    "          'learning_rate': [0.2, 0.9],\n",
    "          'subsample':[0.5],\n",
    "          'n_estimators': [500]\n",
    "         }\n",
    "\n",
    "# Initialize lgbm and GridSearch\n",
    "lg = LGBMRegressor(nthread=-1) \n",
    "\n",
    "lg_grid = GridSearchCV(lg, params, scoring='explained_variance', cv=3)\n",
    "lg_grid.fit(X_train_small, Y_train_small)"
   ]
  },
  {
   "cell_type": "code",
   "execution_count": 44,
   "metadata": {},
   "outputs": [
    {
     "name": "stdout",
     "output_type": "stream",
     "text": [
      "LGBM Best Estimator\t{'learning_rate': 0.9, 'max_depth': 10, 'min_child_weight': 5, 'n_estimators': 500, 'subsample': 0.5}\t0.987145\n"
     ]
    }
   ],
   "source": [
    "lg_best_params = lg_grid.best_params_\n",
    "lg_model = lg_grid.best_estimator_\n",
    "lg_score = lg_grid.best_score_\n",
    "\n",
    "print('LGBM Best Estimator\\t%s\\t%f' % (str(lg_best_params) ,abs(lg_score)))"
   ]
  },
  {
   "cell_type": "code",
   "execution_count": 45,
   "metadata": {},
   "outputs": [
    {
     "data": {
      "text/plain": [
       "LGBMRegressor(boosting_type='gbdt', class_weight=None, colsample_bytree=1.0,\n",
       "       importance_type='split', learning_rate=0.9, max_depth=10,\n",
       "       min_child_samples=20, min_child_weight=5, min_split_gain=0.0,\n",
       "       n_estimators=1500, n_jobs=-1, num_leaves=31, objective=None,\n",
       "       random_state=None, reg_alpha=0.0, reg_lambda=0.0, silent=True,\n",
       "       subsample=0.5, subsample_for_bin=200000, subsample_freq=0)"
      ]
     },
     "execution_count": 45,
     "metadata": {},
     "output_type": "execute_result"
    }
   ],
   "source": [
    "# Create LGBMRegressor model, train the model, and evaluate the results using RMSE\n",
    "lg_best = LGBMRegressor(learning_rate=0.9, max_depth=10,\n",
    "              min_child_weight=5, \n",
    "              n_estimators=1500, subsample=0.5)\n",
    "lg_best.fit(X_train,Y_train)"
   ]
  },
  {
   "cell_type": "code",
   "execution_count": 47,
   "metadata": {},
   "outputs": [],
   "source": [
    "lg_predict=lg_best.predict(X_test)"
   ]
  },
  {
   "cell_type": "code",
   "execution_count": 48,
   "metadata": {},
   "outputs": [
    {
     "name": "stdout",
     "output_type": "stream",
     "text": [
      "RMSE for the LGBMRegressor Model: 4.077380\n"
     ]
    }
   ],
   "source": [
    "rmse_lg = np.sqrt(mean_squared_error(Y_test, lg_predict))\n",
    "print(\"RMSE for the LGBMRegressor Model: %f\" % (rmse_lg))"
   ]
  },
  {
   "cell_type": "code",
   "execution_count": 49,
   "metadata": {},
   "outputs": [
    {
     "data": {
      "text/plain": [
       "Text(0.5, 1.0, 'Actual Renfe Price vs LGBMRegressor Predicted Price')"
      ]
     },
     "execution_count": 49,
     "metadata": {},
     "output_type": "execute_result"
    },
    {
     "data": {
      "image/png": "[encoded data removed]",
      "text/plain": [
       "<Figure size 432x288 with 1 Axes>"
      ]
     },
     "metadata": {},
     "output_type": "display_data"
    }
   ],
   "source": [
    "plt.scatter(Y_test, lg_predict)\n",
    "plt.xlabel(\"Actual Renfe Ticket Price\")\n",
    "plt.ylabel(\"LGBMRegressor Predicted Price\")\n",
    "plt.title(\"Actual Renfe Price vs LGBMRegressor Predicted Price\")"
   ]
  },
  {
   "cell_type": "code",
   "execution_count": 50,
   "metadata": {},
   "outputs": [],
   "source": [
    "def plot_feature(alg,dtrain,top=25):\n",
    "    \"\"\"Feature importance plot\"\"\"\n",
    "    feat_imp = pd.Series(alg.feature_importances_,index=dtrain.columns).sort_values(ascending=False)[0:top]\n",
    "    feat_imp.plot(kind='bar', title='top {} Feature Importances'.format(top))\n",
    "    plt.ylabel('Feature Importance Score')\n",
    "    plt.show()"
   ]
  },
  {
   "cell_type": "code",
   "execution_count": 51,
   "metadata": {},
   "outputs": [
    {
     "data": {
      "image/png": "[encoded data removed]",
      "text/plain": [
       "<Figure size 1008x576 with 1 Axes>"
      ]
     },
     "metadata": {},
     "output_type": "display_data"
    }
   ],
   "source": [
    "plt.figure(figsize=(14,8))\n",
    "plot_feature(lg_best,dtrain=X_train)"
   ]
  },
  {
   "cell_type": "code",
   "execution_count": null,
   "metadata": {},
   "outputs": [],
   "source": []
  }
 ],
 "metadata": {
  "kernelspec": {
   "display_name": "conda_pytorch_p36",
   "language": "python",
   "name": "conda_pytorch_p36"
  },
  "language_info": {
   "codemirror_mode": {
    "name": "ipython",
    "version": 3
   },
   "file_extension": ".py",
   "mimetype": "text/x-python",
   "name": "python",
   "nbconvert_exporter": "python",
   "pygments_lexer": "ipython3",
   "version": "3.6.5"
  }
 },
 "nbformat": 4,
 "nbformat_minor": 2
}
